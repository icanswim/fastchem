{
 "cells": [
  {
   "cell_type": "code",
   "execution_count": 1,
   "metadata": {},
   "outputs": [
    {
     "name": "stderr",
     "output_type": "stream",
     "text": [
      "RDKit WARNING: [18:03:23] Enabling RDKit 2019.09.3 jupyter extensions\n"
     ]
    }
   ],
   "source": [
    "from quantum_dataset import QM7, QM7b, QM9, Champs, SuperSet\n",
    "from quantum_learning import Learn, Selector, ChampSelector\n",
    "from quantum_model import FFNet\n",
    "from torch.optim import Adam\n",
    "from torch.nn import MSELoss, L1Loss"
   ]
  },
  {
   "cell_type": "code",
   "execution_count": null,
   "metadata": {},
   "outputs": [],
   "source": [
    "opt_params = {'lr': 0.001}\n",
    "model_params = {'D_in': 29*29+29+15+128+32+64+32+64, 'H': 8192, 'D_out': 1, 'model_name': 'funnel'}\n",
    "qm9_params = {'n': 133885, \n",
    "              'features': ['coulomb','mulliken','A','B','C','mu','alpha','homo',\n",
    "                           'lumo','gap','r2','zpve','U0','U','H','G','Cv'],  \n",
    "              'dim': 29, \n",
    "              'use_pickle': True}\n",
    "champs_params = {'n': 4658146, \n",
    "                 'features': False,\n",
    "                 'use_h5': False,  \n",
    "                 'infer': False}\n",
    "crit_params = {'reduction': 'sum'}\n",
    "ds_params = {'PrimaryDS': Champs, 'SecondaryDS': QM9, 'p_params': champs_params, 's_params': qm9_params}\n",
    "sample_params = {'split': .1, 'subset': False}\n",
    "\n",
    "Learn(Dataset=SuperSet, Model=FFNet, Sampler=ChampSelector, Optimizer=Adam, Criterion=L1Loss,\n",
    "      batch_size=32, epochs=3, model_params=model_params, ds_params=ds_params, \n",
    "      sample_params=sample_params, opt_params=opt_params, crit_params=crit_params, \n",
    "      save_model=True, load_model=False)"
   ]
  },
  {
   "cell_type": "code",
   "execution_count": 2,
   "metadata": {},
   "outputs": [
    {
     "name": "stdout",
     "output_type": "stream",
     "text": [
      "loading QM9 datadic from a pickled copy...\n",
      "<class 'quantum_dataset.SuperSet'> dataset created...\n",
      "model loaded from state_dict...\n",
      "self.predictions.iloc[:10]         id  scalar_coupling_constant\n",
      "0  4957831                  1.698278\n",
      "1  5539157                  9.207827\n",
      "2  5144079                 48.540695\n",
      "3  5680997                  0.745624\n",
      "4  4889680                 81.590790\n",
      "5  5878362                  1.940133\n",
      "6  5367937                 55.580872\n",
      "7  5603920                 -1.071535\n",
      "8  4997250                 -1.980003\n",
      "9  5560962                 82.959160\n",
      "inference complete and saved to csv...\n",
      "learning time: 0:11:29.363401\n"
     ]
    },
    {
     "data": {
      "text/plain": [
       "<quantum_learning.Learn at 0x7f7bce84bb50>"
      ]
     },
     "execution_count": 2,
     "metadata": {},
     "output_type": "execute_result"
    }
   ],
   "source": [
    "opt_params = {'lr': 0.001}\n",
    "model_params = {'D_in': 29*29+29+15+128+32+64+32+64, 'H': 8192, 'D_out': 1, 'model_name': 'funnel'}\n",
    "qm9_params = {'n': 133885, \n",
    "              'features': ['coulomb','mulliken','A','B','C','mu','alpha','homo',\n",
    "                           'lumo','gap','r2','zpve','U0','U','H','G','Cv'],  \n",
    "              'dim': 29, \n",
    "              'use_pickle': True}\n",
    "champs_params = {'n': 2505542, \n",
    "                 'features': False,\n",
    "                 'use_h5': False,  \n",
    "                 'infer': True}\n",
    "crit_params = {'reduction': 'sum'}\n",
    "ds_params = {'PrimaryDS': Champs, 'SecondaryDS': QM9, 'p_params': champs_params, 's_params': qm9_params}\n",
    "\n",
    "Learn(Dataset=SuperSet, Model=FFNet, Sampler=ChampSelector, batch_size=32, \n",
    "      model_params=model_params, ds_params=ds_params, \n",
    "      load_model='./models/20200629_1800.pth', adapt=False)"
   ]
  },
  {
   "cell_type": "code",
   "execution_count": null,
   "metadata": {},
   "outputs": [],
   "source": [
    "model_params = {'D_in': 29*29+29+15+128+32+64+32+64, \n",
    "                'H': 8192, \n",
    "                'D_out': 1, \n",
    "                'model_name': 'funnel'}\n",
    "ds_params = {'n': 2505542, \n",
    "             'features': False,\n",
    "             'use_h5': False,  \n",
    "             'infer': True}\n",
    "\n",
    "Learn(Dataset=Champs, Model=FFNet, Sampler=Selector, batch_size=32, model_params=model_params, \n",
    "      ds_params=ds_params, load_model='./models/20200629_1800.pth', adapt=False)"
   ]
  },
  {
   "cell_type": "code",
   "execution_count": null,
   "metadata": {},
   "outputs": [],
   "source": [
    "#create an inference baseline result using the mean training values for each type of scc\n",
    "df = pd.read_csv('./data/champs/'+'train.csv', header=0, names=['id','molecule_name', \n",
    "                 'atom_index_0','atom_index_1','type','scalar_coupling_constant'], index_col=False)\n",
    "dt = df.groupby('type')['scalar_coupling_constant'].describe()\n",
    "test = pd.read_csv('./data/champs/'+'test.csv', header=0, names=['id','molecule_name', \n",
    "                   'atom_index_0','atom_index_1','type'], index_col=False)\n",
    "test['scalar_coupling_constant'] = [dt['mean'].loc[x] for x in test['type']]\n",
    "test[['id','scalar_coupling_constant']].to_csv('mean_inference.csv', \n",
    "                                               header=['id','scalar_coupling_constant'], \n",
    "                                               index=False)"
   ]
  },
  {
   "cell_type": "code",
   "execution_count": null,
   "metadata": {},
   "outputs": [],
   "source": []
  }
 ],
 "metadata": {
  "kernelspec": {
   "display_name": "Python 3",
   "language": "python",
   "name": "python3"
  },
  "language_info": {
   "codemirror_mode": {
    "name": "ipython",
    "version": 3
   },
   "file_extension": ".py",
   "mimetype": "text/x-python",
   "name": "python",
   "nbconvert_exporter": "python",
   "pygments_lexer": "ipython3",
   "version": "3.7.7"
  }
 },
 "nbformat": 4,
 "nbformat_minor": 2
}
