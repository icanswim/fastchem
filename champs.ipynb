{
 "cells": [
  {
   "cell_type": "code",
   "execution_count": 1,
   "metadata": {},
   "outputs": [
    {
     "name": "stderr",
     "output_type": "stream",
     "text": [
      "RDKit WARNING: [21:36:10] Enabling RDKit 2019.09.3 jupyter extensions\n"
     ]
    }
   ],
   "source": [
    "from quantum_dataset import QM7, QM7b, QM9, Champs, SuperSet\n",
    "from quantum_learning import Learn, Selector, ChampSelector\n",
    "from quantum_model import FFNet\n",
    "from torch.optim import Adam\n",
    "from torch.nn import MSELoss, L1Loss"
   ]
  },
  {
   "cell_type": "code",
   "execution_count": 2,
   "metadata": {},
   "outputs": [
    {
     "name": "stdout",
     "output_type": "stream",
     "text": [
      "loading QM9 datadic from a pickled copy...\n",
      "<class 'quantum_dataset.SuperSet'> dataset created...\n",
      "test loss: 4.412985145431204\n",
      "y_pred:\n",
      "tensor([[ 5.4306],\n",
      "        [ 1.6733],\n",
      "        [ 5.3702],\n",
      "        [-1.1373],\n",
      "        [-0.3065],\n",
      "        [ 2.8888],\n",
      "        [ 2.4753],\n",
      "        [ 4.4991],\n",
      "        [ 5.2804],\n",
      "        [ 4.8125]], device='cuda:0')\n",
      " y:\n",
      "tensor([[ 5.1431e+00],\n",
      "        [ 5.1396e-01],\n",
      "        [ 6.0498e+00],\n",
      "        [-9.9477e-01],\n",
      "        [-4.2489e+00],\n",
      "        [ 1.6608e-01],\n",
      "        [ 2.6901e+01],\n",
      "        [ 7.8457e+00],\n",
      "        [-2.9326e-01],\n",
      "        [ 1.4314e-02]], device='cuda:0')\n"
     ]
    },
    {
     "data": {
      "image/png": "[encoded data removed]",
      "text/plain": [
       "<Figure size 432x288 with 1 Axes>"
      ]
     },
     "metadata": {
      "needs_background": "light"
     },
     "output_type": "display_data"
    },
    {
     "name": "stdout",
     "output_type": "stream",
     "text": [
      "learning time: 0:08:23.652000\n"
     ]
    },
    {
     "data": {
      "text/plain": [
       "<quantum_learning.Learn at 0x7f8a58097450>"
      ]
     },
     "execution_count": 2,
     "metadata": {},
     "output_type": "execute_result"
    }
   ],
   "source": [
    "opt_params = {'lr': 0.001}\n",
    "model_params = {'D_in': 29*29+29+15+128+32+64+32+64, 'H': 8192, 'D_out': 1, 'model_name': 'funnel'}\n",
    "qm9_params = {'n': 133885, \n",
    "              'features': ['coulomb','mulliken','A','B','C','mu','alpha','homo',\n",
    "                           'lumo','gap','r2','zpve','U0','U','H','G','Cv'],  \n",
    "              'dim': 29, \n",
    "              'use_pickle': True}\n",
    "champs_params = {'n': 4658146, \n",
    "                 'features': False,\n",
    "                 'use_h5': False,  \n",
    "                 'infer': False}\n",
    "crit_params = {'reduction': 'sum'}\n",
    "ds_params = {'PrimaryDS': Champs, 'SecondaryDS': QM9, 'p_params': champs_params, 's_params': qm9_params}\n",
    "sample_params = {'split': .1, 'subset': .01}\n",
    "\n",
    "Learn(Dataset=SuperSet, Model=FFNet, Sampler=ChampSelector, Optimizer=Adam, Criterion=L1Loss,\n",
    "      batch_size=32, epochs=10, model_params=model_params, ds_params=ds_params, \n",
    "      sample_params=sample_params, opt_params=opt_params, crit_params=crit_params, \n",
    "      save_model=False, load_model=False)"
   ]
  },
  {
   "cell_type": "code",
   "execution_count": null,
   "metadata": {},
   "outputs": [],
   "source": []
  }
 ],
 "metadata": {
  "kernelspec": {
   "display_name": "Python 3",
   "language": "python",
   "name": "python3"
  },
  "language_info": {
   "codemirror_mode": {
    "name": "ipython",
    "version": 3
   },
   "file_extension": ".py",
   "mimetype": "text/x-python",
   "name": "python",
   "nbconvert_exporter": "python",
   "pygments_lexer": "ipython3",
   "version": "3.7.7"
  }
 },
 "nbformat": 4,
 "nbformat_minor": 2
}
