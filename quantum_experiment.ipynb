{
 "cells": [
  {
   "cell_type": "code",
   "execution_count": 1,
   "metadata": {},
   "outputs": [],
   "source": [
    "from quantum_dataset import QM7, QM7b, QM7X, QM9, Champs, SuperSet\n",
    "from quantum_learning import Learn, Selector, ChampSelector\n",
    "from quantum_model import FFNet\n",
    "from torch.optim import Adam\n",
    "from torch.nn import MSELoss, L1Loss"
   ]
  },
  {
   "cell_type": "code",
   "execution_count": null,
   "metadata": {
    "scrolled": true
   },
   "outputs": [],
   "source": [
    "opt_params = {'lr': 0.001}\n",
    "model_params = {'D_in': 23*23, \n",
    "                'H': 4096, \n",
    "                'D_out': 1, \n",
    "                'model_name': 'funnel'}\n",
    "ds_params = {}\n",
    "crit_params = {'reduction': 'sum'}\n",
    "\n",
    "Learn(Dataset=QM7, Model=FFNet, Sampler=Selector, Optimizer=Adam, Criterion=L1Loss, \n",
    "      batch_size=256, epochs=200, opt_params=opt_params, model_params=model_params, \n",
    "      ds_params=ds_params, crit_params=crit_params, save_model=False, load_model=False)"
   ]
  },
  {
   "cell_type": "code",
   "execution_count": null,
   "metadata": {},
   "outputs": [],
   "source": [
    "opt_params = {'lr': 0.001}\n",
    "model_params = {'D_in': 23*23, \n",
    "                'H': 4096, \n",
    "                'D_out': 1, \n",
    "                'model_name': 'simple'}\n",
    "ds_params = {}\n",
    "crit_params = {'reduction': 'sum'}\n",
    "\n",
    "Learn(Dataset=QM7, Model=FFNet, Sampler=Selector, Optimizer=Adam, Criterion=L1Loss, \n",
    "      batch_size=256, epochs=200, opt_params=opt_params, model_params=model_params, \n",
    "      ds_params=ds_params, crit_params=crit_params, save_model=False, load_model=False)"
   ]
  },
  {
   "cell_type": "code",
   "execution_count": null,
   "metadata": {},
   "outputs": [],
   "source": [
    "opt_params = {'lr': 0.001}\n",
    "model_params = {'D_in': 23*23+13, \n",
    "                'H': 4096, \n",
    "                'D_out': 1, \n",
    "                'model_name': 'funnel'}\n",
    "ds_params = {'target': 'E', \n",
    "             'features': ['alpha_p','alpha_s','HOMO_g','HOMO_p','HOMO_z','LUMO_g',\n",
    "                          'LUMO_p','LUMO_z','IP','EA','E1','Emax','Imax']}\n",
    "crit_params = {'reduction': 'sum'}\n",
    "\n",
    "Learn(Dataset=QM7b, Model=FFNet, Sampler=Selector, Optimizer=Adam, Criterion=L1Loss, \n",
    "      batch_size=256, epochs=100, opt_params=opt_params, model_params=model_params, \n",
    "      ds_params=ds_params, crit_params=crit_params, save_model=False, load_model=False)"
   ]
  },
  {
   "cell_type": "code",
   "execution_count": null,
   "metadata": {},
   "outputs": [],
   "source": [
    "opt_params = {'lr': 0.001}\n",
    "model_params = {'D_in': 29*29+29+14, \n",
    "                'H': 1024, \n",
    "                'D_out': 1, \n",
    "                'model_name': 'funnel'}\n",
    "ds_params = {'n': 133885, \n",
    "             'features': ['coulomb','mulliken','A','B','C','alpha','homo',\n",
    "                          'lumo','gap','r2','zpve','H','U0','U','G','Cv'], \n",
    "             'target': 'mu',\n",
    "             'dim': 29,\n",
    "             'use_pickle': True}\n",
    "crit_params = {'reduction': 'sum'}\n",
    "\n",
    "Learn(Dataset=QM9, Model=FFNet, Sampler=Selector, Optimizer=Adam, Criterion=MSELoss,\n",
    "      batch_size=512, epochs=10, model_params=model_params, ds_params=ds_params, \n",
    "      opt_params=opt_params, crit_params=crit_params, save_model=False, load_model=False)"
   ]
  },
  {
   "cell_type": "code",
   "execution_count": null,
   "metadata": {},
   "outputs": [],
   "source": [
    "opt_params = {'lr': 0.001}\n",
    "model_params = {'D_in': 128+32+64+32+64, \n",
    "                'H': 2048, \n",
    "                'D_out': 1, \n",
    "                'model_name': 'funnel'}\n",
    "ds_params = {'n': 4658146, \n",
    "             'features': False,\n",
    "             'use_h5': False,  \n",
    "             'infer': False}\n",
    "crit_params = {'reduction': 'sum'}\n",
    "sample_params = {'split': .1, 'subset': False}\n",
    "\n",
    "Learn(Dataset=Champs, Model=FFNet, Sampler=ChampSelector, Optimizer=Adam, Criterion=L1Loss,\n",
    "      batch_size=1024, epochs=10, model_params=model_params, ds_params=ds_params, \n",
    "      sample_params=sample_params, opt_params=opt_params, crit_params=crit_params, \n",
    "      save_model=True, load_model=False)"
   ]
  },
  {
   "cell_type": "code",
   "execution_count": null,
   "metadata": {},
   "outputs": [],
   "source": [
    "model_params = {'D_in': 128+32+64+32+64, \n",
    "                'H': 2048, \n",
    "                'D_out': 1, \n",
    "                'model_name': 'funnel'}\n",
    "ds_params = {'features': False,\n",
    "             'use_h5': False,  \n",
    "             'infer': True}\n",
    "\n",
    "Learn(Dataset=Champs, Model=FFNet, Sampler=Selector, batch_size=2048, model_params=model_params, \n",
    "      ds_params=ds_params, load_model='./models/20201021_2101.pth', adapt=False)"
   ]
  },
  {
   "cell_type": "code",
   "execution_count": 7,
   "metadata": {},
   "outputs": [
    {
     "name": "stdout",
     "output_type": "stream",
     "text": [
      "loading QM9 datadic from a pickled copy...\n"
     ]
    }
   ],
   "source": [
    "ds_params = {'n': 133885, \n",
    "             'features': ['A','B','C','mu','alpha','homo','lumo', \n",
    "                          'gap','r2','zpve','U0','U','H','G','Cv'], \n",
    "             'target': 'U0',\n",
    "             'dim': 10,\n",
    "             'use_pickle': True}\n",
    "\n",
    "qm9 = QM9(**ds_params)"
   ]
  },
  {
   "cell_type": "code",
   "execution_count": 8,
   "metadata": {},
   "outputs": [
    {
     "data": {
      "text/plain": [
       "[['C', '-0.0126981359', ' 1.0858041578', ' 0.0080009958', '-0.535689'],\n",
       " ['H', ' 0.002150416', '-0.0060313176', ' 0.0019761204', ' 0.133921'],\n",
       " ['H', ' 1.0117308433', ' 1.4637511618', ' 0.0002765748', ' 0.133922'],\n",
       " ['H', '-0.540815069', ' 1.4475266138', '-0.8766437152', ' 0.133923'],\n",
       " ['H', '-0.5238136345', ' 1.4379326443', ' 0.9063972942', ' 0.133923']]"
      ]
     },
     "execution_count": 8,
     "metadata": {},
     "output_type": "execute_result"
    }
   ],
   "source": [
    "qm9.datadic[1].xyz"
   ]
  },
  {
   "cell_type": "code",
   "execution_count": 9,
   "metadata": {},
   "outputs": [
    {
     "data": {
      "text/plain": [
       "array([[36.858112 , 10.76564  , 10.765889 , 10.765862 , 10.7656765],\n",
       "       [ 0.9157931,  0.5      ,  1.7943149,  1.7943105,  1.7942797],\n",
       "       [ 0.9157931,  1.7942735,  0.5      ,  1.7943105,  1.7942797],\n",
       "       [ 0.9157931,  1.7942735,  1.7943149,  0.5      ,  1.7942797],\n",
       "       [ 0.9157931,  1.7942735,  1.7943149,  1.7943105,  0.5      ]],\n",
       "      dtype=float32)"
      ]
     },
     "execution_count": 9,
     "metadata": {},
     "output_type": "execute_result"
    }
   ],
   "source": [
    "qm9.datadic[1].coulomb"
   ]
  },
  {
   "cell_type": "code",
   "execution_count": 10,
   "metadata": {},
   "outputs": [
    {
     "data": {
      "text/plain": [
       "array([[0., 1., 1., 1., 1.],\n",
       "       [1., 0., 0., 0., 0.],\n",
       "       [1., 0., 0., 0., 0.],\n",
       "       [1., 0., 0., 0., 0.],\n",
       "       [1., 0., 0., 0., 0.]], dtype=float32)"
      ]
     },
     "execution_count": 10,
     "metadata": {},
     "output_type": "execute_result"
    }
   ],
   "source": [
    "qm9.datadic[1].adjacency"
   ]
  },
  {
   "cell_type": "code",
   "execution_count": 11,
   "metadata": {},
   "outputs": [
    {
     "data": {
      "text/plain": [
       "(tensor([ 1.5771e+02,  1.5771e+02,  1.5771e+02,  0.0000e+00,  1.3210e+01,\n",
       "         -3.8770e-01,  1.1710e-01,  5.0480e-01,  3.5364e+01,  4.4749e-02,\n",
       "         -4.0479e+01, -4.0476e+01, -4.0475e+01, -4.0499e+01,  6.4690e+00]),\n",
       " [],\n",
       " tensor([-40.4789]))"
      ]
     },
     "execution_count": 11,
     "metadata": {},
     "output_type": "execute_result"
    }
   ],
   "source": [
    "qm9[1]"
   ]
  },
  {
   "cell_type": "code",
   "execution_count": 5,
   "metadata": {},
   "outputs": [
    {
     "name": "stdout",
     "output_type": "stream",
     "text": [
      "opening...  <HDF5 file \"1000.hdf5\" (mode r)>\n",
      "opening...  <HDF5 file \"2000.hdf5\" (mode r)>\n",
      "opening...  <HDF5 file \"3000.hdf5\" (mode r)>\n",
      "opening...  <HDF5 file \"4000.hdf5\" (mode r)>\n",
      "opening...  <HDF5 file \"5000.hdf5\" (mode r)>\n",
      "opening...  <HDF5 file \"6000.hdf5\" (mode r)>\n",
      "opening...  <HDF5 file \"7000.hdf5\" (mode r)>\n",
      "opening...  <HDF5 file \"8000.hdf5\" (mode r)>\n",
      "molecular formula (idmol) mapped:  6899\n",
      "total molecular structures (idconf) mapped:  6899\n",
      "molecular formula loaded:  6899\n"
     ]
    }
   ],
   "source": [
    "ds_params = {'features': ['DIP','HLgap','KSE','atC6','atNUM','atPOL','atXYZ','eAT', \n",
    "                          'eC','eDFTB+MBD','eEE','eH','eKIN','eKSE','eL','eMBD','eNE', \n",
    "                          'eNN','ePBE0','ePBE0+MBD','eTS','eX','eXC','eXX','hCHG', \n",
    "                          'hDIP','hRAT','hVDIP','hVOL','mC6','mPOL','mTPOL','pbe0FOR', \n",
    "                          'sMIT','sRMSD','totFOR','vDIP','vEQ','vIQ','vTQ','vdwFOR','vdwR'],\n",
    "             'dim': 200,\n",
    "             'target': ['atXYZ'],\n",
    "             'selector': ['i1-c1-opt']}\n",
    "\n",
    "qm7x = QM7X(**ds_params)"
   ]
  },
  {
   "cell_type": "code",
   "execution_count": 6,
   "metadata": {},
   "outputs": [
    {
     "data": {
      "text/plain": [
       "(tensor([ 6.0000e-06,  1.1648e+01, -2.7750e+02, -1.9515e+01, -1.1031e+01,\n",
       "         -1.1031e+01, -1.1031e+01,  6.1704e-01,  1.8885e+00,  1.8885e+00,\n",
       "          1.8885e+00,  4.0704e+00,  4.0705e+00,  4.0705e+00,  6.9626e+00,\n",
       "          8.2738e+00,  2.9514e+01,  1.3825e+00,  1.3825e+00,  1.3825e+00,\n",
       "          1.3825e+00,  6.0000e+00,  1.0000e+00,  1.0000e+00,  1.0000e+00,\n",
       "          1.0000e+00,  9.2872e+00,  1.8785e+00,  1.8785e+00,  1.8784e+00,\n",
       "          1.8785e+00,  8.0000e-06, -4.0000e-06,  1.0000e-06,  1.0804e+00,\n",
       "         -1.5000e-05, -1.8000e-05, -3.6015e-01,  4.4809e-01,  9.1480e-01,\n",
       "         -3.6017e-01, -1.0163e+00, -6.9363e-02, -3.6016e-01,  5.6821e-01,\n",
       "         -8.4543e-01,  1.9314e+01, -8.2019e+00, -8.7933e+01,  8.9546e+02,\n",
       "         -1.1031e+01,  1.0963e+03, -6.6021e+02,  6.1704e-01, -2.2546e-02,\n",
       "         -3.2754e+03,  3.6883e+02, -1.1015e+03, -1.1015e+03, -4.3000e-04,\n",
       "         -1.7845e+02, -1.8665e+02, -4.4847e+01, -1.6644e-01,  4.1610e-02,\n",
       "          4.1606e-02,  4.1610e-02,  4.1609e-02,  8.0000e-06,  9.1641e-02,\n",
       "          9.1641e-02,  9.1639e-02,  9.1637e-02,  7.1836e-01,  5.6194e-01,\n",
       "          5.6194e-01,  5.6194e-01,  5.6194e-01,  6.0000e-06, -1.0000e-06,\n",
       "          5.0000e-06,  9.1641e-02, -1.0000e-06, -2.0000e-06, -3.0550e-02,\n",
       "          3.8007e-02,  7.7590e-02, -3.0550e-02, -8.6196e-02, -5.8830e-03,\n",
       "         -3.0549e-02,  4.8193e-02, -7.1705e-02,  2.7577e+01,  5.7969e+00,\n",
       "          5.7969e+00,  5.7969e+00,  5.7969e+00,  1.0546e+02,  1.7087e+01,\n",
       "          1.7087e+01, -7.1000e-05, -3.9000e-05, -7.1000e-05,  1.7087e+01,\n",
       "          1.1700e-04, -3.9000e-05,  1.1700e-04,  1.7087e+01, -5.1200e-04,\n",
       "          5.1500e-04,  2.2600e-04,  2.7807e-01,  1.3000e-05,  3.8000e-05,\n",
       "         -9.2385e-02,  1.1506e-01,  2.3517e-01, -9.2695e-02, -2.6181e-01,\n",
       "         -1.7782e-02, -9.2571e-02,  1.4627e-01, -2.1772e-01,  3.1378e+00,\n",
       "          1.8000e-05,  1.2000e-05,  1.8000e-05,  3.1378e+00, -3.1000e-05,\n",
       "          1.2000e-05, -3.1000e-05,  3.1378e+00,  0.0000e+00, -4.9600e-04,\n",
       "          5.0700e-04,  2.3800e-04,  2.7690e-01,  6.0000e-06,  5.3000e-05,\n",
       "         -9.1977e-02,  1.1455e-01,  2.3418e-01, -9.2274e-02, -2.6070e-01,\n",
       "         -1.7696e-02, -9.2154e-02,  1.4564e-01, -2.1677e-01, -5.0000e-06,\n",
       "          1.0000e-06, -3.0000e-06, -1.1100e-04, -7.0000e-06,  1.1800e-04,\n",
       "         -1.6800e-04, -5.0000e-06,  1.7300e-04, -6.2000e-05,  1.0000e-06,\n",
       "          6.1000e-05, -0.0000e+00, -0.0000e+00, -0.0000e+00, -1.1900e-03,\n",
       "          0.0000e+00,  0.0000e+00,  3.9700e-04, -4.9400e-04, -1.0070e-03,\n",
       "          3.9700e-04,  1.1190e-03,  7.6000e-05,  3.9700e-04, -6.2600e-04,\n",
       "          9.3100e-04,  3.3240e+00,  2.3217e+00,  2.3217e+00,  2.3217e+00,\n",
       "          2.3217e+00,  0.0000e+00,  0.0000e+00,  0.0000e+00,  0.0000e+00,\n",
       "          0.0000e+00,  0.0000e+00,  0.0000e+00,  0.0000e+00,  0.0000e+00,\n",
       "          0.0000e+00,  0.0000e+00,  0.0000e+00,  0.0000e+00,  0.0000e+00,\n",
       "          0.0000e+00,  0.0000e+00,  0.0000e+00,  0.0000e+00,  0.0000e+00]),\n",
       " [],\n",
       " tensor([ 8.0000e-06, -4.0000e-06,  1.0000e-06,  1.0804e+00, -1.5000e-05,\n",
       "         -1.8000e-05, -3.6015e-01,  4.4809e-01,  9.1480e-01, -3.6017e-01,\n",
       "         -1.0163e+00, -6.9363e-02, -3.6017e-01,  5.6821e-01, -8.4543e-01],\n",
       "        dtype=torch.float64))"
      ]
     },
     "execution_count": 6,
     "metadata": {},
     "output_type": "execute_result"
    }
   ],
   "source": [
    "qm7x[1]"
   ]
  },
  {
   "cell_type": "code",
   "execution_count": null,
   "metadata": {},
   "outputs": [],
   "source": [
    "ds_params = {'features': ['DIP','HLgap','KSE','atC6','atNUM','atPOL','atXYZ', \n",
    "            'eC','eDFTB+MBD','eEE','eH','eKIN','eKSE','eL','eMBD','eNE', \n",
    "            'eNN','ePBE0','ePBE0+MBD','eTS','eX','eXC','eXX','hCHG', \n",
    "            'hDIP','hRAT','hVDIP','hVOL','mC6','mPOL','mTPOL','pbe0FOR', \n",
    "            'sMIT','sRMSD','totFOR','vDIP','vEQ','vIQ','vTQ','vdwFOR','vdwR'],\n",
    "             'dim': 1024,\n",
    "             'target': ['eAT'],\n",
    "             'selector': ['i1-c1-opt']}\n",
    "\n",
    "opt_params = {'lr': 0.001}\n",
    "\n",
    "model_params = {'D_in': 1024, \n",
    "                'H': 2048, \n",
    "                'D_out': 1, \n",
    "                'model_name': 'funnel'}\n",
    "\n",
    "crit_params = {'reduction': 'sum'}\n",
    "\n",
    "sample_params = {'split': .1, 'subset': False}\n",
    "\n",
    "Learn(Dataset=QM7X, Model=FFNet, Sampler=Selector, Optimizer=Adam, Criterion=L1Loss,\n",
    "      batch_size=256, epochs=50, model_params=model_params, ds_params=ds_params, \n",
    "      sample_params=sample_params, opt_params=opt_params, crit_params=crit_params, \n",
    "      save_model=False, load_model=False)\n"
   ]
  },
  {
   "cell_type": "code",
   "execution_count": null,
   "metadata": {},
   "outputs": [],
   "source": []
  }
 ],
 "metadata": {
  "kernelspec": {
   "display_name": "Python 3",
   "language": "python",
   "name": "python3"
  },
  "language_info": {
   "codemirror_mode": {
    "name": "ipython",
    "version": 3
   },
   "file_extension": ".py",
   "mimetype": "text/x-python",
   "name": "python",
   "nbconvert_exporter": "python",
   "pygments_lexer": "ipython3",
   "version": "3.7.9"
  }
 },
 "nbformat": 4,
 "nbformat_minor": 4
}
