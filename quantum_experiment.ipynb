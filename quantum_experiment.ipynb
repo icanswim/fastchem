{
 "cells": [
  {
   "cell_type": "code",
   "execution_count": null,
   "metadata": {},
   "outputs": [],
   "source": [
    "from quantum_dataset import QM7, QM7b, QM9, Champs, SuperSet\n",
    "from quantum_learning import Learn, Selector\n",
    "from quantum_model import FFNet\n",
    "from torch.optim import Adam\n",
    "from torch.nn import MSELoss"
   ]
  },
  {
   "cell_type": "code",
   "execution_count": null,
   "metadata": {},
   "outputs": [],
   "source": [
    "opt_params = {'lr': 0.001}\n",
    "model_params = {'D_in': 23*23, \n",
    "                'H': 4096, \n",
    "                'D_out': 1, \n",
    "                'model_name': 'funnel'}\n",
    "ds_params = {}\n",
    "crit_params = {'reduction': 'sum'}\n",
    "\n",
    "Learn(Dataset=QM7, Model=FFNet, Sampler=Selector, Optimizer=Adam, Criterion=MSELoss, \n",
    "      batch_size=32, epochs=10, opt_params=opt_params, model_params=model_params, \n",
    "      ds_params=ds_params, crit_params=crit_params, save_model=True, load_model=False)"
   ]
  },
  {
   "cell_type": "code",
   "execution_count": null,
   "metadata": {},
   "outputs": [],
   "source": [
    "opt_params = {'lr': 0.001}\n",
    "model_params = {'D_in': 23*23+13, 'H': 4096, 'D_out': 1, 'model_name': 'funnel'}\n",
    "ds_params = {'target': 'E', \n",
    "             'features': ['alpha_p','alpha_s','HOMO_g','HOMO_p','HOMO_z','LUMO_g',\n",
    "                          'LUMO_p','LUMO_z','IP','EA','E1','Emax','Imax']}\n",
    "crit_params = {'reduction': 'sum'}\n",
    "\n",
    "Learn(Dataset=QM7b, Model=FFNet, Sampler=Selector, \n",
    "      Optimizer=Adam, Criterion=MSELoss, batch_size=32, epochs=10, \n",
    "      opt_params=opt_params, model_params=model_params, ds_params=ds_params, \n",
    "      crit_params=crit_params, save_model=True, load_model=False)"
   ]
  },
  {
   "cell_type": "code",
   "execution_count": null,
   "metadata": {},
   "outputs": [],
   "source": [
    "opt_params = {'lr': 0.001}\n",
    "model_params = {'D_in': 29*29+14, 'H': 2048, 'D_out': 1, 'model_name': 'funnel'}\n",
    "ds_params = {'n': 133885, \n",
    "             'features': ['coulomb','A','B','C','alpha','homo','lumo',\n",
    "                          'gap','r2','zpve','U0','U','H','G','Cv'], \n",
    "             'target': 'mu',\n",
    "             'dim': 29*29,\n",
    "             'use_pickle': True}\n",
    "crit_params = {'reduction': 'sum'}\n",
    "\n",
    "Learn(Dataset=QM9, Model=FFNet, Sampler=Selector, Optimizer=Adam, Criterion=MSELoss,\n",
    "      batch_size=32, epochs=2, model_params=model_params, ds_params=ds_params, \n",
    "      opt_params=opt_params, crit_params=crit_params, save_model=True, load_model=False)"
   ]
  },
  {
   "cell_type": "code",
   "execution_count": null,
   "metadata": {},
   "outputs": [],
   "source": [
    "opt_params = {'lr': 0.001}\n",
    "model_params = {'D_in': 198+3, 'H': 512, 'D_out': 1, 'model_name': 'funnel'}\n",
    "ds_params = {'n': 4658146, \n",
    "             'features': ['mulliken_charge_x','mulliken_charge_y','potential_energy'],\n",
    "             'use_h5': True,  \n",
    "             'infer': False}\n",
    "crit_params = {'reduction': 'sum'}\n",
    "\n",
    "Learn(Dataset=Champs, Model=FFNet, Sampler=Selector, Optimizer=Adam, Criterion=MSELoss,\n",
    "      batch_size=1024, epochs=10, model_params=model_params, ds_params=ds_params, \n",
    "      opt_params=opt_params, crit_params=crit_params, save_model=True, load_model=False)"
   ]
  },
  {
   "cell_type": "code",
   "execution_count": null,
   "metadata": {},
   "outputs": [],
   "source": []
  },
  {
   "cell_type": "code",
   "execution_count": null,
   "metadata": {},
   "outputs": [],
   "source": [
    "# A DEMONSTRATION OF TRANSFER LEARNING\n",
    "\n",
    "# train a model and save it\n",
    "opt_params = {'lr': 0.001}\n",
    "model_params = {'D_in': 29*29+15+198+3, 'H': 2048, 'D_out': 1, 'model_name': 'deep'}\n",
    "qm9_params = {'n': 133885, \n",
    "              'features': ['coulomb','A','B','C','mu','alpha','homo','lumo', \n",
    "                           'gap','r2','zpve','U0','U','H','G','Cv'],  \n",
    "              'dim': 29*29, \n",
    "              'use_pickle': True}\n",
    "champs_params = {'n': 4658146, \n",
    "                 'features': ['mulliken_charge_x','mulliken_charge_y','potential_energy'],\n",
    "                 'use_h5': True,  \n",
    "                 'infer': False}\n",
    "crit_params = {'reduction': 'sum'}\n",
    "\n",
    "ds_params = {'PrimaryDS': Champs, 'SecondaryDS': QM9, 'p_params': champs_params, 's_params': qm9_params}\n",
    "\n",
    "Learn(Dataset=SuperSet, Model=FFNet, Sampler=Selector, Optimizer=Adam, Criterion=MSELoss,\n",
    "      batch_size=32, epochs=10, model_params=model_params, ds_params=ds_params,\n",
    "      opt_params=opt_params, crit_params=crit_params, save_model=True, load_model=False)"
   ]
  },
  {
   "cell_type": "code",
   "execution_count": null,
   "metadata": {},
   "outputs": [],
   "source": [
    "# load the model and train it some more and save it\n",
    "opt_params = {'lr': 0.001}\n",
    "model_params = {'D_in': 29*29+15+198+3, 'H': 2048, 'D_out': 1, 'model_name': 'deep'}\n",
    "qm9_params = {'n': 133885, \n",
    "              'features': ['coulomb','A','B','C','mu','alpha','homo','lumo', \n",
    "                           'gap','r2','zpve','U0','U','H','G','Cv'],  \n",
    "              'dim': 29*29, \n",
    "              'use_pickle': True}\n",
    "champs_params = {'n': 4658146, \n",
    "                 'features': ['mulliken_charge_x','mulliken_charge_y','potential_energy'],\n",
    "                 'use_h5': True,  \n",
    "                 'infer': False}\n",
    "crit_params = {'reduction': 'sum'}\n",
    "\n",
    "ds_params = {'PrimaryDS': Champs, 'SecondaryDS': QM9, 'p_params': champs_params, 's_params': qm9_params}\n",
    "\n",
    "Learn(Dataset=SuperSet, Model=FFNet, Sampler=Selector, Optimizer=Adam, Criterion=MSELoss,\n",
    "      batch_size=32, epochs=2, model_params=model_params, ds_params=ds_params,\n",
    "      opt_params=opt_params, crit_params=crit_params, save_model=True, load_model='./models/20200524_1259.pth')"
   ]
  },
  {
   "cell_type": "code",
   "execution_count": null,
   "metadata": {},
   "outputs": [],
   "source": [
    "# load a model that was trained on a different sized (m features)\n",
    "# dataset and adapt it to the new dataset, train only the top\n",
    "# layer and save it\n",
    "opt_params = {'lr': 0.001}\n",
    "model_params = {'D_in': 29*29+15+198+3, 'H': 2048, 'D_out': 1, 'model_name': 'deep'}\n",
    "qm9_params = {'n': 133885, \n",
    "              'features': ['coulomb','A','B','C','mu','alpha','homo','lumo', \n",
    "                           'gap','r2','zpve','U0','U','H','G','Cv'],  \n",
    "              'dim': 29*29, \n",
    "              'use_pickle': True}\n",
    "champs_params = {'n': 4658146, \n",
    "                 'features': [],\n",
    "                 'use_h5': True,  \n",
    "                 'infer': False}\n",
    "crit_params = {'reduction': 'sum'}\n",
    "\n",
    "ds_params = {'PrimaryDS': Champs, 'SecondaryDS': QM9, 'p_params': champs_params, 's_params': qm9_params}\n",
    "\n",
    "Learn(Dataset=SuperSet, Model=FFNet, Sampler=Selector, Optimizer=Adam, Criterion=MSELoss,\n",
    "      batch_size=32, epochs=2, model_params=model_params, ds_params=ds_params,\n",
    "      opt_params=opt_params, crit_params=crit_params, save_model=True, \n",
    "      load_model='./models/20200524_1259.pth', adapt=(29*29+15+198,29*29+15+198+3))"
   ]
  },
  {
   "cell_type": "code",
   "execution_count": null,
   "metadata": {},
   "outputs": [],
   "source": [
    "# load the model and train all the layers and save it\n",
    "opt_params = {'lr': 0.001}\n",
    "model_params = {'D_in': 29*29+15+198, 'H': 2048, 'D_out': 1, 'model_name': 'deep'}\n",
    "qm9_params = {'n': 133885, \n",
    "              'features': ['coulomb','A','B','C','mu','alpha','homo','lumo', \n",
    "                           'gap','r2','zpve','U0','U','H','G','Cv'],  \n",
    "              'dim': 29*29, \n",
    "              'use_pickle': True}\n",
    "champs_params = {'n': 4658146, \n",
    "                 'features': [],\n",
    "                 'use_h5': True,  \n",
    "                 'infer': False}\n",
    "crit_params = {'reduction': 'sum'}\n",
    "\n",
    "ds_params = {'PrimaryDS': Champs, 'SecondaryDS': QM9, 'p_params': champs_params, 's_params': qm9_params}\n",
    "\n",
    "Learn(Dataset=SuperSet, Model=FFNet, Sampler=Selector, Optimizer=Adam, Criterion=MSELoss,\n",
    "      batch_size=32, epochs=2, model_params=model_params, ds_params=ds_params,\n",
    "      opt_params=opt_params, crit_params=crit_params, save_model=True, load_model='./models/20200524_1259.pth')"
   ]
  },
  {
   "cell_type": "code",
   "execution_count": null,
   "metadata": {},
   "outputs": [],
   "source": [
    "# load the model and perform inference on a test set and save the results\n",
    "opt_params = {'lr': 0.001}\n",
    "model_params = {'D_in': 29*29+15+198, 'H': 2048, 'D_out': 1, 'model_name': 'deep', 'adapt': False}\n",
    "qm9_params = {'n': 133885, \n",
    "              'features': ['coulomb','A','B','C','mu','alpha','homo','lumo', \n",
    "                           'gap','r2','zpve','U0','U','H','G','Cv'],  \n",
    "              'dim': 29*29, \n",
    "              'use_pickle': True}\n",
    "champs_params = {'n': 4658146,\n",
    "                 'use_h5': True,  \n",
    "                 'infer': True}\n",
    "crit_params = {'reduction': 'sum'}\n",
    "\n",
    "ds_params = {'PrimaryDS': Champs, 'SecondaryDS': QM9, 'p_params': champs_params, 's_params': qm9_params}\n",
    "\n",
    "Learn(Dataset=SuperSet, Model=FFNet, Sampler=Selector, batch_size=32, model_params=model_params, \n",
    "      ds_params=ds_params, load_model='./models/20200524_1259.pth')"
   ]
  },
  {
   "cell_type": "code",
   "execution_count": null,
   "metadata": {},
   "outputs": [],
   "source": []
  }
 ],
 "metadata": {
  "kernelspec": {
   "display_name": "Python 3",
   "language": "python",
   "name": "python3"
  },
  "language_info": {
   "codemirror_mode": {
    "name": "ipython",
    "version": 3
   },
   "file_extension": ".py",
   "mimetype": "text/x-python",
   "name": "python",
   "nbconvert_exporter": "python",
   "pygments_lexer": "ipython3",
   "version": "3.7.5"
  }
 },
 "nbformat": 4,
 "nbformat_minor": 2
}
