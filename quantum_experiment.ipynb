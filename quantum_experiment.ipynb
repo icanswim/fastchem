{
 "cells": [
  {
   "cell_type": "code",
   "execution_count": 1,
   "metadata": {},
   "outputs": [
    {
     "name": "stderr",
     "output_type": "stream",
     "text": [
      "RDKit WARNING: [19:53:08] Enabling RDKit 2019.09.3 jupyter extensions\n"
     ]
    }
   ],
   "source": [
    "from quantum_dataset import QM7, QM7b, QM9, Champs, SuperSet\n",
    "from quantum_learning import Learn, Selector\n",
    "from quantum_model import FFNet\n",
    "from torch.optim import Adam\n",
    "from torch.nn import MSELoss"
   ]
  },
  {
   "cell_type": "code",
   "execution_count": null,
   "metadata": {},
   "outputs": [],
   "source": [
    "# load a model and train it some more and save it\n",
    "opt_params = {'lr': 0.001}\n",
    "model_params = {'D_in': 23*23, \n",
    "                'H': 4096, \n",
    "                'D_out': 1, \n",
    "                'model_name': 'funnel'}\n",
    "ds_params = {}\n",
    "crit_params = {'reduction': 'sum'}\n",
    "\n",
    "Learn(Dataset=QM7, Model=FFNet, Sampler=Selector, Optimizer=Adam, Criterion=MSELoss, \n",
    "      batch_size=32, epochs=2, opt_params=opt_params, model_params=model_params, \n",
    "      ds_params=ds_params, crit_params=crit_params, save_model=True, load_model='./models/20200528_1024.pth')"
   ]
  },
  {
   "cell_type": "code",
   "execution_count": null,
   "metadata": {},
   "outputs": [],
   "source": [
    "# QM7b vs QM7\n",
    "opt_params = {'lr': 0.001}\n",
    "model_params = {'D_in': 23*23+13, 'H': 4096, 'D_out': 1, 'model_name': 'funnel'}\n",
    "ds_params = {'target': 'E', \n",
    "             'features': ['alpha_p','alpha_s','HOMO_g','HOMO_p','HOMO_z','LUMO_g',\n",
    "                          'LUMO_p','LUMO_z','IP','EA','E1','Emax','Imax']}\n",
    "crit_params = {'reduction': 'sum'}\n",
    "\n",
    "Learn(Dataset=QM7b, Model=FFNet, Sampler=Selector, \n",
    "      Optimizer=Adam, Criterion=MSELoss, batch_size=32, epochs=200, \n",
    "      opt_params=opt_params, model_params=model_params, ds_params=ds_params, \n",
    "      crit_params=crit_params, save_model=True, load_model=False)"
   ]
  },
  {
   "cell_type": "code",
   "execution_count": null,
   "metadata": {},
   "outputs": [],
   "source": [
    "opt_params = {'lr': 0.001}\n",
    "model_params = {'D_in': 29*29+14, 'H': 2048, 'D_out': 1, 'model_name': 'funnel'}\n",
    "ds_params = {'n': 133885, \n",
    "             'features': ['coulomb','A','B','C','alpha','homo','lumo',\n",
    "                          'gap','r2','zpve','U0','U','H','G','Cv'], \n",
    "             'target': 'mu',\n",
    "             'dim': 29*29,\n",
    "             'use_pickle': True}\n",
    "crit_params = {'reduction': 'sum'}\n",
    "\n",
    "Learn(Dataset=QM9, Model=FFNet, Sampler=Selector, Optimizer=Adam, Criterion=MSELoss,\n",
    "      batch_size=32, epochs=2, model_params=model_params, ds_params=ds_params, \n",
    "      opt_params=opt_params, crit_params=crit_params, save_model=True, load_model=False)"
   ]
  },
  {
   "cell_type": "code",
   "execution_count": null,
   "metadata": {},
   "outputs": [],
   "source": [
    "# train a model and save it\n",
    "opt_params = {'lr': 0.001}\n",
    "model_params = {'D_in': 198, 'H': 512, 'D_out': 1, 'model_name': 'funnel'}\n",
    "ds_params = {'n': 4658146, \n",
    "             'features': [],\n",
    "             'use_h5': False,  \n",
    "             'infer': False}\n",
    "crit_params = {'reduction': 'sum'}\n",
    "\n",
    "Learn(Dataset=Champs, Model=FFNet, Sampler=Selector, Optimizer=Adam, Criterion=MSELoss,\n",
    "      batch_size=2048, epochs=3, model_params=model_params, ds_params=ds_params, \n",
    "      opt_params=opt_params, crit_params=crit_params, save_model=True, load_model=False)"
   ]
  },
  {
   "cell_type": "code",
   "execution_count": null,
   "metadata": {},
   "outputs": [],
   "source": [
    "# load the model and perform inference on a test set and save the results\n",
    "opt_params = {'lr': 0.001}\n",
    "model_params = {'D_in': 198, 'H': 512, 'D_out': 1, 'model_name': 'funnel'}\n",
    "ds_params = {'n': 4658146, 'use_h5': False, 'infer': True}\n",
    "crit_params = {'reduction': 'sum'}\n",
    "\n",
    "Learn(Dataset=Champs, Model=FFNet, Sampler=Selector, batch_size=2048, model_params=model_params, \n",
    "      ds_params=ds_params, load_model='./models/20200528_1242.pth', adapt=False)"
   ]
  },
  {
   "cell_type": "code",
   "execution_count": 2,
   "metadata": {},
   "outputs": [],
   "source": [
    "ds_params = {'n': 4658146, \n",
    "             'features': [],\n",
    "             'use_h5': False,  \n",
    "             'infer': False}\n",
    "c = Champs(**ds_params)"
   ]
  },
  {
   "cell_type": "code",
   "execution_count": 3,
   "metadata": {},
   "outputs": [
    {
     "ename": "TypeError",
     "evalue": "can't convert np.ndarray of type numpy.object_. The only supported types are: float64, float32, float16, int64, int32, int16, int8, uint8, and bool.",
     "output_type": "error",
     "traceback": [
      "\u001b[0;31m---------------------------------------------------------------------------\u001b[0m",
      "\u001b[0;31mTypeError\u001b[0m                                 Traceback (most recent call last)",
      "\u001b[0;32m<ipython-input-3-c515f9b2bb93>\u001b[0m in \u001b[0;36m<module>\u001b[0;34m\u001b[0m\n\u001b[1;32m      1\u001b[0m \u001b[0mi\u001b[0m \u001b[0;34m=\u001b[0m \u001b[0;36m11\u001b[0m\u001b[0;34m\u001b[0m\u001b[0;34m\u001b[0m\u001b[0m\n\u001b[0;32m----> 2\u001b[0;31m \u001b[0mprint\u001b[0m\u001b[0;34m(\u001b[0m\u001b[0mc\u001b[0m\u001b[0;34m[\u001b[0m\u001b[0mi\u001b[0m\u001b[0;34m]\u001b[0m\u001b[0;34m)\u001b[0m\u001b[0;34m\u001b[0m\u001b[0;34m\u001b[0m\u001b[0m\n\u001b[0m\u001b[1;32m      3\u001b[0m \u001b[0mprint\u001b[0m\u001b[0;34m(\u001b[0m\u001b[0mc\u001b[0m\u001b[0;34m.\u001b[0m\u001b[0mmoleculename\u001b[0m\u001b[0;34m[\u001b[0m\u001b[0;36m826\u001b[0m\u001b[0;34m]\u001b[0m\u001b[0;34m)\u001b[0m\u001b[0;34m\u001b[0m\u001b[0;34m\u001b[0m\u001b[0m\n",
      "\u001b[0;32m~/fastchem/quantum_dataset.py\u001b[0m in \u001b[0;36m__getitem__\u001b[0;34m(self, i)\u001b[0m\n\u001b[1;32m    394\u001b[0m \u001b[0;34m\u001b[0m\u001b[0m\n\u001b[1;32m    395\u001b[0m         \u001b[0mx_con\u001b[0m \u001b[0;34m=\u001b[0m \u001b[0mto_torch\u001b[0m\u001b[0;34m(\u001b[0m\u001b[0mself\u001b[0m\u001b[0;34m.\u001b[0m\u001b[0mcon_ds\u001b[0m\u001b[0;34m,\u001b[0m \u001b[0mi\u001b[0m\u001b[0;34m)\u001b[0m\u001b[0;34m\u001b[0m\u001b[0;34m\u001b[0m\u001b[0m\n\u001b[0;32m--> 396\u001b[0;31m         \u001b[0mx_cat\u001b[0m \u001b[0;34m=\u001b[0m \u001b[0mto_torch\u001b[0m\u001b[0;34m(\u001b[0m\u001b[0mself\u001b[0m\u001b[0;34m.\u001b[0m\u001b[0mcat_ds\u001b[0m\u001b[0;34m,\u001b[0m \u001b[0mi\u001b[0m\u001b[0;34m)\u001b[0m\u001b[0;34m\u001b[0m\u001b[0;34m\u001b[0m\u001b[0m\n\u001b[0m\u001b[1;32m    397\u001b[0m         \u001b[0my\u001b[0m \u001b[0;34m=\u001b[0m \u001b[0mto_torch\u001b[0m\u001b[0;34m(\u001b[0m\u001b[0mself\u001b[0m\u001b[0;34m.\u001b[0m\u001b[0mtarget_ds\u001b[0m\u001b[0;34m,\u001b[0m \u001b[0mi\u001b[0m\u001b[0;34m)\u001b[0m\u001b[0;34m\u001b[0m\u001b[0;34m\u001b[0m\u001b[0m\n\u001b[1;32m    398\u001b[0m         \u001b[0;32mreturn\u001b[0m \u001b[0mx_con\u001b[0m\u001b[0;34m,\u001b[0m \u001b[0mx_cat\u001b[0m\u001b[0;34m,\u001b[0m \u001b[0my\u001b[0m\u001b[0;34m\u001b[0m\u001b[0;34m\u001b[0m\u001b[0m\n",
      "\u001b[0;32m~/fastchem/quantum_dataset.py\u001b[0m in \u001b[0;36mto_torch\u001b[0;34m(ds, i)\u001b[0m\n\u001b[1;32m    391\u001b[0m             \u001b[0;32mif\u001b[0m \u001b[0mlen\u001b[0m\u001b[0;34m(\u001b[0m\u001b[0mds\u001b[0m\u001b[0;34m)\u001b[0m \u001b[0;34m==\u001b[0m \u001b[0;36m0\u001b[0m\u001b[0;34m:\u001b[0m\u001b[0;34m\u001b[0m\u001b[0;34m\u001b[0m\u001b[0m\n\u001b[1;32m    392\u001b[0m                 \u001b[0;32mreturn\u001b[0m \u001b[0;34m[\u001b[0m\u001b[0;34m]\u001b[0m\u001b[0;34m\u001b[0m\u001b[0;34m\u001b[0m\u001b[0m\n\u001b[0;32m--> 393\u001b[0;31m             \u001b[0;32melse\u001b[0m\u001b[0;34m:\u001b[0m \u001b[0;32mreturn\u001b[0m \u001b[0mas_tensor\u001b[0m\u001b[0;34m(\u001b[0m\u001b[0mds\u001b[0m\u001b[0;34m[\u001b[0m\u001b[0mi\u001b[0m\u001b[0;34m]\u001b[0m\u001b[0;34m)\u001b[0m\u001b[0;34m\u001b[0m\u001b[0;34m\u001b[0m\u001b[0m\n\u001b[0m\u001b[1;32m    394\u001b[0m \u001b[0;34m\u001b[0m\u001b[0m\n\u001b[1;32m    395\u001b[0m         \u001b[0mx_con\u001b[0m \u001b[0;34m=\u001b[0m \u001b[0mto_torch\u001b[0m\u001b[0;34m(\u001b[0m\u001b[0mself\u001b[0m\u001b[0;34m.\u001b[0m\u001b[0mcon_ds\u001b[0m\u001b[0;34m,\u001b[0m \u001b[0mi\u001b[0m\u001b[0;34m)\u001b[0m\u001b[0;34m\u001b[0m\u001b[0;34m\u001b[0m\u001b[0m\n",
      "\u001b[0;31mTypeError\u001b[0m: can't convert np.ndarray of type numpy.object_. The only supported types are: float64, float32, float16, int64, int32, int16, int8, uint8, and bool."
     ]
    }
   ],
   "source": [
    "i = 11\n",
    "print(c[i])\n",
    "print(c.moleculename[826])"
   ]
  },
  {
   "cell_type": "code",
   "execution_count": 9,
   "metadata": {},
   "outputs": [
    {
     "data": {
      "text/plain": [
       "id                  16879\n",
       "type                 3JHC\n",
       "atom_index_0            7\n",
       "atom_0                  H\n",
       "x_0              0.899973\n",
       "y_0               1.87081\n",
       "z_0              0.503866\n",
       "atom_index_1            2\n",
       "atom_1                  C\n",
       "x_1            -0.0528712\n",
       "y_1             -0.822738\n",
       "z_1              -1.09212\n",
       "Name: 16879, dtype: object"
      ]
     },
     "execution_count": 9,
     "metadata": {},
     "output_type": "execute_result"
    }
   ],
   "source": [
    "c.df.iloc[16879]"
   ]
  },
  {
   "cell_type": "code",
   "execution_count": 7,
   "metadata": {},
   "outputs": [
    {
     "data": {
      "text/plain": [
       "<bound method Series.unique of 0          C\n",
       "1          H\n",
       "2          H\n",
       "3          H\n",
       "4          C\n",
       "          ..\n",
       "4658142    C\n",
       "4658143    C\n",
       "4658144    C\n",
       "4658145    C\n",
       "4658146    C\n",
       "Name: atom_1, Length: 4658147, dtype: category\n",
       "Categories (3, object): [C, H, N]>"
      ]
     },
     "execution_count": 7,
     "metadata": {},
     "output_type": "execute_result"
    }
   ],
   "source": [
    "c.df['atom_1'].unique"
   ]
  },
  {
   "cell_type": "code",
   "execution_count": 8,
   "metadata": {},
   "outputs": [
    {
     "data": {
      "text/plain": [
       "<bound method Series.unique of 0          H\n",
       "1          H\n",
       "2          H\n",
       "3          H\n",
       "4          H\n",
       "          ..\n",
       "4658142    H\n",
       "4658143    H\n",
       "4658144    H\n",
       "4658145    H\n",
       "4658146    H\n",
       "Name: atom_0, Length: 4658147, dtype: category\n",
       "Categories (1, object): [H]>"
      ]
     },
     "execution_count": 8,
     "metadata": {},
     "output_type": "execute_result"
    }
   ],
   "source": [
    "c.df['atom_0'].unique"
   ]
  },
  {
   "cell_type": "code",
   "execution_count": null,
   "metadata": {},
   "outputs": [],
   "source": [
    "ds_params = {'n': 133885, \n",
    "             'features': ['coulomb','A','B','C','alpha','homo','lumo',\n",
    "                          'gap','r2','zpve','U0','U','H','G','Cv'], \n",
    "             'target': 'mu',\n",
    "             'dim': 29*29,\n",
    "             'use_pickle': True}\n",
    "q = QM9(**ds_params)"
   ]
  },
  {
   "cell_type": "code",
   "execution_count": null,
   "metadata": {},
   "outputs": [],
   "source": [
    "q[1]"
   ]
  },
  {
   "cell_type": "code",
   "execution_count": null,
   "metadata": {},
   "outputs": [],
   "source": []
  },
  {
   "cell_type": "code",
   "execution_count": null,
   "metadata": {},
   "outputs": [],
   "source": []
  }
 ],
 "metadata": {
  "kernelspec": {
   "display_name": "Python 3",
   "language": "python",
   "name": "python3"
  },
  "language_info": {
   "codemirror_mode": {
    "name": "ipython",
    "version": 3
   },
   "file_extension": ".py",
   "mimetype": "text/x-python",
   "name": "python",
   "nbconvert_exporter": "python",
   "pygments_lexer": "ipython3",
   "version": "3.7.5"
  }
 },
 "nbformat": 4,
 "nbformat_minor": 2
}
