{
 "cells": [
  {
   "cell_type": "code",
   "execution_count": 1,
   "metadata": {},
   "outputs": [],
   "source": [
    "from quantum_dataset import QM7, QM7b, QM7X, QM9, ANI1x, Champs, SuperSet\n",
    "from quantum_learning import Learn, Selector, ChampSelector\n",
    "from quantum_model import FFNet, SetTransformer\n",
    "from torch.optim import Adam\n",
    "from torch.nn import MSELoss, L1Loss"
   ]
  },
  {
   "cell_type": "code",
   "execution_count": null,
   "metadata": {
    "scrolled": true
   },
   "outputs": [],
   "source": [
    "opt_params = {'lr': 0.001}\n",
    "model_params = {'D_in': 23*23, \n",
    "                'H': 4096, \n",
    "                'D_out': 1, \n",
    "                'model_name': 'funnel'}\n",
    "ds_params = {}\n",
    "crit_params = {'reduction': 'sum'}\n",
    "\n",
    "Learn(Dataset=QM7, Model=FFNet, Sampler=Selector, Optimizer=Adam, Criterion=L1Loss, \n",
    "      batch_size=256, epochs=10, opt_params=opt_params, model_params=model_params, \n",
    "      ds_params=ds_params, crit_params=crit_params, save_model=False, load_model=False)"
   ]
  },
  {
   "cell_type": "code",
   "execution_count": null,
   "metadata": {},
   "outputs": [],
   "source": [
    "opt_params = {'lr': 0.001}\n",
    "model_params = {'D_in': 23*23+13, \n",
    "                'H': 4096, \n",
    "                'D_out': 1, \n",
    "                'model_name': 'funnel'}\n",
    "ds_params = {'target': 'E', \n",
    "             'features': ['alpha_p','alpha_s','HOMO_g','HOMO_p','HOMO_z','LUMO_g',\n",
    "                          'LUMO_p','LUMO_z','IP','EA','E1','Emax','Imax']}\n",
    "crit_params = {'reduction': 'sum'}\n",
    "\n",
    "Learn(Dataset=QM7b, Model=FFNet, Sampler=Selector, Optimizer=Adam, Criterion=L1Loss, \n",
    "      batch_size=256, epochs=10, opt_params=opt_params, model_params=model_params, \n",
    "      ds_params=ds_params, crit_params=crit_params, save_model=False, load_model=False)"
   ]
  },
  {
   "cell_type": "code",
   "execution_count": null,
   "metadata": {},
   "outputs": [],
   "source": [
    "opt_params = {'lr': 0.001}\n",
    "model_params = {'D_in': 10*10, \n",
    "                'H': 2048, \n",
    "                'D_out': 1, \n",
    "                'model_name': 'funnel'}\n",
    "ds_params = {'n': 133885, \n",
    "             'features': ['coulomb'], \n",
    "             'target': 'U0',\n",
    "             'pad': 10, \n",
    "             'filter_on': ('n_atoms','>','10'),\n",
    "             'use_pickle': False}\n",
    "crit_params = {'reduction': 'sum'}\n",
    "\n",
    "Learn(Dataset=QM9, Model=FFNet, Sampler=Selector, Optimizer=Adam, Criterion=L1Loss,\n",
    "      batch_size=4, epochs=10, model_params=model_params, ds_params=ds_params, \n",
    "      opt_params=opt_params, crit_params=crit_params, save_model=False, load_model=False)"
   ]
  },
  {
   "cell_type": "code",
   "execution_count": 3,
   "metadata": {},
   "outputs": [
    {
     "name": "stdout",
     "output_type": "stream",
     "text": [
      "<class 'quantum_dataset.ANI1x'> dataset created...\n",
      "model loaded from state_dict...\n",
      "epoch: 0 of 10, train loss: 99.63079539837587, val loss: 60.09722175108841\n",
      "epoch: 1 of 10, train loss: 51.99132625775195, val loss: 38.828258859811584\n",
      "epoch: 2 of 10, train loss: 42.47473802547739, val loss: 47.91907703230537\n",
      "epoch: 3 of 10, train loss: 41.38861344926509, val loss: 39.08208402126697\n",
      "epoch: 4 of 10, train loss: 34.62591734191922, val loss: 55.92541964631655\n",
      "epoch: 5 of 10, train loss: 38.822720812859814, val loss: 49.845651341519456\n",
      "epoch: 6 of 10, train loss: 42.95208779472462, val loss: 41.869429580027045\n",
      "epoch: 7 of 10, train loss: 38.85688020682467, val loss: 32.956590374679884\n",
      "epoch: 8 of 10, train loss: 32.67738198028237, val loss: 26.021173534078315\n",
      "epoch: 9 of 10, train loss: 37.01488876331708, val loss: 45.093568072842956\n",
      "test loss: 46.74107721303717\n",
      "y_pred:\n",
      "tensor([[ -613.2756],\n",
      "        [ -342.5166],\n",
      "        [ -576.2786],\n",
      "        [ -423.9948],\n",
      "        [ -581.9558],\n",
      "        [ -346.5957],\n",
      "        [ -811.1497],\n",
      "        [ -418.7604],\n",
      "        [ -437.5071],\n",
      "        [-1106.0698]], device='cuda:0')\n",
      " y:\n",
      "tensor([[ -654.6480],\n",
      "        [ -416.5189],\n",
      "        [ -653.4579],\n",
      "        [ -492.9167],\n",
      "        [ -644.3347],\n",
      "        [ -380.9335],\n",
      "        [ -800.9639],\n",
      "        [ -445.7222],\n",
      "        [ -485.6731],\n",
      "        [-1122.5505]], device='cuda:0', dtype=torch.float64)\n"
     ]
    },
    {
     "data": {
      "image/png": "[encoded data removed]",
      "text/plain": [
       "<Figure size 432x288 with 1 Axes>"
      ]
     },
     "metadata": {
      "needs_background": "light"
     },
     "output_type": "display_data"
    },
    {
     "name": "stdout",
     "output_type": "stream",
     "text": [
      "learning time: 0:00:22.348211\n"
     ]
    }
   ],
   "source": [
    "opt_params = {'lr': 0.001}\n",
    "model_params = {'D_in': 64*63+63+63+63, \n",
    "                'H': 8192, \n",
    "                'D_out': 1, \n",
    "                'model_name': 'funnel'}\n",
    "ds_params = {'features': ['atomic_numbers','coordinates'],\n",
    "             'targets': ['wb97x_dz.energy'],\n",
    "             'embed': [(9,64,True)],\n",
    "             'pad': 63, #length of the longest molecule in the dataset\n",
    "             'criterion': None,\n",
    "             'conformation': 'random',\n",
    "             'in_file': './data/ani1/ani1x-release.h5'}\n",
    "crit_params = {'reduction': 'sum'}\n",
    "sample_params = {'set_seed': 88} #deterministic train/test set selection\n",
    "\n",
    "learn = Learn(Dataset=ANI1x, Model=FFNet, Sampler=Selector, Optimizer=Adam, \n",
    "              Criterion=L1Loss, batch_size=128, epochs=10, opt_params=opt_params, \n",
    "              model_params=model_params, ds_params=ds_params, crit_params=crit_params, \n",
    "              sample_params=sample_params, save_model=False, load_model='20201230_1317.pth',\n",
    "              load_embed=False)\n"
   ]
  },
  {
   "cell_type": "code",
   "execution_count": null,
   "metadata": {},
   "outputs": [],
   "source": [
    "opt_params = {'lr': 0.001}\n",
    "model_params = {'D_in': 128+32+64+32+64, \n",
    "                'H': 2048, \n",
    "                'D_out': 1, \n",
    "                'model_name': 'funnel'}\n",
    "ds_params = {'n': 4658146, \n",
    "             'features': False,\n",
    "             'use_h5': False,  \n",
    "             'infer': False}\n",
    "crit_params = {'reduction': 'sum'}\n",
    "sample_params = {'split': .1, 'subset': False}\n",
    "\n",
    "Learn(Dataset=Champs, Model=FFNet, Sampler=ChampSelector, Optimizer=Adam, Criterion=L1Loss,\n",
    "      batch_size=1024, epochs=10, model_params=model_params, ds_params=ds_params, \n",
    "      sample_params=sample_params, opt_params=opt_params, crit_params=crit_params, \n",
    "      save_model=True, load_model=False)"
   ]
  },
  {
   "cell_type": "code",
   "execution_count": null,
   "metadata": {},
   "outputs": [],
   "source": [
    "model_params = {'D_in': 128+32+64+32+64, \n",
    "                'H': 2048, \n",
    "                'D_out': 1, \n",
    "                'model_name': 'funnel'}\n",
    "ds_params = {'features': False,\n",
    "             'use_h5': False,  \n",
    "             'infer': True}\n",
    "\n",
    "Learn(Dataset=Champs, Model=FFNet, Sampler=Selector, batch_size=2048, model_params=model_params, \n",
    "      ds_params=ds_params, load_model='./models/20201021_2101.pth', adapt=False)"
   ]
  },
  {
   "cell_type": "code",
   "execution_count": null,
   "metadata": {},
   "outputs": [],
   "source": [
    "ds_params = {'features': \n",
    "                 ['DIP','HLgap','KSE','atC6','atNUM','atPOL','atXYZ', \n",
    "                 'eC','eDFTB+MBD','eEE','eH','eKIN','eKSE','eL','eMBD',\n",
    "                 'eNE','eNN','ePBE0','ePBE0+MBD','eTS','eX','eXC','eXX',\n",
    "                 'hCHG','hDIP','hRAT','hVDIP','hVOL','mC6','mPOL','mTPOL',\n",
    "                 'pbe0FOR','sMIT','sRMSD','totFOR','vDIP','vEQ','vIQ',\n",
    "                 'vTQ','vdwFOR','vdwR'],\n",
    "             'pad': 1024,\n",
    "             'target': ['eAT'],\n",
    "             'selector': ['i1-c1-opt']}\n",
    "\n",
    "opt_params = {'lr': 0.001}\n",
    "\n",
    "model_params = {'D_in': 1024, \n",
    "                'H': 2048, \n",
    "                'D_out': 1, \n",
    "                'model_name': 'funnel'}\n",
    "\n",
    "crit_params = {'reduction': 'sum'}\n",
    "\n",
    "sample_params = {'split': .1, 'subset': False}\n",
    "\n",
    "Learn(Dataset=QM7X, Model=FFNet, Sampler=Selector, Optimizer=Adam, Criterion=L1Loss,\n",
    "      batch_size=256, epochs=10, model_params=model_params, ds_params=ds_params, \n",
    "      sample_params=sample_params, opt_params=opt_params, crit_params=crit_params, \n",
    "      save_model=False, load_model=False)"
   ]
  },
  {
   "cell_type": "code",
   "execution_count": null,
   "metadata": {},
   "outputs": [],
   "source": [
    "ds_params = {'n': 133885, \n",
    "             'features': ['coulomb'], \n",
    "             'target': 'U0',\n",
    "             'pad': 10, \n",
    "             'filter_on': ('n_atoms','>','10'),\n",
    "             'use_pickle': 'qm9_n_atoms_10_or_less.p'}\n",
    "\n",
    "opt_params = {'lr': 0.001}\n",
    "\n",
    "model_params = {'dim_input': 100,\n",
    "                'num_outputs': 1,\n",
    "                'dim_output': 1,\n",
    "                'num_inds': 32,\n",
    "                'dim_hidden': 128,\n",
    "                'num_heads': 4,\n",
    "                'ln': False}\n",
    "\n",
    "crit_params = {'reduction': 'sum'}\n",
    "\n",
    "sample_params = {'split': .1, 'subset': False}\n",
    "\n",
    "Learn(Dataset=QM9, Model=SetTransformer, Sampler=Selector, Optimizer=Adam, Criterion=L1Loss,\n",
    "      batch_size=4, epochs=2, model_params=model_params, ds_params=ds_params, \n",
    "      sample_params=sample_params, opt_params=opt_params, crit_params=crit_params, \n",
    "      save_model=False, load_model=False)"
   ]
  },
  {
   "cell_type": "code",
   "execution_count": null,
   "metadata": {},
   "outputs": [],
   "source": [
    "ds_params = {'features': ['atomic_numbers','coordinates'],\n",
    "             'targets': ['wb97x_dz.energy'],\n",
    "             'embed': [(9,64,True)],\n",
    "             'pad': 63, #length of the longest molecule in the dataset\n",
    "             'criterion': None,\n",
    "             'conformation': 'random',\n",
    "             'in_file': './data/ani1/ani1x-release.h5'}\n",
    "\n",
    "ani1x = ANI1x(**ds_params)"
   ]
  },
  {
   "cell_type": "code",
   "execution_count": null,
   "metadata": {},
   "outputs": [],
   "source": [
    "len(ani1x.ds_idx)"
   ]
  },
  {
   "cell_type": "code",
   "execution_count": null,
   "metadata": {},
   "outputs": [],
   "source": [
    "ani1x.ds_idx[:10]"
   ]
  },
  {
   "cell_type": "code",
   "execution_count": null,
   "metadata": {},
   "outputs": [],
   "source": [
    "ani1x.datadic['C10H10']"
   ]
  },
  {
   "cell_type": "code",
   "execution_count": null,
   "metadata": {},
   "outputs": [],
   "source": [
    "ani1x['C10H10']"
   ]
  },
  {
   "cell_type": "code",
   "execution_count": null,
   "metadata": {},
   "outputs": [],
   "source": [
    "ds_params = {'features': ['coordinates','atomic_numbers'],\n",
    "             'targets': ['wb97x_dz.energy'], \n",
    "             'pad': False,\n",
    "             'criterion': 'ccsd(t)_cbs.energy',\n",
    "             'conformation': 'min',\n",
    "             'in_file': './data/ani1/ani1x-release.h5'}\n",
    "\n",
    "ani1x = ANI1x(**ds_params)\n",
    "\n",
    "#find the length of the longest molecule\n",
    "#lg = 0\n",
    "#for mol in ani1x.ds_idx:\n",
    "#    val = ani1x[mol]\n",
    "#    sz = val[0].shape[0]\n",
    "#    if sz > lg:\n",
    "#        lg = sz\n",
    "#print(lg)"
   ]
  },
  {
   "cell_type": "code",
   "execution_count": null,
   "metadata": {},
   "outputs": [],
   "source": [
    "len(ani1x.ds_idx)"
   ]
  },
  {
   "cell_type": "code",
   "execution_count": null,
   "metadata": {},
   "outputs": [],
   "source": [
    "list(ani1x.ds_idx)[:10]"
   ]
  },
  {
   "cell_type": "code",
   "execution_count": null,
   "metadata": {},
   "outputs": [],
   "source": [
    "ani1x['C1H4N4O4']"
   ]
  },
  {
   "cell_type": "code",
   "execution_count": null,
   "metadata": {},
   "outputs": [],
   "source": []
  },
  {
   "cell_type": "code",
   "execution_count": null,
   "metadata": {},
   "outputs": [],
   "source": []
  }
 ],
 "metadata": {
  "kernelspec": {
   "display_name": "Python 3",
   "language": "python",
   "name": "python3"
  },
  "language_info": {
   "codemirror_mode": {
    "name": "ipython",
    "version": 3
   },
   "file_extension": ".py",
   "mimetype": "text/x-python",
   "name": "python",
   "nbconvert_exporter": "python",
   "pygments_lexer": "ipython3",
   "version": "3.7.9"
  }
 },
 "nbformat": 4,
 "nbformat_minor": 4
}
