{
 "cells": [
  {
   "cell_type": "code",
   "execution_count": null,
   "metadata": {},
   "outputs": [],
   "source": [
    "from quantum_dataset import QM7, QM7b, QM7X, QM9, ANI1x, Champs, SuperSet\n",
    "from quantum_learning import Learn, Selector, ChampSelector\n",
    "from quantum_model import FFNet, SetTransformer\n",
    "from torch.optim import Adam\n",
    "from torch.nn import MSELoss, L1Loss"
   ]
  },
  {
   "cell_type": "code",
   "execution_count": null,
   "metadata": {
    "scrolled": true
   },
   "outputs": [],
   "source": [
    "opt_params = {'lr': 0.001}\n",
    "model_params = {'D_in': 23*23, \n",
    "                'H': 4096, \n",
    "                'D_out': 1, \n",
    "                'model_name': 'funnel'}\n",
    "ds_params = {}\n",
    "crit_params = {'reduction': 'sum'}\n",
    "\n",
    "Learn(Dataset=QM7, Model=FFNet, Sampler=Selector, Optimizer=Adam, Criterion=L1Loss, \n",
    "      batch_size=256, epochs=10, opt_params=opt_params, model_params=model_params, \n",
    "      ds_params=ds_params, crit_params=crit_params, save_model=False, load_model=False)"
   ]
  },
  {
   "cell_type": "code",
   "execution_count": null,
   "metadata": {},
   "outputs": [],
   "source": [
    "opt_params = {'lr': 0.001}\n",
    "model_params = {'D_in': 23*23+13, \n",
    "                'H': 4096, \n",
    "                'D_out': 1, \n",
    "                'model_name': 'funnel'}\n",
    "ds_params = {'target': 'E', \n",
    "             'features': ['alpha_p','alpha_s','HOMO_g','HOMO_p','HOMO_z','LUMO_g',\n",
    "                          'LUMO_p','LUMO_z','IP','EA','E1','Emax','Imax']}\n",
    "crit_params = {'reduction': 'sum'}\n",
    "\n",
    "Learn(Dataset=QM7b, Model=FFNet, Sampler=Selector, Optimizer=Adam, Criterion=L1Loss, \n",
    "      batch_size=256, epochs=10, opt_params=opt_params, model_params=model_params, \n",
    "      ds_params=ds_params, crit_params=crit_params, save_model=False, load_model=False)"
   ]
  },
  {
   "cell_type": "code",
   "execution_count": null,
   "metadata": {},
   "outputs": [],
   "source": [
    "opt_params = {'lr': 0.001}\n",
    "model_params = {'D_in': 10*10, \n",
    "                'H': 2048, \n",
    "                'D_out': 1, \n",
    "                'model_name': 'funnel'}\n",
    "ds_params = {'n': 133885, \n",
    "             'features': ['coulomb'], \n",
    "             'target': 'U0',\n",
    "             'pad': 10, \n",
    "             'filter_on': ('n_atoms','>','10'),\n",
    "             'use_pickle': False}\n",
    "crit_params = {'reduction': 'sum'}\n",
    "\n",
    "Learn(Dataset=QM9, Model=FFNet, Sampler=Selector, Optimizer=Adam, Criterion=L1Loss,\n",
    "      batch_size=4, epochs=10, model_params=model_params, ds_params=ds_params, \n",
    "      opt_params=opt_params, crit_params=crit_params, save_model=False, load_model=False)"
   ]
  },
  {
   "cell_type": "code",
   "execution_count": null,
   "metadata": {},
   "outputs": [],
   "source": [
    "opt_params = {'lr': 0.001}\n",
    "model_params = {'D_in': 64*63+63+63+63, \n",
    "                'H': 8192, \n",
    "                'D_out': 1, \n",
    "                'model_name': 'funnel'}\n",
    "ds_params = {'features': ['atomic_numbers','coordinates'],\n",
    "             'targets': ['wb97x_dz.energy'],\n",
    "             'embed': [(9,64,True)],\n",
    "             'pad': 63,\n",
    "             'criterion': 'wb97x_dz.energy',\n",
    "             'conformation': 'random',\n",
    "             'in_file': './data/ani1/ani1x-release.h5'}\n",
    "crit_params = {'reduction': 'sum'}\n",
    "\n",
    "learn = Learn(Dataset=ANI1x, Model=FFNet, Sampler=Selector, Optimizer=Adam, Criterion=L1Loss, \n",
    "              batch_size=128, epochs=1000, opt_params=opt_params, model_params=model_params, \n",
    "              ds_params=ds_params, crit_params=crit_params, save_model=True, \n",
    "              load_model=False)\n"
   ]
  },
  {
   "cell_type": "code",
   "execution_count": null,
   "metadata": {},
   "outputs": [],
   "source": [
    "opt_params = {'lr': 0.001}\n",
    "model_params = {'D_in': 128+32+64+32+64, \n",
    "                'H': 2048, \n",
    "                'D_out': 1, \n",
    "                'model_name': 'funnel'}\n",
    "ds_params = {'n': 4658146, \n",
    "             'features': False,\n",
    "             'use_h5': False,  \n",
    "             'infer': False}\n",
    "crit_params = {'reduction': 'sum'}\n",
    "sample_params = {'split': .1, 'subset': False}\n",
    "\n",
    "Learn(Dataset=Champs, Model=FFNet, Sampler=ChampSelector, Optimizer=Adam, Criterion=L1Loss,\n",
    "      batch_size=1024, epochs=10, model_params=model_params, ds_params=ds_params, \n",
    "      sample_params=sample_params, opt_params=opt_params, crit_params=crit_params, \n",
    "      save_model=True, load_model=False)"
   ]
  },
  {
   "cell_type": "code",
   "execution_count": null,
   "metadata": {},
   "outputs": [],
   "source": [
    "model_params = {'D_in': 128+32+64+32+64, \n",
    "                'H': 2048, \n",
    "                'D_out': 1, \n",
    "                'model_name': 'funnel'}\n",
    "ds_params = {'features': False,\n",
    "             'use_h5': False,  \n",
    "             'infer': True}\n",
    "\n",
    "Learn(Dataset=Champs, Model=FFNet, Sampler=Selector, batch_size=2048, model_params=model_params, \n",
    "      ds_params=ds_params, load_model='./models/20201021_2101.pth', adapt=False)"
   ]
  },
  {
   "cell_type": "code",
   "execution_count": null,
   "metadata": {},
   "outputs": [],
   "source": [
    "ds_params = {'features': \n",
    "                 ['DIP','HLgap','KSE','atC6','atNUM','atPOL','atXYZ', \n",
    "                 'eC','eDFTB+MBD','eEE','eH','eKIN','eKSE','eL','eMBD',\n",
    "                 'eNE','eNN','ePBE0','ePBE0+MBD','eTS','eX','eXC','eXX',\n",
    "                 'hCHG','hDIP','hRAT','hVDIP','hVOL','mC6','mPOL','mTPOL',\n",
    "                 'pbe0FOR','sMIT','sRMSD','totFOR','vDIP','vEQ','vIQ',\n",
    "                 'vTQ','vdwFOR','vdwR'],\n",
    "             'pad': 1024,\n",
    "             'target': ['eAT'],\n",
    "             'selector': ['i1-c1-opt']}\n",
    "\n",
    "opt_params = {'lr': 0.001}\n",
    "\n",
    "model_params = {'D_in': 1024, \n",
    "                'H': 2048, \n",
    "                'D_out': 1, \n",
    "                'model_name': 'funnel'}\n",
    "\n",
    "crit_params = {'reduction': 'sum'}\n",
    "\n",
    "sample_params = {'split': .1, 'subset': False}\n",
    "\n",
    "Learn(Dataset=QM7X, Model=FFNet, Sampler=Selector, Optimizer=Adam, Criterion=L1Loss,\n",
    "      batch_size=256, epochs=10, model_params=model_params, ds_params=ds_params, \n",
    "      sample_params=sample_params, opt_params=opt_params, crit_params=crit_params, \n",
    "      save_model=False, load_model=False)"
   ]
  },
  {
   "cell_type": "code",
   "execution_count": null,
   "metadata": {},
   "outputs": [],
   "source": [
    "ds_params = {'n': 133885, \n",
    "             'features': ['coulomb'], \n",
    "             'target': 'U0',\n",
    "             'pad': 10, \n",
    "             'filter_on': ('n_atoms','>','10'),\n",
    "             'use_pickle': 'qm9_n_atoms_10_or_less.p'}\n",
    "\n",
    "opt_params = {'lr': 0.001}\n",
    "\n",
    "model_params = {'dim_input': 100,\n",
    "                'num_outputs': 1,\n",
    "                'dim_output': 1,\n",
    "                'num_inds': 32,\n",
    "                'dim_hidden': 128,\n",
    "                'num_heads': 4,\n",
    "                'ln': False}\n",
    "\n",
    "crit_params = {'reduction': 'sum'}\n",
    "\n",
    "sample_params = {'split': .1, 'subset': False}\n",
    "\n",
    "Learn(Dataset=QM9, Model=SetTransformer, Sampler=Selector, Optimizer=Adam, Criterion=L1Loss,\n",
    "      batch_size=4, epochs=2, model_params=model_params, ds_params=ds_params, \n",
    "      sample_params=sample_params, opt_params=opt_params, crit_params=crit_params, \n",
    "      save_model=False, load_model=False)"
   ]
  },
  {
   "cell_type": "code",
   "execution_count": null,
   "metadata": {},
   "outputs": [],
   "source": [
    "ds_params = {'features': ['atomic_numbers','coordinates'],\n",
    "             'targets': ['wb97x_dz.energy'], \n",
    "             'pad': False,\n",
    "             'criterion': 'wb97x_dz.energy',\n",
    "             'conformation': 'max',\n",
    "             'in_file': './data/ani1/ani1x-release.h5'}\n",
    "\n",
    "ani1x = ANI1x(**ds_params)"
   ]
  },
  {
   "cell_type": "code",
   "execution_count": null,
   "metadata": {},
   "outputs": [],
   "source": [
    "len(ani1x.ds_idx)"
   ]
  },
  {
   "cell_type": "code",
   "execution_count": null,
   "metadata": {},
   "outputs": [],
   "source": [
    "ani1x.ds_idx[:10]"
   ]
  },
  {
   "cell_type": "code",
   "execution_count": null,
   "metadata": {},
   "outputs": [],
   "source": [
    "ani1x['C10H10']"
   ]
  },
  {
   "cell_type": "code",
   "execution_count": null,
   "metadata": {},
   "outputs": [],
   "source": [
    "ani1x['C5H8N2O1']"
   ]
  },
  {
   "cell_type": "code",
   "execution_count": null,
   "metadata": {},
   "outputs": [],
   "source": [
    "ds_params = {'features': ['coordinates','atomic_numbers','ccsd(t)_cbs.energy'],\n",
    "             'targets': ['ccsd(t)_cbs.energy'], \n",
    "             'pad': False,\n",
    "             'criterion': 'ccsd(t)_cbs.energy',\n",
    "             'conformation': 'min',\n",
    "             'in_file': './data/ani1/ani1x-release.h5'}\n",
    "\n",
    "ani1x = ANI1x(**ds_params)\n",
    "\n",
    "#find the length of the longest molecule\n",
    "#lg = 0\n",
    "#for mol in ani1x.ds_idx:\n",
    "#    val = ani1x[mol]\n",
    "#    sz = val[0].shape[0]\n",
    "#    if sz > lg:\n",
    "#        lg = sz\n",
    "#print(lg)"
   ]
  },
  {
   "cell_type": "code",
   "execution_count": null,
   "metadata": {},
   "outputs": [],
   "source": [
    "len(ani1x.ds_idx)"
   ]
  },
  {
   "cell_type": "code",
   "execution_count": null,
   "metadata": {},
   "outputs": [],
   "source": [
    "list(ani1x.ds_idx)[:10]"
   ]
  },
  {
   "cell_type": "code",
   "execution_count": null,
   "metadata": {},
   "outputs": [],
   "source": [
    "lg = 0\n",
    "for mol in ani1x.ds_idx:\n",
    "    val = ani1x[mol]\n",
    "    sz = val[0].shape[0]\n",
    "    if sz > lg:\n",
    "        lg = sz\n",
    "print(lg)"
   ]
  },
  {
   "cell_type": "code",
   "execution_count": null,
   "metadata": {},
   "outputs": [],
   "source": [
    "ani1x['C6H17N1']"
   ]
  },
  {
   "cell_type": "code",
   "execution_count": null,
   "metadata": {},
   "outputs": [],
   "source": []
  }
 ],
 "metadata": {
  "kernelspec": {
   "display_name": "Python 3",
   "language": "python",
   "name": "python3"
  },
  "language_info": {
   "codemirror_mode": {
    "name": "ipython",
    "version": 3
   },
   "file_extension": ".py",
   "mimetype": "text/x-python",
   "name": "python",
   "nbconvert_exporter": "python",
   "pygments_lexer": "ipython3",
   "version": "3.7.9"
  }
 },
 "nbformat": 4,
 "nbformat_minor": 4
}
