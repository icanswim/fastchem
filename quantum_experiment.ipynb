{
 "cells": [
  {
   "cell_type": "code",
   "execution_count": 1,
   "metadata": {},
   "outputs": [
    {
     "name": "stderr",
     "output_type": "stream",
     "text": [
      "RDKit WARNING: [21:29:46] Enabling RDKit 2019.09.3 jupyter extensions\n"
     ]
    }
   ],
   "source": [
    "from quantum_dataset import QM7, QM7b, QM9, Champs, SuperSet\n",
    "from quantum_learning import Learn, Selector, ChampSelector\n",
    "from quantum_model import FFNet\n",
    "from torch.optim import Adam\n",
    "from torch.nn import MSELoss, L1Loss"
   ]
  },
  {
   "cell_type": "code",
   "execution_count": null,
   "metadata": {
    "scrolled": true
   },
   "outputs": [
    {
     "name": "stdout",
     "output_type": "stream",
     "text": [
      "<class 'quantum_dataset.QM7'> dataset created...\n",
      "epoch: 0 of 100, train loss: 2237706.5108695654, val loss: 1651550.6458333333\n",
      "epoch: 1 of 100, train loss: 1444922.9918478262, val loss: 737475.2083333334\n",
      "epoch: 2 of 100, train loss: 674421.3722826086, val loss: 516082.9270833333\n",
      "epoch: 3 of 100, train loss: 582978.4130434783, val loss: 500845.3645833333\n",
      "epoch: 4 of 100, train loss: 572347.2445652174, val loss: 450661.8541666667\n",
      "epoch: 5 of 100, train loss: 545417.991847826, val loss: 475060.0625\n",
      "epoch: 6 of 100, train loss: 523852.308423913, val loss: 422626.4166666667\n",
      "epoch: 7 of 100, train loss: 503291.33152173914, val loss: 450235.5208333333\n",
      "epoch: 8 of 100, train loss: 490581.6317934783, val loss: 404073.6041666667\n",
      "epoch: 9 of 100, train loss: 478284.45380434784, val loss: 380259.9895833333\n",
      "epoch: 10 of 100, train loss: 455937.76222826086, val loss: 390091.5\n",
      "epoch: 11 of 100, train loss: 433346.95516304346, val loss: 381119.5364583333\n",
      "epoch: 12 of 100, train loss: 417395.152173913, val loss: 367008.078125\n",
      "epoch: 13 of 100, train loss: 410095.16576086957, val loss: 343383.671875\n",
      "epoch: 14 of 100, train loss: 383956.16847826086, val loss: 378823.3854166667\n",
      "epoch: 15 of 100, train loss: 376987.51086956525, val loss: 306895.0520833333\n",
      "epoch: 16 of 100, train loss: 360499.93410326086, val loss: 279099.5677083333\n",
      "epoch: 17 of 100, train loss: 347674.2758152174, val loss: 270797.03125\n",
      "epoch: 18 of 100, train loss: 326690.09850543475, val loss: 277461.625\n",
      "epoch: 19 of 100, train loss: 312270.4307065217, val loss: 272070.1875\n",
      "epoch: 20 of 100, train loss: 302272.29755434784, val loss: 243755.71875\n",
      "epoch: 21 of 100, train loss: 283985.285326087, val loss: 259231.63541666666\n",
      "epoch: 22 of 100, train loss: 272294.1338315217, val loss: 234162.46354166666\n",
      "epoch: 23 of 100, train loss: 264175.8919836957, val loss: 210908.21354166666\n",
      "epoch: 24 of 100, train loss: 251643.88722826086, val loss: 214147.484375\n",
      "epoch: 25 of 100, train loss: 240609.29144021738, val loss: 184212.19010416666\n",
      "epoch: 26 of 100, train loss: 228565.38926630435, val loss: 176318.078125\n",
      "epoch: 27 of 100, train loss: 172791.67934782608, val loss: 103623.17708333333\n",
      "epoch: 28 of 100, train loss: 75887.77921195653, val loss: 40222.638020833336\n",
      "epoch: 29 of 100, train loss: 35405.570906929344, val loss: 24894.829427083332\n",
      "epoch: 30 of 100, train loss: 26512.663552989132, val loss: 22939.973958333332\n",
      "epoch: 31 of 100, train loss: 21031.475331182064, val loss: 12896.174153645834\n",
      "epoch: 32 of 100, train loss: 16131.406398607336, val loss: 11193.803059895834\n",
      "epoch: 33 of 100, train loss: 14997.422172214674, val loss: 10729.453125\n",
      "epoch: 34 of 100, train loss: 11231.326723845108, val loss: 9818.224283854166\n",
      "epoch: 35 of 100, train loss: 9979.942510190218, val loss: 8881.374186197916\n",
      "epoch: 36 of 100, train loss: 10455.420028023098, val loss: 7832.181640625\n",
      "epoch: 37 of 100, train loss: 10260.806513247282, val loss: 6301.002604166667\n",
      "epoch: 38 of 100, train loss: 9105.18898607337, val loss: 10316.0966796875\n",
      "epoch: 39 of 100, train loss: 9293.395720108696, val loss: 8000.934244791667\n",
      "epoch: 40 of 100, train loss: 8373.962720788044, val loss: 8000.388997395833\n",
      "epoch: 41 of 100, train loss: 8656.650263247282, val loss: 12274.113932291666\n",
      "epoch: 42 of 100, train loss: 9470.283288043478, val loss: 5822.266438802083\n",
      "epoch: 43 of 100, train loss: 7421.771611752717, val loss: 6153.40478515625\n",
      "epoch: 44 of 100, train loss: 7420.473059612772, val loss: 6571.5380859375\n",
      "epoch: 45 of 100, train loss: 6854.800526494565, val loss: 10848.647135416666\n",
      "epoch: 46 of 100, train loss: 8576.215225883152, val loss: 8763.6806640625\n",
      "epoch: 47 of 100, train loss: 6987.936884341033, val loss: 6422.238606770833\n",
      "epoch: 48 of 100, train loss: 6934.41111158288, val loss: 5999.827962239583\n",
      "epoch: 49 of 100, train loss: 6392.492909307065, val loss: 7364.2578125\n",
      "epoch: 50 of 100, train loss: 6925.164922299592, val loss: 5720.170572916667\n",
      "epoch: 51 of 100, train loss: 6500.763395889946, val loss: 5500.718912760417\n",
      "epoch: 52 of 100, train loss: 6587.190557065217, val loss: 4422.7177734375\n",
      "epoch: 53 of 100, train loss: 6187.897630774457, val loss: 5549.619710286458\n",
      "epoch: 54 of 100, train loss: 6123.49805748981, val loss: 5229.831217447917\n",
      "epoch: 55 of 100, train loss: 6516.698454483696, val loss: 5651.788004557292\n",
      "epoch: 56 of 100, train loss: 6400.655167289402, val loss: 5375.14794921875\n",
      "epoch: 57 of 100, train loss: 6188.52443529212, val loss: 4918.977213541667\n",
      "epoch: 58 of 100, train loss: 5984.474927819293, val loss: 5704.216145833333\n",
      "epoch: 59 of 100, train loss: 5742.947987432065, val loss: 4861.098958333333\n",
      "epoch: 60 of 100, train loss: 5439.834929093071, val loss: 5174.723307291667\n",
      "epoch: 61 of 100, train loss: 5437.333612856658, val loss: 4671.128499348958\n",
      "epoch: 62 of 100, train loss: 4970.934283712636, val loss: 7677.673828125\n",
      "epoch: 63 of 100, train loss: 5480.956160835598, val loss: 5573.201009114583\n",
      "epoch: 64 of 100, train loss: 5152.432808254076, val loss: 5083.534993489583\n",
      "epoch: 65 of 100, train loss: 5252.927384086277, val loss: 3733.152099609375\n",
      "epoch: 66 of 100, train loss: 5328.919826341712, val loss: 3655.616455078125\n",
      "epoch: 67 of 100, train loss: 5339.33349609375, val loss: 4707.971354166667\n",
      "epoch: 68 of 100, train loss: 5093.431948454484, val loss: 5259.891764322917\n",
      "epoch: 69 of 100, train loss: 4857.977411684783, val loss: 3377.8499348958335\n",
      "epoch: 70 of 100, train loss: 4610.856158712636, val loss: 5537.934733072917\n",
      "epoch: 71 of 100, train loss: 4616.564973250679, val loss: 3440.1446940104165\n",
      "epoch: 72 of 100, train loss: 4962.003991168478, val loss: 5833.1220703125\n",
      "epoch: 73 of 100, train loss: 4855.057224439538, val loss: 4854.33447265625\n",
      "epoch: 74 of 100, train loss: 4411.788160241168, val loss: 3776.895263671875\n",
      "epoch: 75 of 100, train loss: 4815.11085045856, val loss: 3984.8948567708335\n"
     ]
    }
   ],
   "source": [
    "opt_params = {'lr': 0.001}\n",
    "model_params = {'D_in': 23*23, \n",
    "                'H': 4096, \n",
    "                'D_out': 1, \n",
    "                'model_name': 'funnel'}\n",
    "ds_params = {}\n",
    "crit_params = {'reduction': 'sum'}\n",
    "\n",
    "Learn(Dataset=QM7, Model=FFNet, Sampler=Selector, Optimizer=Adam, Criterion=MSELoss, \n",
    "      batch_size=256, epochs=100, opt_params=opt_params, model_params=model_params, \n",
    "      ds_params=ds_params, crit_params=crit_params, save_model=False, load_model=False)"
   ]
  },
  {
   "cell_type": "code",
   "execution_count": null,
   "metadata": {},
   "outputs": [],
   "source": [
    "opt_params = {'lr': 0.001}\n",
    "model_params = {'D_in': 23*23+13, 'H': 4096, 'D_out': 1, 'model_name': 'funnel'}\n",
    "ds_params = {'target': 'E', \n",
    "             'features': ['alpha_p','alpha_s','HOMO_g','HOMO_p','HOMO_z','LUMO_g',\n",
    "                          'LUMO_p','LUMO_z','IP','EA','E1','Emax','Imax']}\n",
    "crit_params = {'reduction': 'sum'}\n",
    "\n",
    "Learn(Dataset=QM7b, Model=FFNet, Sampler=Selector, \n",
    "      Optimizer=Adam, Criterion=MSELoss, batch_size=256, epochs=100, \n",
    "      opt_params=opt_params, model_params=model_params, ds_params=ds_params, \n",
    "      crit_params=crit_params, save_model=False, load_model=False)"
   ]
  },
  {
   "cell_type": "code",
   "execution_count": null,
   "metadata": {},
   "outputs": [],
   "source": [
    "opt_params = {'lr': 0.001}\n",
    "model_params = {'D_in': 29*29+29+14, 'H': 1024, 'D_out': 1, 'model_name': 'funnel'}\n",
    "ds_params = {'n': 133885, \n",
    "             'features': ['coulomb','mulliken','A','B','C','alpha','homo',\n",
    "                          'lumo','gap','r2','zpve','H','U0','U','G','Cv'], \n",
    "             'target': 'mu',\n",
    "             'dim': 29,\n",
    "             'use_pickle': True}\n",
    "crit_params = {'reduction': 'sum'}\n",
    "\n",
    "Learn(Dataset=QM9, Model=FFNet, Sampler=Selector, Optimizer=Adam, Criterion=MSELoss,\n",
    "      batch_size=512, epochs=10, model_params=model_params, ds_params=ds_params, \n",
    "      opt_params=opt_params, crit_params=crit_params, save_model=False, load_model=False)"
   ]
  },
  {
   "cell_type": "code",
   "execution_count": null,
   "metadata": {},
   "outputs": [],
   "source": [
    "opt_params = {'lr': 0.001}\n",
    "model_params = {'D_in': 128+32+64+32+64, 'H': 512, 'D_out': 1, 'model_name': 'funnel'}\n",
    "ds_params = {'n': 4658146, \n",
    "             'features': False,\n",
    "             'use_h5': False,  \n",
    "             'infer': False}\n",
    "crit_params = {'reduction': 'sum'}\n",
    "sample_params = {'split': .1, 'subset': .1}\n",
    "\n",
    "Learn(Dataset=Champs, Model=FFNet, Sampler=ChampSelector, Optimizer=Adam, Criterion=L1Loss,\n",
    "      batch_size=1024, epochs=10, model_params=model_params, ds_params=ds_params, \n",
    "      sample_params=sample_params, opt_params=opt_params, crit_params=crit_params, \n",
    "      save_model=False, load_model=False)"
   ]
  },
  {
   "cell_type": "code",
   "execution_count": null,
   "metadata": {},
   "outputs": [],
   "source": [
    "model_params = {'D_in': 128+32+64+32+64, 'H': 512, 'D_out': 1, 'model_name': 'funnel'}\n",
    "ds_params = {'n': 4658146, \n",
    "             'features': False,\n",
    "             'use_h5': False,  \n",
    "             'infer': False}\n",
    "\n",
    "Learn(Dataset=Champs, Model=FFNet, Sampler=Selector, batch_size=2048, model_params=model_params, \n",
    "      ds_params=ds_params, load_model='./models/20200603_1206.pth', adapt=False)"
   ]
  },
  {
   "cell_type": "code",
   "execution_count": null,
   "metadata": {},
   "outputs": [],
   "source": [
    "ds_params = {'n': 133885, \n",
    "             'features': ['coulomb','mulliken','A','B','C','alpha','homo',\n",
    "                          'lumo','gap','r2','zpve','H','U0','U','G','Cv'], \n",
    "             'target': 'mu',\n",
    "             'dim': 29,\n",
    "             'use_pickle': True}\n",
    "q = QM9(**ds_params)"
   ]
  },
  {
   "cell_type": "code",
   "execution_count": null,
   "metadata": {},
   "outputs": [],
   "source": []
  },
  {
   "cell_type": "code",
   "execution_count": null,
   "metadata": {},
   "outputs": [],
   "source": [
    "cut = 2\n",
    "\n",
    "a = [1,2,3,4,5]\n",
    "b = a[:-cut]\n",
    "c = a[-cut:]\n",
    "\n",
    "print(c)\n",
    "print(b)"
   ]
  },
  {
   "cell_type": "code",
   "execution_count": null,
   "metadata": {},
   "outputs": [],
   "source": [
    "a = [1,2,3,4,5,6,7]\n",
    "cut = 7//(1/.5)\n",
    "print(cut)"
   ]
  },
  {
   "cell_type": "code",
   "execution_count": null,
   "metadata": {},
   "outputs": [],
   "source": []
  }
 ],
 "metadata": {
  "kernelspec": {
   "display_name": "Python 3",
   "language": "python",
   "name": "python3"
  },
  "language_info": {
   "codemirror_mode": {
    "name": "ipython",
    "version": 3
   },
   "file_extension": ".py",
   "mimetype": "text/x-python",
   "name": "python",
   "nbconvert_exporter": "python",
   "pygments_lexer": "ipython3",
   "version": "3.7.7"
  }
 },
 "nbformat": 4,
 "nbformat_minor": 2
}
