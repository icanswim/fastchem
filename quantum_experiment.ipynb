{
 "cells": [
  {
   "cell_type": "code",
   "execution_count": 1,
   "metadata": {},
   "outputs": [],
   "source": [
    "from quantum_dataset import QM7, QM7b, QM9, Champs, SuperSet\n",
    "from quantum_learning import Learn, Selector, ChampSelector\n",
    "from quantum_model import FFNet\n",
    "from torch.optim import Adam\n",
    "from torch.nn import MSELoss, L1Loss"
   ]
  },
  {
   "cell_type": "code",
   "execution_count": null,
   "metadata": {},
   "outputs": [],
   "source": [
    "ds_params = {'n': 133885, \n",
    "             'features': ['coulomb','mulliken','A','B','C','alpha','homo',\n",
    "                          'lumo','gap','r2','zpve','H','U0','U','G','Cv'], \n",
    "             'target': 'mu',\n",
    "             'dim': 29,\n",
    "             'use_pickle': False}\n",
    "\n",
    "QM9(**ds_params)[1]\n"
   ]
  },
  {
   "cell_type": "code",
   "execution_count": null,
   "metadata": {
    "scrolled": true
   },
   "outputs": [],
   "source": [
    "opt_params = {'lr': 0.001}\n",
    "model_params = {'D_in': 23*23, \n",
    "                'H': 8192, \n",
    "                'D_out': 1, \n",
    "                'model_name': 'funnel'}\n",
    "ds_params = {}\n",
    "crit_params = {'reduction': 'sum'}\n",
    "\n",
    "Learn(Dataset=QM7, Model=FFNet, Sampler=Selector, Optimizer=Adam, Criterion=L1Loss, \n",
    "      batch_size=256, epochs=100, opt_params=opt_params, model_params=model_params, \n",
    "      ds_params=ds_params, crit_params=crit_params, save_model=True, load_model=False)"
   ]
  },
  {
   "cell_type": "code",
   "execution_count": null,
   "metadata": {},
   "outputs": [],
   "source": [
    "opt_params = {'lr': 0.001}\n",
    "model_params = {'D_in': 23*23, \n",
    "                'H': 8192, \n",
    "                'D_out': 1, \n",
    "                'model_name': 'deep'}\n",
    "ds_params = {}\n",
    "crit_params = {'reduction': 'sum'}\n",
    "\n",
    "Learn(Dataset=QM7, Model=FFNet, Sampler=Selector, Optimizer=Adam, Criterion=L1Loss, \n",
    "      batch_size=256, epochs=100, opt_params=opt_params, model_params=model_params, \n",
    "      ds_params=ds_params, crit_params=crit_params, save_model=True, load_model=False)"
   ]
  },
  {
   "cell_type": "code",
   "execution_count": null,
   "metadata": {},
   "outputs": [],
   "source": [
    "opt_params = {'lr': 0.001}\n",
    "model_params = {'D_in': 23*23+13, \n",
    "                'H': 8192, \n",
    "                'D_out': 1, \n",
    "                'model_name': 'funnel'}\n",
    "ds_params = {'target': 'E', \n",
    "             'features': ['alpha_p','alpha_s','HOMO_g','HOMO_p','HOMO_z','LUMO_g',\n",
    "                          'LUMO_p','LUMO_z','IP','EA','E1','Emax','Imax']}\n",
    "crit_params = {'reduction': 'sum'}\n",
    "\n",
    "Learn(Dataset=QM7b, Model=FFNet, Sampler=Selector, Optimizer=Adam, Criterion=L1Loss, \n",
    "      batch_size=256, epochs=100, opt_params=opt_params, model_params=model_params, \n",
    "      ds_params=ds_params, crit_params=crit_params, save_model=False, load_model=False)"
   ]
  },
  {
   "cell_type": "code",
   "execution_count": 3,
   "metadata": {},
   "outputs": [
    {
     "name": "stdout",
     "output_type": "stream",
     "text": [
      "QM9 molecules created: 1\n",
      "QM9 molecules created: 10001\n",
      "QM9 molecules created: 20001\n",
      "QM9 molecules created: 30001\n",
      "QM9 molecules created: 40001\n",
      "QM9 molecules created: 50001\n",
      "QM9 molecules created: 60001\n",
      "QM9 molecules created: 70001\n",
      "QM9 molecules created: 80001\n",
      "QM9 molecules created: 90001\n",
      "QM9 molecules created: 100001\n",
      "QM9 molecules created: 110001\n",
      "QM9 molecules created: 120001\n",
      "QM9 molecules created: 130001\n",
      "total QM9 molecules created: 130831\n",
      "pickling a copy of the QM9 datadic...\n",
      "<class 'quantum_dataset.QM9'> dataset created...\n",
      "epoch: 0 of 10, train loss: 140.7850106896706, val loss: 13.73403770273382\n",
      "epoch: 1 of 10, train loss: 10.300043957904705, val loss: 9.04385267604481\n",
      "epoch: 2 of 10, train loss: 9.669600857114329, val loss: 9.441974878311157\n",
      "epoch: 3 of 10, train loss: 7.15939369247955, val loss: 6.620609716935591\n",
      "epoch: 4 of 10, train loss: 5.707060260680115, val loss: 5.915403550321406\n",
      "epoch: 5 of 10, train loss: 4.120550852377438, val loss: 3.551662553440441\n",
      "epoch: 6 of 10, train loss: 3.2126497666812637, val loss: 3.0080096288160845\n",
      "epoch: 7 of 10, train loss: 2.7120197397991292, val loss: 2.4573917280543935\n",
      "epoch: 8 of 10, train loss: 2.447030705155678, val loss: 2.2562986233017663\n",
      "epoch: 9 of 10, train loss: 2.246544906815279, val loss: 1.9710400754755193\n",
      "test loss: 2.1358262062072755\n",
      "y_pred:\n",
      "tensor([[29.2444],\n",
      "        [35.1135],\n",
      "        [35.4039],\n",
      "        [35.7049],\n",
      "        [34.2868],\n",
      "        [30.0693],\n",
      "        [44.9683],\n",
      "        [30.0588],\n",
      "        [31.5511],\n",
      "        [30.4765]], device='cuda:0')\n",
      " y:\n",
      "tensor([[27.9560],\n",
      "        [34.6780],\n",
      "        [34.3780],\n",
      "        [34.6910],\n",
      "        [34.3460],\n",
      "        [29.7470],\n",
      "        [42.7810],\n",
      "        [30.3480],\n",
      "        [31.6090],\n",
      "        [27.8640]], device='cuda:0')\n"
     ]
    },
    {
     "data": {
      "image/png": "[encoded data removed]",
      "text/plain": [
       "<Figure size 432x288 with 1 Axes>"
      ]
     },
     "metadata": {
      "needs_background": "light"
     },
     "output_type": "display_data"
    },
    {
     "name": "stdout",
     "output_type": "stream",
     "text": [
      "learning time: 0:03:45.116329\n"
     ]
    },
    {
     "data": {
      "text/plain": [
       "<quantum_learning.Learn at 0x7ff3e3804290>"
      ]
     },
     "execution_count": 3,
     "metadata": {},
     "output_type": "execute_result"
    }
   ],
   "source": [
    "opt_params = {'lr': 0.001}\n",
    "model_params = {'D_in': 29*29+29+14, \n",
    "                'H': 1024, \n",
    "                'D_out': 1, \n",
    "                'model_name': 'funnel'}\n",
    "ds_params = {'n': 133885, \n",
    "             'features': ['coulomb','mulliken','A','B','C','alpha','homo',\n",
    "                          'lumo','gap','r2','zpve','H','U0','U','G','Cv'], \n",
    "             'target': 'mu',\n",
    "             'dim': 29,\n",
    "             'use_pickle': True}\n",
    "crit_params = {'reduction': 'sum'}\n",
    "\n",
    "Learn(Dataset=QM9, Model=FFNet, Sampler=Selector, Optimizer=Adam, Criterion=MSELoss,\n",
    "      batch_size=512, epochs=10, model_params=model_params, ds_params=ds_params, \n",
    "      opt_params=opt_params, crit_params=crit_params, save_model=False, load_model=False)"
   ]
  },
  {
   "cell_type": "code",
   "execution_count": null,
   "metadata": {},
   "outputs": [],
   "source": [
    "opt_params = {'lr': 0.001}\n",
    "model_params = {'D_in': 128+32+64+32+64, \n",
    "                'H': 2048, \n",
    "                'D_out': 1, \n",
    "                'model_name': 'funnel'}\n",
    "ds_params = {'n': 4658146, \n",
    "             'features': False,\n",
    "             'use_h5': False,  \n",
    "             'infer': False}\n",
    "crit_params = {'reduction': 'sum'}\n",
    "sample_params = {'split': .1, 'subset': False}\n",
    "\n",
    "Learn(Dataset=Champs, Model=FFNet, Sampler=ChampSelector, Optimizer=Adam, Criterion=L1Loss,\n",
    "      batch_size=1024, epochs=10, model_params=model_params, ds_params=ds_params, \n",
    "      sample_params=sample_params, opt_params=opt_params, crit_params=crit_params, \n",
    "      save_model=False, load_model=False)"
   ]
  },
  {
   "cell_type": "code",
   "execution_count": null,
   "metadata": {},
   "outputs": [],
   "source": [
    "model_params = {'D_in': 128+32+64+32+64, \n",
    "                'H': 2048, \n",
    "                'D_out': 1, \n",
    "                'model_name': 'funnel'}\n",
    "ds_params = {'n': 4658146, \n",
    "             'features': False,\n",
    "             'use_h5': False,  \n",
    "             'infer': True}\n",
    "\n",
    "Learn(Dataset=Champs, Model=FFNet, Sampler=Selector, batch_size=2048, model_params=model_params, \n",
    "      ds_params=ds_params, load_model='./models/20200627_1723.pth', adapt=False)"
   ]
  }
 ],
 "metadata": {
  "kernelspec": {
   "display_name": "Python 3",
   "language": "python",
   "name": "python3"
  },
  "language_info": {
   "codemirror_mode": {
    "name": "ipython",
    "version": 3
   },
   "file_extension": ".py",
   "mimetype": "text/x-python",
   "name": "python",
   "nbconvert_exporter": "python",
   "pygments_lexer": "ipython3",
   "version": "3.7.9"
  }
 },
 "nbformat": 4,
 "nbformat_minor": 4
}
