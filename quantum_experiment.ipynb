{
 "cells": [
  {
   "cell_type": "code",
   "execution_count": 1,
   "metadata": {},
   "outputs": [],
   "source": [
    "from quantum_dataset import QM7, QM7b, QM7X, QM9, Champs, SuperSet\n",
    "from quantum_learning import Learn, Selector, ChampSelector\n",
    "from quantum_model import FFNet\n",
    "from torch.optim import Adam\n",
    "from torch.nn import MSELoss, L1Loss"
   ]
  },
  {
   "cell_type": "code",
   "execution_count": null,
   "metadata": {
    "scrolled": true
   },
   "outputs": [],
   "source": [
    "opt_params = {'lr': 0.001}\n",
    "model_params = {'D_in': 23*23, \n",
    "                'H': 4096, \n",
    "                'D_out': 1, \n",
    "                'model_name': 'funnel'}\n",
    "ds_params = {}\n",
    "crit_params = {'reduction': 'sum'}\n",
    "\n",
    "Learn(Dataset=QM7, Model=FFNet, Sampler=Selector, Optimizer=Adam, Criterion=L1Loss, \n",
    "      batch_size=256, epochs=200, opt_params=opt_params, model_params=model_params, \n",
    "      ds_params=ds_params, crit_params=crit_params, save_model=False, load_model=False)"
   ]
  },
  {
   "cell_type": "code",
   "execution_count": null,
   "metadata": {},
   "outputs": [],
   "source": [
    "opt_params = {'lr': 0.001}\n",
    "model_params = {'D_in': 23*23, \n",
    "                'H': 4096, \n",
    "                'D_out': 1, \n",
    "                'model_name': 'simple'}\n",
    "ds_params = {}\n",
    "crit_params = {'reduction': 'sum'}\n",
    "\n",
    "Learn(Dataset=QM7, Model=FFNet, Sampler=Selector, Optimizer=Adam, Criterion=L1Loss, \n",
    "      batch_size=256, epochs=200, opt_params=opt_params, model_params=model_params, \n",
    "      ds_params=ds_params, crit_params=crit_params, save_model=False, load_model=False)"
   ]
  },
  {
   "cell_type": "code",
   "execution_count": null,
   "metadata": {},
   "outputs": [],
   "source": [
    "opt_params = {'lr': 0.001}\n",
    "model_params = {'D_in': 23*23+13, \n",
    "                'H': 4096, \n",
    "                'D_out': 1, \n",
    "                'model_name': 'funnel'}\n",
    "ds_params = {'target': 'E', \n",
    "             'features': ['alpha_p','alpha_s','HOMO_g','HOMO_p','HOMO_z','LUMO_g',\n",
    "                          'LUMO_p','LUMO_z','IP','EA','E1','Emax','Imax']}\n",
    "crit_params = {'reduction': 'sum'}\n",
    "\n",
    "Learn(Dataset=QM7b, Model=FFNet, Sampler=Selector, Optimizer=Adam, Criterion=L1Loss, \n",
    "      batch_size=256, epochs=100, opt_params=opt_params, model_params=model_params, \n",
    "      ds_params=ds_params, crit_params=crit_params, save_model=False, load_model=False)"
   ]
  },
  {
   "cell_type": "code",
   "execution_count": null,
   "metadata": {},
   "outputs": [],
   "source": [
    "opt_params = {'lr': 0.001}\n",
    "model_params = {'D_in': 29*29+29+14, \n",
    "                'H': 1024, \n",
    "                'D_out': 1, \n",
    "                'model_name': 'funnel'}\n",
    "ds_params = {'n': 133885, \n",
    "             'features': ['coulomb','mulliken','A','B','C','alpha','homo',\n",
    "                          'lumo','gap','r2','zpve','H','U0','U','G','Cv'], \n",
    "             'target': 'mu',\n",
    "             'dim': 29,\n",
    "             'use_pickle': True}\n",
    "crit_params = {'reduction': 'sum'}\n",
    "\n",
    "Learn(Dataset=QM9, Model=FFNet, Sampler=Selector, Optimizer=Adam, Criterion=MSELoss,\n",
    "      batch_size=512, epochs=10, model_params=model_params, ds_params=ds_params, \n",
    "      opt_params=opt_params, crit_params=crit_params, save_model=False, load_model=False)"
   ]
  },
  {
   "cell_type": "code",
   "execution_count": null,
   "metadata": {},
   "outputs": [],
   "source": [
    "opt_params = {'lr': 0.001}\n",
    "model_params = {'D_in': 128+32+64+32+64, \n",
    "                'H': 2048, \n",
    "                'D_out': 1, \n",
    "                'model_name': 'funnel'}\n",
    "ds_params = {'n': 4658146, \n",
    "             'features': False,\n",
    "             'use_h5': False,  \n",
    "             'infer': False}\n",
    "crit_params = {'reduction': 'sum'}\n",
    "sample_params = {'split': .1, 'subset': False}\n",
    "\n",
    "Learn(Dataset=Champs, Model=FFNet, Sampler=ChampSelector, Optimizer=Adam, Criterion=L1Loss,\n",
    "      batch_size=1024, epochs=10, model_params=model_params, ds_params=ds_params, \n",
    "      sample_params=sample_params, opt_params=opt_params, crit_params=crit_params, \n",
    "      save_model=True, load_model=False)"
   ]
  },
  {
   "cell_type": "code",
   "execution_count": null,
   "metadata": {},
   "outputs": [],
   "source": [
    "model_params = {'D_in': 128+32+64+32+64, \n",
    "                'H': 2048, \n",
    "                'D_out': 1, \n",
    "                'model_name': 'funnel'}\n",
    "ds_params = {'features': False,\n",
    "             'use_h5': False,  \n",
    "             'infer': True}\n",
    "\n",
    "Learn(Dataset=Champs, Model=FFNet, Sampler=Selector, batch_size=2048, model_params=model_params, \n",
    "      ds_params=ds_params, load_model='./models/20201021_2101.pth', adapt=False)"
   ]
  },
  {
   "cell_type": "code",
   "execution_count": null,
   "metadata": {},
   "outputs": [],
   "source": [
    "ds_params = {'n': 133885, \n",
    "             'features': ['coulomb','mulliken','A','B','C','alpha','homo',\n",
    "                          'lumo','gap','r2','zpve','H','U0','U','G','Cv'], \n",
    "             'target': 'mu',\n",
    "             'dim': 29,\n",
    "             'use_pickle': True}\n",
    "\n",
    "sorted(QM9(**ds_params).ds_idx)[:20]"
   ]
  },
  {
   "cell_type": "code",
   "execution_count": 2,
   "metadata": {},
   "outputs": [
    {
     "name": "stdout",
     "output_type": "stream",
     "text": [
      "opening...  <HDF5 file \"1000.hdf5\" (mode r)>\n",
      "opening...  <HDF5 file \"2000.hdf5\" (mode r)>\n",
      "opening...  <HDF5 file \"3000.hdf5\" (mode r)>\n",
      "opening...  <HDF5 file \"4000.hdf5\" (mode r)>\n",
      "opening...  <HDF5 file \"5000.hdf5\" (mode r)>\n",
      "opening...  <HDF5 file \"6000.hdf5\" (mode r)>\n",
      "opening...  <HDF5 file \"7000.hdf5\" (mode r)>\n",
      "opening...  <HDF5 file \"8000.hdf5\" (mode r)>\n",
      "molecular formula (idmol) selected:  6950\n",
      "total molecular structures (idconf) selected:  41537\n",
      "molecular formula loaded:  6950\n"
     ]
    }
   ],
   "source": [
    "qm7x = QM7X('/home/fltr/QM7X/')"
   ]
  },
  {
   "cell_type": "code",
   "execution_count": 11,
   "metadata": {},
   "outputs": [
    {
     "data": {
      "text/plain": [
       "[array([6.e-06]),\n",
       " array([11.647887]),\n",
       " array([-277.49777,  -19.5151 ,  -11.03115,  -11.03102,  -11.03085,\n",
       "           0.61704,    1.88845,    1.88846,    1.88851,    4.07037,\n",
       "           4.07047,    4.07051,    6.96265,    8.27375]),\n",
       " array([[29.51409 ],\n",
       "        [ 1.382479],\n",
       "        [ 1.382523],\n",
       "        [ 1.382454],\n",
       "        [ 1.382469]]),\n",
       " array([6, 1, 1, 1, 1]),\n",
       " array([[9.287211],\n",
       "        [1.878467],\n",
       "        [1.87851 ],\n",
       "        [1.878445],\n",
       "        [1.878461]]),\n",
       " array([[ 8.000000e-06, -4.000000e-06,  1.000000e-06],\n",
       "        [ 1.080441e+00, -1.500000e-05, -1.800000e-05],\n",
       "        [-3.601530e-01,  4.480940e-01,  9.148020e-01],\n",
       "        [-3.601700e-01, -1.016264e+00, -6.936300e-02],\n",
       "        [-3.601650e-01,  5.682070e-01, -8.454280e-01]]),\n",
       " array([19.313757]),\n",
       " array([-8.201925]),\n",
       " array([-87.933148]),\n",
       " array([895.460508]),\n",
       " array([-11.03085]),\n",
       " array([1096.305188]),\n",
       " array([-660.211789]),\n",
       " array([0.61704]),\n",
       " array([-0.022546]),\n",
       " array([-3275.417738]),\n",
       " array([368.831933]),\n",
       " array([-1101.471863]),\n",
       " array([-1101.494409]),\n",
       " array([-0.00043]),\n",
       " array([-178.449829]),\n",
       " array([-186.651754]),\n",
       " array([-44.846574]),\n",
       " array([[-0.166435],\n",
       "        [ 0.04161 ],\n",
       "        [ 0.041606],\n",
       "        [ 0.04161 ],\n",
       "        [ 0.041609]]),\n",
       " array([[8.0000e-06],\n",
       "        [9.1641e-02],\n",
       "        [9.1641e-02],\n",
       "        [9.1639e-02],\n",
       "        [9.1637e-02]]),\n",
       " array([[0.718363],\n",
       "        [0.561935],\n",
       "        [0.561939],\n",
       "        [0.561935],\n",
       "        [0.561937]]),\n",
       " array([[ 6.0000e-06, -1.0000e-06,  5.0000e-06],\n",
       "        [ 9.1641e-02, -1.0000e-06, -2.0000e-06],\n",
       "        [-3.0550e-02,  3.8007e-02,  7.7590e-02],\n",
       "        [-3.0550e-02, -8.6196e-02, -5.8830e-03],\n",
       "        [-3.0549e-02,  4.8193e-02, -7.1705e-02]]),\n",
       " array([[27.57664 ],\n",
       "        [ 5.796871],\n",
       "        [ 5.796912],\n",
       "        [ 5.796873],\n",
       "        [ 5.796893]]),\n",
       " array([105.456398]),\n",
       " array([17.087168]),\n",
       " array([ 1.7087371e+01, -7.1000000e-05, -3.9000000e-05, -7.1000000e-05,\n",
       "         1.7087122e+01,  1.1700000e-04, -3.9000000e-05,  1.1700000e-04,\n",
       "         1.7087009e+01]),\n",
       " array([[-5.12000e-04,  5.15000e-04,  2.26000e-04],\n",
       "        [ 2.78067e-01,  1.30000e-05,  3.80000e-05],\n",
       "        [-9.23850e-02,  1.15061e-01,  2.35168e-01],\n",
       "        [-9.26950e-02, -2.61812e-01, -1.77820e-02],\n",
       "        [-9.25710e-02,  1.46267e-01, -2.17724e-01]]),\n",
       " array([ 3.137765e+00,  1.800000e-05,  1.200000e-05,  1.800000e-05,\n",
       "         3.137828e+00, -3.100000e-05,  1.200000e-05, -3.100000e-05,\n",
       "         3.137847e+00]),\n",
       " array([0.]),\n",
       " array([[-4.96000e-04,  5.07000e-04,  2.38000e-04],\n",
       "        [ 2.76901e-01,  6.00000e-06,  5.30000e-05],\n",
       "        [-9.19770e-02,  1.14551e-01,  2.34180e-01],\n",
       "        [-9.22740e-02, -2.60704e-01, -1.76960e-02],\n",
       "        [-9.21540e-02,  1.45640e-01, -2.16774e-01]]),\n",
       " array([-5.e-06,  1.e-06, -3.e-06]),\n",
       " array([-1.11e-04, -7.00e-06,  1.18e-04]),\n",
       " array([-1.68e-04, -5.00e-06,  1.73e-04]),\n",
       " array([-6.2e-05,  1.0e-06,  6.1e-05]),\n",
       " array([[-0.000e+00, -0.000e+00, -0.000e+00],\n",
       "        [-1.190e-03,  0.000e+00,  0.000e+00],\n",
       "        [ 3.970e-04, -4.940e-04, -1.007e-03],\n",
       "        [ 3.970e-04,  1.119e-03,  7.600e-05],\n",
       "        [ 3.970e-04, -6.260e-04,  9.310e-04]]),\n",
       " array([[3.324027],\n",
       "        [2.321712],\n",
       "        [2.32173 ],\n",
       "        [2.321702],\n",
       "        [2.321709]])]"
      ]
     },
     "execution_count": 11,
     "metadata": {},
     "output_type": "execute_result"
    }
   ],
   "source": [
    "qm7x[1]"
   ]
  },
  {
   "cell_type": "code",
   "execution_count": null,
   "metadata": {},
   "outputs": [],
   "source": []
  },
  {
   "cell_type": "code",
   "execution_count": null,
   "metadata": {},
   "outputs": [],
   "source": [
    "list(qm7x[2]['Geom-m2-i1-c1-opt'].values())[2][()]"
   ]
  },
  {
   "cell_type": "code",
   "execution_count": null,
   "metadata": {},
   "outputs": [],
   "source": [
    "list(qm7x[2]['Geom-m2-i1-c1-opt'].values())"
   ]
  },
  {
   "cell_type": "code",
   "execution_count": null,
   "metadata": {},
   "outputs": [],
   "source": [
    "mols = QM7X.map_dataset(in_dir='/home/fltr/QM7X/', selector=['opt'])"
   ]
  },
  {
   "cell_type": "code",
   "execution_count": null,
   "metadata": {},
   "outputs": [],
   "source": []
  },
  {
   "cell_type": "code",
   "execution_count": null,
   "metadata": {},
   "outputs": [],
   "source": [
    "sorted(list(map(int, list(mols.keys()))))[:20]\n"
   ]
  },
  {
   "cell_type": "code",
   "execution_count": null,
   "metadata": {},
   "outputs": [],
   "source": [
    "mols['27']"
   ]
  },
  {
   "cell_type": "code",
   "execution_count": null,
   "metadata": {},
   "outputs": [],
   "source": []
  }
 ],
 "metadata": {
  "kernelspec": {
   "display_name": "Python 3",
   "language": "python",
   "name": "python3"
  },
  "language_info": {
   "codemirror_mode": {
    "name": "ipython",
    "version": 3
   },
   "file_extension": ".py",
   "mimetype": "text/x-python",
   "name": "python",
   "nbconvert_exporter": "python",
   "pygments_lexer": "ipython3",
   "version": "3.7.9"
  }
 },
 "nbformat": 4,
 "nbformat_minor": 4
}
