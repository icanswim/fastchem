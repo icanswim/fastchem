{
 "cells": [
  {
   "cell_type": "code",
   "execution_count": 1,
   "metadata": {},
   "outputs": [
    {
     "name": "stderr",
     "output_type": "stream",
     "text": [
      "RDKit WARNING: [21:40:30] Enabling RDKit 2019.09.3 jupyter extensions\n"
     ]
    }
   ],
   "source": [
    "from quantum_dataset import QM7, QM7b, QM9, Champs, SuperSet\n",
    "from quantum_learning import Learn, Selector, ChampSelector\n",
    "from quantum_model import FFNet\n",
    "from torch.optim import Adam\n",
    "from torch.nn import MSELoss, L1Loss"
   ]
  },
  {
   "cell_type": "code",
   "execution_count": 2,
   "metadata": {
    "scrolled": true
   },
   "outputs": [
    {
     "name": "stdout",
     "output_type": "stream",
     "text": [
      "<class 'quantum_dataset.QM7'> dataset created...\n",
      "epoch: 0 of 200, train loss: 2036978.2838541667, val loss: 2015669.1770833333\n",
      "epoch: 1 of 200, train loss: 1988982.8177083333, val loss: 1943201.2356770833\n",
      "epoch: 2 of 200, train loss: 1927734.1197916667, val loss: 1858085.732421875\n",
      "epoch: 3 of 200, train loss: 1768152.8860677083, val loss: 1671066.6197916667\n",
      "epoch: 4 of 200, train loss: 1666283.5625, val loss: 1540289.1328125\n",
      "epoch: 5 of 200, train loss: 1446799.396484375, val loss: 1307319.888671875\n",
      "epoch: 6 of 200, train loss: 1200811.294921875, val loss: 1054263.1979166667\n",
      "epoch: 7 of 200, train loss: 1001304.9348958334, val loss: 862263.2493489584\n",
      "epoch: 8 of 200, train loss: 791206.6822916666, val loss: 679329.7102864584\n",
      "epoch: 9 of 200, train loss: 640511.6852213541, val loss: 570077.8541666666\n",
      "epoch: 10 of 200, train loss: 529678.9565429688, val loss: 505068.9244791667\n",
      "epoch: 11 of 200, train loss: 531272.7610677084, val loss: 521740.6168619792\n",
      "epoch: 12 of 200, train loss: 511379.7727864583, val loss: 474502.1373697917\n",
      "epoch: 13 of 200, train loss: 473393.9244791667, val loss: 445014.44921875\n",
      "epoch: 14 of 200, train loss: 382710.3177083333, val loss: 353336.6282552083\n",
      "epoch: 15 of 200, train loss: 328528.5755208333, val loss: 315873.1233723958\n",
      "epoch: 16 of 200, train loss: 307054.7838541667, val loss: 306638.4088541667\n",
      "epoch: 17 of 200, train loss: 304534.7867838542, val loss: 270651.6946614583\n",
      "epoch: 18 of 200, train loss: 304415.59375, val loss: 290953.0930989583\n",
      "epoch: 19 of 200, train loss: 265508.4973958333, val loss: 251949.2109375\n",
      "epoch: 20 of 200, train loss: 261595.5341796875, val loss: 261748.69173177084\n",
      "epoch: 21 of 200, train loss: 260916.37890625, val loss: 251595.68489583334\n",
      "epoch: 22 of 200, train loss: 256469.81477864584, val loss: 245249.01595052084\n",
      "epoch: 23 of 200, train loss: 241329.92838541666, val loss: 231939.8671875\n",
      "epoch: 24 of 200, train loss: 250587.67252604166, val loss: 249634.53515625\n",
      "epoch: 25 of 200, train loss: 239740.478515625, val loss: 227422.82356770834\n",
      "epoch: 26 of 200, train loss: 218377.17057291666, val loss: 204577.36197916666\n",
      "epoch: 27 of 200, train loss: 218036.66666666666, val loss: 207595.802734375\n",
      "epoch: 28 of 200, train loss: 196077.55208333334, val loss: 164793.14485677084\n",
      "epoch: 29 of 200, train loss: 164018.74609375, val loss: 175339.55208333334\n",
      "epoch: 30 of 200, train loss: 161236.97493489584, val loss: 142286.78255208334\n",
      "epoch: 31 of 200, train loss: 142029.47298177084, val loss: 121118.62369791667\n",
      "epoch: 32 of 200, train loss: 133105.42578125, val loss: 146843.90625\n",
      "epoch: 33 of 200, train loss: 156229.38802083334, val loss: 137958.6484375\n",
      "epoch: 34 of 200, train loss: 130724.42415364583, val loss: 109410.28125\n",
      "epoch: 35 of 200, train loss: 112912.00651041667, val loss: 93920.10807291667\n",
      "epoch: 36 of 200, train loss: 116487.25260416667, val loss: 138120.1953125\n",
      "epoch: 37 of 200, train loss: 98078.41927083333, val loss: 94889.609375\n",
      "epoch: 38 of 200, train loss: 107392.37369791667, val loss: 98839.23958333333\n",
      "epoch: 39 of 200, train loss: 85858.91861979167, val loss: 86357.34114583333\n",
      "epoch: 40 of 200, train loss: 85976.34440104167, val loss: 76542.57682291667\n",
      "epoch: 41 of 200, train loss: 97439.7734375, val loss: 84906.63802083333\n",
      "epoch: 42 of 200, train loss: 87606.03841145833, val loss: 84299.07161458333\n",
      "epoch: 43 of 200, train loss: 76428.32552083333, val loss: 79194.5859375\n",
      "epoch: 44 of 200, train loss: 68702.484375, val loss: 67621.197265625\n",
      "epoch: 45 of 200, train loss: 71307.90169270833, val loss: 62273.67578125\n",
      "epoch: 46 of 200, train loss: 63655.609375, val loss: 57247.073567708336\n",
      "epoch: 47 of 200, train loss: 58733.582682291664, val loss: 61804.608723958336\n",
      "epoch: 48 of 200, train loss: 74203.93684895833, val loss: 62317.4296875\n",
      "epoch: 49 of 200, train loss: 82072.12174479167, val loss: 68592.74544270833\n",
      "epoch: 50 of 200, train loss: 72306.38802083333, val loss: 77943.43684895833\n",
      "epoch: 51 of 200, train loss: 57759.339192708336, val loss: 67776.85221354167\n",
      "epoch: 52 of 200, train loss: 58185.561197916664, val loss: 54420.057291666664\n",
      "epoch: 53 of 200, train loss: 54098.532552083336, val loss: 47444.228515625\n",
      "epoch: 54 of 200, train loss: 57945.85546875, val loss: 55114.298828125\n",
      "epoch: 55 of 200, train loss: 63327.9375, val loss: 56248.057942708336\n",
      "epoch: 56 of 200, train loss: 75278.22981770833, val loss: 54912.66796875\n",
      "epoch: 57 of 200, train loss: 45029.704427083336, val loss: 46713.656575520836\n",
      "epoch: 58 of 200, train loss: 54182.6005859375, val loss: 54471.861979166664\n",
      "epoch: 59 of 200, train loss: 49777.9765625, val loss: 40713.575520833336\n",
      "epoch: 60 of 200, train loss: 44139.349609375, val loss: 45444.422526041664\n",
      "epoch: 61 of 200, train loss: 44522.6455078125, val loss: 44161.473307291664\n",
      "epoch: 62 of 200, train loss: 40409.7822265625, val loss: 42369.301432291664\n",
      "epoch: 63 of 200, train loss: 49682.235677083336, val loss: 49968.580729166664\n",
      "epoch: 64 of 200, train loss: 46723.5576171875, val loss: 36044.509114583336\n",
      "epoch: 65 of 200, train loss: 42815.920572916664, val loss: 42052.891927083336\n",
      "epoch: 66 of 200, train loss: 37781.8779296875, val loss: 49826.46875\n",
      "epoch: 67 of 200, train loss: 33618.503743489586, val loss: 46960.417317708336\n",
      "epoch: 68 of 200, train loss: 40251.455078125, val loss: 34721.1630859375\n",
      "epoch: 69 of 200, train loss: 32451.571940104168, val loss: 45039.7890625\n",
      "epoch: 70 of 200, train loss: 42735.698567708336, val loss: 29262.748697916668\n",
      "epoch: 71 of 200, train loss: 38980.7470703125, val loss: 37872.6708984375\n",
      "epoch: 72 of 200, train loss: 33461.59765625, val loss: 35557.785807291664\n",
      "epoch: 73 of 200, train loss: 30850.292317708332, val loss: 33587.734212239586\n",
      "epoch: 74 of 200, train loss: 39427.362467447914, val loss: 39284.736979166664\n",
      "epoch: 75 of 200, train loss: 36550.306640625, val loss: 29117.642740885418\n",
      "epoch: 76 of 200, train loss: 29052.568359375, val loss: 32177.61328125\n",
      "epoch: 77 of 200, train loss: 27995.114827473957, val loss: 32528.91015625\n",
      "epoch: 78 of 200, train loss: 30024.455729166668, val loss: 31521.2431640625\n",
      "epoch: 79 of 200, train loss: 31734.650716145832, val loss: 28386.2138671875\n",
      "epoch: 80 of 200, train loss: 29591.358235677082, val loss: 29132.350748697918\n",
      "epoch: 81 of 200, train loss: 27868.447021484375, val loss: 27569.480794270832\n",
      "epoch: 82 of 200, train loss: 27407.872721354168, val loss: 20328.27783203125\n",
      "epoch: 83 of 200, train loss: 34909.236979166664, val loss: 24030.5927734375\n",
      "epoch: 84 of 200, train loss: 31396.332682291668, val loss: 34330.331380208336\n",
      "epoch: 85 of 200, train loss: 30118.5732421875, val loss: 31683.895670572918\n",
      "epoch: 86 of 200, train loss: 30548.572102864582, val loss: 28475.250813802082\n",
      "epoch: 87 of 200, train loss: 25036.09619140625, val loss: 27121.414876302082\n",
      "epoch: 88 of 200, train loss: 23882.965901692707, val loss: 26738.874267578125\n",
      "epoch: 89 of 200, train loss: 24216.62430826823, val loss: 32829.531901041664\n",
      "epoch: 90 of 200, train loss: 26790.205078125, val loss: 30765.205078125\n",
      "epoch: 91 of 200, train loss: 25414.157877604168, val loss: 26810.11328125\n",
      "epoch: 92 of 200, train loss: 28430.315104166668, val loss: 28012.594401041668\n",
      "epoch: 93 of 200, train loss: 23452.47265625, val loss: 23010.105061848957\n",
      "epoch: 94 of 200, train loss: 30986.567220052082, val loss: 30894.524841308594\n",
      "epoch: 95 of 200, train loss: 26952.657063802082, val loss: 29794.305989583332\n",
      "epoch: 96 of 200, train loss: 25709.616536458332, val loss: 21777.72265625\n",
      "epoch: 97 of 200, train loss: 23117.279459635418, val loss: 27192.669514973957\n",
      "epoch: 98 of 200, train loss: 27126.509440104168, val loss: 24767.576171875\n",
      "epoch: 99 of 200, train loss: 23374.827311197918, val loss: 19134.1240234375\n",
      "epoch: 100 of 200, train loss: 22120.184895833332, val loss: 18681.047485351562\n",
      "epoch: 101 of 200, train loss: 21060.729736328125, val loss: 22356.501953125\n",
      "epoch: 102 of 200, train loss: 25829.735595703125, val loss: 18757.889322916668\n",
      "epoch: 103 of 200, train loss: 20945.455235799152, val loss: 20293.697530110676\n",
      "epoch: 104 of 200, train loss: 16660.138916015625, val loss: 19073.015299479168\n",
      "epoch: 105 of 200, train loss: 18253.535237630207, val loss: 17259.893391927082\n",
      "epoch: 106 of 200, train loss: 18992.909016927082, val loss: 18350.40946451823\n"
     ]
    },
    {
     "name": "stdout",
     "output_type": "stream",
     "text": [
      "epoch: 107 of 200, train loss: 21589.192952473957, val loss: 16644.421061197918\n",
      "epoch: 108 of 200, train loss: 21392.740559895832, val loss: 19056.039713541668\n",
      "epoch: 109 of 200, train loss: 20259.9501953125, val loss: 18927.6171875\n",
      "epoch: 110 of 200, train loss: 19590.992268880207, val loss: 14548.252888997396\n",
      "epoch: 111 of 200, train loss: 19367.837565104168, val loss: 19397.18603515625\n",
      "epoch: 112 of 200, train loss: 17869.145060221355, val loss: 14557.150655110678\n",
      "epoch: 113 of 200, train loss: 14632.775919596354, val loss: 18175.081013997395\n",
      "epoch: 114 of 200, train loss: 16219.400553385416, val loss: 15130.11631266276\n",
      "epoch: 115 of 200, train loss: 15475.608235677084, val loss: 15190.382405598959\n",
      "epoch: 116 of 200, train loss: 11349.293111165365, val loss: 13761.853190104166\n",
      "epoch: 117 of 200, train loss: 12728.799565633139, val loss: 15466.652506510416\n",
      "epoch: 118 of 200, train loss: 13292.292856852213, val loss: 13080.306111653646\n",
      "epoch: 119 of 200, train loss: 12488.3056640625, val loss: 11909.812093098959\n",
      "epoch: 120 of 200, train loss: 15381.88623046875, val loss: 14049.152506510416\n",
      "epoch: 121 of 200, train loss: 14215.428873697916, val loss: 11820.0263671875\n",
      "epoch: 122 of 200, train loss: 12426.8330078125, val loss: 11822.106201171875\n",
      "epoch: 123 of 200, train loss: 13577.100952148438, val loss: 13392.598510742188\n",
      "epoch: 124 of 200, train loss: 12347.336100260416, val loss: 12264.833536783854\n",
      "epoch: 125 of 200, train loss: 13768.310139973959, val loss: 9976.511149088541\n",
      "epoch: 126 of 200, train loss: 9354.620416005453, val loss: 9878.097900390625\n",
      "epoch: 127 of 200, train loss: 7623.773244222005, val loss: 8966.190124511719\n",
      "epoch: 128 of 200, train loss: 9677.255655924479, val loss: 8033.274963378906\n",
      "epoch: 129 of 200, train loss: 8453.314778645834, val loss: 8812.346761067709\n",
      "epoch: 130 of 200, train loss: 8820.43940226237, val loss: 8184.0971272786455\n",
      "epoch: 131 of 200, train loss: 8659.739176432291, val loss: 6964.393819173177\n",
      "epoch: 132 of 200, train loss: 7108.0249430338545, val loss: 6056.048807779948\n",
      "epoch: 133 of 200, train loss: 7042.9003499348955, val loss: 7328.264078776042\n",
      "epoch: 134 of 200, train loss: 6343.56787109375, val loss: 7850.844970703125\n",
      "epoch: 135 of 200, train loss: 5813.639821370442, val loss: 5776.358825683594\n",
      "epoch: 136 of 200, train loss: 5904.2444407145185, val loss: 9695.329508463541\n",
      "epoch: 137 of 200, train loss: 6357.8720703125, val loss: 6644.541259765625\n",
      "epoch: 138 of 200, train loss: 7731.121012369792, val loss: 6110.423309326172\n",
      "epoch: 139 of 200, train loss: 6049.2401936848955, val loss: 6660.595540364583\n",
      "epoch: 140 of 200, train loss: 6468.896016438802, val loss: 7614.7738037109375\n",
      "epoch: 141 of 200, train loss: 6628.8991292317705, val loss: 6818.0778401692705\n",
      "epoch: 142 of 200, train loss: 7230.751057942708, val loss: 5783.305745442708\n",
      "epoch: 143 of 200, train loss: 7567.129557291667, val loss: 5379.760284423828\n",
      "epoch: 144 of 200, train loss: 5999.908548990886, val loss: 5684.704508463542\n",
      "epoch: 145 of 200, train loss: 7749.645182291667, val loss: 6587.2334391276045\n",
      "epoch: 146 of 200, train loss: 6526.6221923828125, val loss: 6190.052022298177\n",
      "epoch: 147 of 200, train loss: 6437.511149088542, val loss: 6609.386881510417\n",
      "epoch: 148 of 200, train loss: 7185.942057291667, val loss: 5796.539957682292\n",
      "epoch: 149 of 200, train loss: 5901.560465494792, val loss: 5864.310791015625\n",
      "epoch: 150 of 200, train loss: 5498.952331542969, val loss: 6538.577748616536\n",
      "epoch: 151 of 200, train loss: 6588.4844156901045, val loss: 7077.514241536458\n",
      "epoch: 152 of 200, train loss: 6849.996765136719, val loss: 4310.318501790364\n",
      "epoch: 153 of 200, train loss: 5731.703206380208, val loss: 6439.405924479167\n",
      "epoch: 154 of 200, train loss: 4862.045715332031, val loss: 4298.057963053386\n",
      "epoch: 155 of 200, train loss: 5070.2043050130205, val loss: 5367.241827646892\n",
      "epoch: 156 of 200, train loss: 5414.313456217448, val loss: 5110.8170166015625\n",
      "epoch: 157 of 200, train loss: 5632.681070963542, val loss: 5523.9699300130205\n",
      "epoch: 158 of 200, train loss: 5823.599034627278, val loss: 4889.760823567708\n",
      "epoch: 159 of 200, train loss: 5272.8613688151045, val loss: 4982.9619140625\n",
      "epoch: 160 of 200, train loss: 6184.509338378906, val loss: 5489.407307942708\n",
      "epoch: 161 of 200, train loss: 6070.733833312988, val loss: 5718.4761149088545\n",
      "epoch: 162 of 200, train loss: 5846.940704345703, val loss: 5541.202667236328\n",
      "epoch: 163 of 200, train loss: 5471.412699381511, val loss: 4825.275553385417\n",
      "epoch: 164 of 200, train loss: 4868.126708984375, val loss: 6007.2681070963545\n",
      "epoch: 165 of 200, train loss: 7317.374348958333, val loss: 4714.1901448567705\n",
      "epoch: 166 of 200, train loss: 5329.2777913411455, val loss: 4896.668393452962\n",
      "epoch: 167 of 200, train loss: 5518.4826253255205, val loss: 5611.891357421875\n",
      "epoch: 168 of 200, train loss: 6308.578552246094, val loss: 5265.652913411458\n",
      "epoch: 169 of 200, train loss: 4956.483744303386, val loss: 5020.992004394531\n",
      "epoch: 170 of 200, train loss: 4617.901748657227, val loss: 5203.50639851888\n",
      "epoch: 171 of 200, train loss: 4643.234375, val loss: 5358.911600748698\n",
      "epoch: 172 of 200, train loss: 5087.6413167317705, val loss: 4841.7940673828125\n",
      "epoch: 173 of 200, train loss: 5620.282206217448, val loss: 5141.695170084636\n",
      "epoch: 174 of 200, train loss: 5795.278483072917, val loss: 6416.0030517578125\n",
      "epoch: 175 of 200, train loss: 4883.657643636067, val loss: 4906.157063802083\n",
      "epoch: 176 of 200, train loss: 4869.743815104167, val loss: 4909.0482991536455\n",
      "epoch: 177 of 200, train loss: 5576.956563313802, val loss: 4734.641184488933\n",
      "epoch: 178 of 200, train loss: 5350.600962320964, val loss: 6498.2677815755205\n",
      "epoch: 179 of 200, train loss: 5707.765299479167, val loss: 6709.07568359375\n",
      "epoch: 180 of 200, train loss: 4720.894226074219, val loss: 5531.71088663737\n",
      "epoch: 181 of 200, train loss: 5410.616861979167, val loss: 3923.5504557291665\n",
      "epoch: 182 of 200, train loss: 5896.690592447917, val loss: 5235.0178629557295\n",
      "epoch: 183 of 200, train loss: 4805.240336100261, val loss: 4221.3194580078125\n",
      "epoch: 184 of 200, train loss: 5943.153157552083, val loss: 4400.6745198567705\n",
      "epoch: 185 of 200, train loss: 4731.969401041667, val loss: 3887.5142618815103\n",
      "epoch: 186 of 200, train loss: 5098.511672973633, val loss: 3682.1845703125\n",
      "epoch: 187 of 200, train loss: 4406.474464416504, val loss: 6048.536783854167\n",
      "epoch: 188 of 200, train loss: 4493.687093098958, val loss: 5649.5891520182295\n",
      "epoch: 189 of 200, train loss: 3728.3820597330728, val loss: 4056.3959147135415\n",
      "epoch: 190 of 200, train loss: 4551.945454915364, val loss: 5340.8236083984375\n",
      "epoch: 191 of 200, train loss: 4916.261149088542, val loss: 4599.021993001302\n",
      "epoch: 192 of 200, train loss: 4782.538981119792, val loss: 4838.383728027344\n",
      "epoch: 193 of 200, train loss: 5348.33935546875, val loss: 5086.7666015625\n",
      "epoch: 194 of 200, train loss: 5154.496419270833, val loss: 3857.8162129720054\n",
      "epoch: 195 of 200, train loss: 5894.679423014323, val loss: 4621.446065266927\n",
      "epoch: 196 of 200, train loss: 4823.431396484375, val loss: 4200.1160888671875\n",
      "epoch: 197 of 200, train loss: 4547.775960286458, val loss: 4852.935465494792\n",
      "epoch: 198 of 200, train loss: 6035.9302164713545, val loss: 5609.228108723958\n",
      "epoch: 199 of 200, train loss: 4219.701904296875, val loss: 4064.3200480143228\n",
      "test loss: 4485.783610026042\n"
     ]
    },
    {
     "data": {
      "image/png": "[encoded data removed]",
      "text/plain": [
       "<Figure size 432x288 with 1 Axes>"
      ]
     },
     "metadata": {
      "needs_background": "light"
     },
     "output_type": "display_data"
    },
    {
     "name": "stdout",
     "output_type": "stream",
     "text": [
      "learning time: 0:01:54.089864\n"
     ]
    },
    {
     "data": {
      "text/plain": [
       "<quantum_learning.Learn at 0x7fdcf02fc690>"
      ]
     },
     "execution_count": 2,
     "metadata": {},
     "output_type": "execute_result"
    }
   ],
   "source": [
    "opt_params = {'lr': 0.001}\n",
    "model_params = {'D_in': 23*23, \n",
    "                'H': 4096, \n",
    "                'D_out': 1, \n",
    "                'model_name': 'funnel'}\n",
    "ds_params = {}\n",
    "crit_params = {'reduction': 'sum'}\n",
    "\n",
    "Learn(Dataset=QM7, Model=FFNet, Sampler=Selector, Optimizer=Adam, Criterion=MSELoss, \n",
    "      batch_size=128, epochs=200, opt_params=opt_params, model_params=model_params, \n",
    "      ds_params=ds_params, crit_params=crit_params, save_model=False, load_model=False)"
   ]
  },
  {
   "cell_type": "code",
   "execution_count": null,
   "metadata": {},
   "outputs": [],
   "source": [
    "opt_params = {'lr': 0.001}\n",
    "model_params = {'D_in': 23*23+13, 'H': 4096, 'D_out': 1, 'model_name': 'funnel'}\n",
    "ds_params = {'target': 'E', \n",
    "             'features': ['alpha_p','alpha_s','HOMO_g','HOMO_p','HOMO_z','LUMO_g',\n",
    "                          'LUMO_p','LUMO_z','IP','EA','E1','Emax','Imax']}\n",
    "crit_params = {'reduction': 'sum'}\n",
    "\n",
    "Learn(Dataset=QM7b, Model=FFNet, Sampler=Selector, \n",
    "      Optimizer=Adam, Criterion=MSELoss, batch_size=128, epochs=20, \n",
    "      opt_params=opt_params, model_params=model_params, ds_params=ds_params, \n",
    "      crit_params=crit_params, save_model=False, load_model=False)"
   ]
  },
  {
   "cell_type": "code",
   "execution_count": null,
   "metadata": {},
   "outputs": [],
   "source": [
    "opt_params = {'lr': 0.001}\n",
    "model_params = {'D_in': 29*29+29+14, 'H': 1024, 'D_out': 1, 'model_name': 'funnel'}\n",
    "ds_params = {'n': 133885, \n",
    "             'features': ['coulomb','mulliken','A','B','C','alpha','homo',\n",
    "                          'lumo','gap','r2','zpve','H','U0','U','G','Cv'], \n",
    "             'target': 'mu',\n",
    "             'dim': 29,\n",
    "             'use_pickle': True}\n",
    "crit_params = {'reduction': 'sum'}\n",
    "\n",
    "Learn(Dataset=QM9, Model=FFNet, Sampler=Selector, Optimizer=Adam, Criterion=MSELoss,\n",
    "      batch_size=2048, epochs=10, model_params=model_params, ds_params=ds_params, \n",
    "      opt_params=opt_params, crit_params=crit_params, save_model=False, load_model=False)"
   ]
  },
  {
   "cell_type": "code",
   "execution_count": null,
   "metadata": {},
   "outputs": [],
   "source": [
    "opt_params = {'lr': 0.001}\n",
    "model_params = {'D_in': 128+32+64+32+64, 'H': 512, 'D_out': 1, 'model_name': 'funnel'}\n",
    "ds_params = {'n': 4658146, \n",
    "             'features': False,\n",
    "             'use_h5': False,  \n",
    "             'infer': False}\n",
    "crit_params = {'reduction': 'sum'}\n",
    "sample_params = {'split': .1, 'subset': .1}\n",
    "\n",
    "Learn(Dataset=Champs, Model=FFNet, Sampler=ChampSelector, Optimizer=Adam, Criterion=L1Loss,\n",
    "      batch_size=512, epochs=10, model_params=model_params, ds_params=ds_params, \n",
    "      sample_params=sample_params, opt_params=opt_params, crit_params=crit_params, \n",
    "      save_model=False, load_model=False)"
   ]
  },
  {
   "cell_type": "code",
   "execution_count": null,
   "metadata": {},
   "outputs": [],
   "source": [
    "model_params = {'D_in': 128+32+64+32+64, 'H': 512, 'D_out': 1, 'model_name': 'funnel'}\n",
    "ds_params = {'n': 4658146, \n",
    "             'features': False,\n",
    "             'use_h5': False,  \n",
    "             'infer': False}\n",
    "\n",
    "Learn(Dataset=Champs, Model=FFNet, Sampler=Selector, batch_size=2048, model_params=model_params, \n",
    "      ds_params=ds_params, load_model='./models/20200603_1206.pth', adapt=False)"
   ]
  },
  {
   "cell_type": "code",
   "execution_count": null,
   "metadata": {},
   "outputs": [],
   "source": [
    "ds_params = {'n': 133885, \n",
    "             'features': ['coulomb','mulliken','A','B','C','alpha','homo',\n",
    "                          'lumo','gap','r2','zpve','H','U0','U','G','Cv'], \n",
    "             'target': 'mu',\n",
    "             'dim': 29,\n",
    "             'use_pickle': True}\n",
    "q = QM9(**ds_params)"
   ]
  },
  {
   "cell_type": "code",
   "execution_count": null,
   "metadata": {},
   "outputs": [],
   "source": [
    "a = [1,2,3,4]\n",
    "b = [2,3,5,6,7,8]\n",
    "\n",
    "c = {i:(True if i in a else False) for i in b}\n",
    "print(c)"
   ]
  },
  {
   "cell_type": "code",
   "execution_count": null,
   "metadata": {},
   "outputs": [],
   "source": [
    "d = [i for i in b if c[i]]\n",
    "print(d)"
   ]
  },
  {
   "cell_type": "code",
   "execution_count": null,
   "metadata": {},
   "outputs": [],
   "source": []
  }
 ],
 "metadata": {
  "kernelspec": {
   "display_name": "Python 3",
   "language": "python",
   "name": "python3"
  },
  "language_info": {
   "codemirror_mode": {
    "name": "ipython",
    "version": 3
   },
   "file_extension": ".py",
   "mimetype": "text/x-python",
   "name": "python",
   "nbconvert_exporter": "python",
   "pygments_lexer": "ipython3",
   "version": "3.7.7"
  }
 },
 "nbformat": 4,
 "nbformat_minor": 2
}
