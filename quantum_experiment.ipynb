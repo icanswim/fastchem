{
 "cells": [
  {
   "cell_type": "code",
   "execution_count": 1,
   "metadata": {},
   "outputs": [],
   "source": [
    "from quantum_dataset import QM7, QM7b, QM7X, QM9, Champs, SuperSet\n",
    "from quantum_learning import Learn, Selector, ChampSelector\n",
    "from quantum_model import FFNet\n",
    "from torch.optim import Adam\n",
    "from torch.nn import MSELoss, L1Loss"
   ]
  },
  {
   "cell_type": "code",
   "execution_count": null,
   "metadata": {
    "scrolled": true
   },
   "outputs": [],
   "source": [
    "opt_params = {'lr': 0.001}\n",
    "model_params = {'D_in': 23*23, \n",
    "                'H': 4096, \n",
    "                'D_out': 1, \n",
    "                'model_name': 'funnel'}\n",
    "ds_params = {}\n",
    "crit_params = {'reduction': 'sum'}\n",
    "\n",
    "Learn(Dataset=QM7, Model=FFNet, Sampler=Selector, Optimizer=Adam, Criterion=L1Loss, \n",
    "      batch_size=256, epochs=200, opt_params=opt_params, model_params=model_params, \n",
    "      ds_params=ds_params, crit_params=crit_params, save_model=False, load_model=False)"
   ]
  },
  {
   "cell_type": "code",
   "execution_count": null,
   "metadata": {},
   "outputs": [],
   "source": [
    "opt_params = {'lr': 0.001}\n",
    "model_params = {'D_in': 23*23, \n",
    "                'H': 4096, \n",
    "                'D_out': 1, \n",
    "                'model_name': 'simple'}\n",
    "ds_params = {}\n",
    "crit_params = {'reduction': 'sum'}\n",
    "\n",
    "Learn(Dataset=QM7, Model=FFNet, Sampler=Selector, Optimizer=Adam, Criterion=L1Loss, \n",
    "      batch_size=256, epochs=200, opt_params=opt_params, model_params=model_params, \n",
    "      ds_params=ds_params, crit_params=crit_params, save_model=False, load_model=False)"
   ]
  },
  {
   "cell_type": "code",
   "execution_count": null,
   "metadata": {},
   "outputs": [],
   "source": [
    "opt_params = {'lr': 0.001}\n",
    "model_params = {'D_in': 23*23+13, \n",
    "                'H': 4096, \n",
    "                'D_out': 1, \n",
    "                'model_name': 'funnel'}\n",
    "ds_params = {'target': 'E', \n",
    "             'features': ['alpha_p','alpha_s','HOMO_g','HOMO_p','HOMO_z','LUMO_g',\n",
    "                          'LUMO_p','LUMO_z','IP','EA','E1','Emax','Imax']}\n",
    "crit_params = {'reduction': 'sum'}\n",
    "\n",
    "Learn(Dataset=QM7b, Model=FFNet, Sampler=Selector, Optimizer=Adam, Criterion=L1Loss, \n",
    "      batch_size=256, epochs=100, opt_params=opt_params, model_params=model_params, \n",
    "      ds_params=ds_params, crit_params=crit_params, save_model=False, load_model=False)"
   ]
  },
  {
   "cell_type": "code",
   "execution_count": null,
   "metadata": {},
   "outputs": [],
   "source": [
    "opt_params = {'lr': 0.001}\n",
    "model_params = {'D_in': 29*29+29+14, \n",
    "                'H': 1024, \n",
    "                'D_out': 1, \n",
    "                'model_name': 'funnel'}\n",
    "ds_params = {'n': 133885, \n",
    "             'features': ['coulomb','mulliken','A','B','C','alpha','homo',\n",
    "                          'lumo','gap','r2','zpve','H','U0','U','G','Cv'], \n",
    "             'target': 'mu',\n",
    "             'dim': 29,\n",
    "             'use_pickle': True}\n",
    "crit_params = {'reduction': 'sum'}\n",
    "\n",
    "Learn(Dataset=QM9, Model=FFNet, Sampler=Selector, Optimizer=Adam, Criterion=MSELoss,\n",
    "      batch_size=512, epochs=10, model_params=model_params, ds_params=ds_params, \n",
    "      opt_params=opt_params, crit_params=crit_params, save_model=False, load_model=False)"
   ]
  },
  {
   "cell_type": "code",
   "execution_count": null,
   "metadata": {},
   "outputs": [],
   "source": [
    "opt_params = {'lr': 0.001}\n",
    "model_params = {'D_in': 128+32+64+32+64, \n",
    "                'H': 2048, \n",
    "                'D_out': 1, \n",
    "                'model_name': 'funnel'}\n",
    "ds_params = {'n': 4658146, \n",
    "             'features': False,\n",
    "             'use_h5': False,  \n",
    "             'infer': False}\n",
    "crit_params = {'reduction': 'sum'}\n",
    "sample_params = {'split': .1, 'subset': False}\n",
    "\n",
    "Learn(Dataset=Champs, Model=FFNet, Sampler=ChampSelector, Optimizer=Adam, Criterion=L1Loss,\n",
    "      batch_size=1024, epochs=10, model_params=model_params, ds_params=ds_params, \n",
    "      sample_params=sample_params, opt_params=opt_params, crit_params=crit_params, \n",
    "      save_model=True, load_model=False)"
   ]
  },
  {
   "cell_type": "code",
   "execution_count": null,
   "metadata": {},
   "outputs": [],
   "source": [
    "model_params = {'D_in': 128+32+64+32+64, \n",
    "                'H': 2048, \n",
    "                'D_out': 1, \n",
    "                'model_name': 'funnel'}\n",
    "ds_params = {'features': False,\n",
    "             'use_h5': False,  \n",
    "             'infer': True}\n",
    "\n",
    "Learn(Dataset=Champs, Model=FFNet, Sampler=Selector, batch_size=2048, model_params=model_params, \n",
    "      ds_params=ds_params, load_model='./models/20201021_2101.pth', adapt=False)"
   ]
  },
  {
   "cell_type": "code",
   "execution_count": null,
   "metadata": {},
   "outputs": [],
   "source": [
    "ds_params = {'n': 133885, \n",
    "             'features': ['coulomb','mulliken','A','B','C','alpha','homo',\n",
    "                          'lumo','gap','r2','zpve','H','U0','U','G','Cv'], \n",
    "             'target': 'mu',\n",
    "             'dim': 29,\n",
    "             'use_pickle': True}\n",
    "\n",
    "sorted(QM9(**ds_params).ds_idx)[:20]"
   ]
  },
  {
   "cell_type": "code",
   "execution_count": 3,
   "metadata": {},
   "outputs": [
    {
     "name": "stdout",
     "output_type": "stream",
     "text": [
      "opening...  <HDF5 file \"1000.hdf5\" (mode r)>\n",
      "opening...  <HDF5 file \"2000.hdf5\" (mode r)>\n",
      "opening...  <HDF5 file \"3000.hdf5\" (mode r)>\n",
      "opening...  <HDF5 file \"4000.hdf5\" (mode r)>\n",
      "opening...  <HDF5 file \"5000.hdf5\" (mode r)>\n",
      "opening...  <HDF5 file \"6000.hdf5\" (mode r)>\n",
      "opening...  <HDF5 file \"7000.hdf5\" (mode r)>\n",
      "opening...  <HDF5 file \"8000.hdf5\" (mode r)>\n",
      "molecular formula (idmol) selected:  6950\n",
      "total molecular structures (idconf) selected:  41537\n",
      "molecular formula loaded:  6950\n"
     ]
    }
   ],
   "source": [
    "features = ['DIP','HLgap','KSE','atC6','atNUM','atPOL','atXYZ','eAT', \n",
    "            'eC','eDFTB+MBD','eEE','eH','eKIN','eKSE','eL','eMBD','eNE', \n",
    "            'eNN','ePBE0','ePBE0+MBD','eTS','eX','eXC','eXX','hCHG', \n",
    "            'hDIP','hRAT','hVDIP','hVOL','mC6','mPOL','mTPOL','pbe0FOR', \n",
    "            'sMIT','sRMSD','totFOR','vDIP','vEQ','vIQ','vTQ','vdwFOR','vdwR']\n",
    "\n",
    "target = ['vdwFOR','vdwR']\n",
    "\n",
    "qm7x = QM7X(features=features, target=target, in_dir='/home/fltr/QM7X/', selector=['opt'])"
   ]
  },
  {
   "cell_type": "code",
   "execution_count": 4,
   "metadata": {},
   "outputs": [
    {
     "data": {
      "text/plain": [
       "(tensor([ 6.0000e-06,  1.1648e+01, -2.7750e+02, -1.9515e+01, -1.1031e+01,\n",
       "         -1.1031e+01, -1.1031e+01,  6.1704e-01,  1.8884e+00,  1.8885e+00,\n",
       "          1.8885e+00,  4.0704e+00,  4.0705e+00,  4.0705e+00,  6.9627e+00,\n",
       "          8.2737e+00,  2.9514e+01,  1.3825e+00,  1.3825e+00,  1.3825e+00,\n",
       "          1.3825e+00,  6.0000e+00,  1.0000e+00,  1.0000e+00,  1.0000e+00,\n",
       "          1.0000e+00,  9.2872e+00,  1.8785e+00,  1.8785e+00,  1.8784e+00,\n",
       "          1.8785e+00,  8.0000e-06, -4.0000e-06,  1.0000e-06,  1.0804e+00,\n",
       "         -1.5000e-05, -1.8000e-05, -3.6015e-01,  4.4809e-01,  9.1480e-01,\n",
       "         -3.6017e-01, -1.0163e+00, -6.9363e-02, -3.6017e-01,  5.6821e-01,\n",
       "         -8.4543e-01,  1.9314e+01, -8.2019e+00, -8.7933e+01,  8.9546e+02,\n",
       "         -1.1031e+01,  1.0963e+03, -6.6021e+02,  6.1704e-01, -2.2546e-02,\n",
       "         -3.2754e+03,  3.6883e+02, -1.1015e+03, -1.1015e+03, -4.3000e-04,\n",
       "         -1.7845e+02, -1.8665e+02, -4.4847e+01, -1.6643e-01,  4.1610e-02,\n",
       "          4.1606e-02,  4.1610e-02,  4.1609e-02,  8.0000e-06,  9.1641e-02,\n",
       "          9.1641e-02,  9.1639e-02,  9.1637e-02,  7.1836e-01,  5.6193e-01,\n",
       "          5.6194e-01,  5.6193e-01,  5.6194e-01,  6.0000e-06, -1.0000e-06,\n",
       "          5.0000e-06,  9.1641e-02, -1.0000e-06, -2.0000e-06, -3.0550e-02,\n",
       "          3.8007e-02,  7.7590e-02, -3.0550e-02, -8.6196e-02, -5.8830e-03,\n",
       "         -3.0549e-02,  4.8193e-02, -7.1705e-02,  2.7577e+01,  5.7969e+00,\n",
       "          5.7969e+00,  5.7969e+00,  5.7969e+00,  1.0546e+02,  1.7087e+01,\n",
       "          1.7087e+01, -7.1000e-05, -3.9000e-05, -7.1000e-05,  1.7087e+01,\n",
       "          1.1700e-04, -3.9000e-05,  1.1700e-04,  1.7087e+01, -5.1200e-04,\n",
       "          5.1500e-04,  2.2600e-04,  2.7807e-01,  1.3000e-05,  3.8000e-05,\n",
       "         -9.2385e-02,  1.1506e-01,  2.3517e-01, -9.2695e-02, -2.6181e-01,\n",
       "         -1.7782e-02, -9.2571e-02,  1.4627e-01, -2.1772e-01,  3.1378e+00,\n",
       "          1.8000e-05,  1.2000e-05,  1.8000e-05,  3.1378e+00, -3.1000e-05,\n",
       "          1.2000e-05, -3.1000e-05,  3.1378e+00,  0.0000e+00, -4.9600e-04,\n",
       "          5.0700e-04,  2.3800e-04,  2.7690e-01,  6.0000e-06,  5.3000e-05,\n",
       "         -9.1977e-02,  1.1455e-01,  2.3418e-01, -9.2274e-02, -2.6070e-01,\n",
       "         -1.7696e-02, -9.2154e-02,  1.4564e-01, -2.1677e-01, -5.0000e-06,\n",
       "          1.0000e-06, -3.0000e-06, -1.1100e-04, -7.0000e-06,  1.1800e-04,\n",
       "         -1.6800e-04, -5.0000e-06,  1.7300e-04, -6.2000e-05,  1.0000e-06,\n",
       "          6.1000e-05, -0.0000e+00, -0.0000e+00, -0.0000e+00, -1.1900e-03,\n",
       "          0.0000e+00,  0.0000e+00,  3.9700e-04, -4.9400e-04, -1.0070e-03,\n",
       "          3.9700e-04,  1.1190e-03,  7.6000e-05,  3.9700e-04, -6.2600e-04,\n",
       "          9.3100e-04,  3.3240e+00,  2.3217e+00,  2.3217e+00,  2.3217e+00,\n",
       "          2.3217e+00], dtype=torch.float64),\n",
       " [],\n",
       " tensor([-0.0000e+00, -0.0000e+00, -0.0000e+00, -1.1900e-03,  0.0000e+00,\n",
       "          0.0000e+00,  3.9700e-04, -4.9400e-04, -1.0070e-03,  3.9700e-04,\n",
       "          1.1190e-03,  7.6000e-05,  3.9700e-04, -6.2600e-04,  9.3100e-04,\n",
       "          3.3240e+00,  2.3217e+00,  2.3217e+00,  2.3217e+00,  2.3217e+00],\n",
       "        dtype=torch.float64))"
      ]
     },
     "execution_count": 4,
     "metadata": {},
     "output_type": "execute_result"
    }
   ],
   "source": [
    "qm7x[1]"
   ]
  },
  {
   "cell_type": "code",
   "execution_count": null,
   "metadata": {},
   "outputs": [],
   "source": []
  },
  {
   "cell_type": "code",
   "execution_count": null,
   "metadata": {},
   "outputs": [],
   "source": [
    "list(qm7x[2]['Geom-m2-i1-c1-opt'].values())[2][()]"
   ]
  },
  {
   "cell_type": "code",
   "execution_count": null,
   "metadata": {},
   "outputs": [],
   "source": [
    "list(qm7x[2]['Geom-m2-i1-c1-opt'].values())"
   ]
  },
  {
   "cell_type": "code",
   "execution_count": null,
   "metadata": {},
   "outputs": [],
   "source": [
    "mols = QM7X.map_dataset(in_dir='/home/fltr/QM7X/', selector=['opt'])"
   ]
  },
  {
   "cell_type": "code",
   "execution_count": null,
   "metadata": {},
   "outputs": [],
   "source": []
  },
  {
   "cell_type": "code",
   "execution_count": null,
   "metadata": {},
   "outputs": [],
   "source": [
    "sorted(list(map(int, list(mols.keys()))))[:20]\n"
   ]
  },
  {
   "cell_type": "code",
   "execution_count": null,
   "metadata": {},
   "outputs": [],
   "source": [
    "mols['27']"
   ]
  },
  {
   "cell_type": "code",
   "execution_count": null,
   "metadata": {},
   "outputs": [],
   "source": []
  }
 ],
 "metadata": {
  "kernelspec": {
   "display_name": "Python 3",
   "language": "python",
   "name": "python3"
  },
  "language_info": {
   "codemirror_mode": {
    "name": "ipython",
    "version": 3
   },
   "file_extension": ".py",
   "mimetype": "text/x-python",
   "name": "python",
   "nbconvert_exporter": "python",
   "pygments_lexer": "ipython3",
   "version": "3.7.9"
  }
 },
 "nbformat": 4,
 "nbformat_minor": 4
}
