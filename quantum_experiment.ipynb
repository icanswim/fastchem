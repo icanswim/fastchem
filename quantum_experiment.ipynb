{
 "cells": [
  {
   "cell_type": "code",
   "execution_count": 1,
   "metadata": {},
   "outputs": [],
   "source": [
    "from quantum_dataset import QM7, QM7b, QM7X, QM9, ANI1x, Champs, SuperSet\n",
    "from quantum_learning import Learn, Selector, ChampSelector\n",
    "from quantum_model import FFNet, SetTransformer\n",
    "from torch.optim import Adam\n",
    "from torch.nn import MSELoss, L1Loss"
   ]
  },
  {
   "cell_type": "code",
   "execution_count": 2,
   "metadata": {
    "scrolled": true
   },
   "outputs": [
    {
     "name": "stdout",
     "output_type": "stream",
     "text": [
      "<class 'quantum_dataset.QM7'> dataset created...\n",
      "epoch: 0 of 10, train loss: 1515.7085793235085, val loss: 1450.4166259765625\n",
      "epoch: 1 of 10, train loss: 1302.2794411399148, val loss: 1068.7327880859375\n",
      "epoch: 2 of 10, train loss: 677.1492573131214, val loss: 204.95599365234375\n",
      "epoch: 3 of 10, train loss: 162.36427688598633, val loss: 109.86420822143555\n",
      "epoch: 4 of 10, train loss: 115.26389798251066, val loss: 188.797119140625\n",
      "epoch: 5 of 10, train loss: 101.91711113669656, val loss: 107.53203582763672\n",
      "epoch: 6 of 10, train loss: 111.74254608154297, val loss: 148.32906341552734\n",
      "epoch: 7 of 10, train loss: 107.53576868230647, val loss: 121.04542541503906\n",
      "epoch: 8 of 10, train loss: 115.2051291032271, val loss: 74.61367416381836\n",
      "epoch: 9 of 10, train loss: 105.96128151633523, val loss: 86.61470031738281\n",
      "test loss: 86.06013488769531\n",
      "y_pred:\n",
      "tensor([[-1632.0245],\n",
      "        [-1734.9901],\n",
      "        [-1652.7639],\n",
      "        [-1399.3862],\n",
      "        [-1605.5842],\n",
      "        [-1628.7269],\n",
      "        [-1423.5823],\n",
      "        [-1578.5332],\n",
      "        [-1274.5094],\n",
      "        [-1392.7015]], device='cuda:0')\n",
      " y:\n",
      "tensor([[-1465.3300],\n",
      "        [-1774.4600],\n",
      "        [-1610.8101],\n",
      "        [-1254.6200],\n",
      "        [-1533.2300],\n",
      "        [-1610.3199],\n",
      "        [-1466.2500],\n",
      "        [-1574.6300],\n",
      "        [-1166.5100],\n",
      "        [-1295.8400]], device='cuda:0')\n"
     ]
    },
    {
     "data": {
      "image/png": "[encoded data removed]",
      "text/plain": [
       "<Figure size 432x288 with 1 Axes>"
      ]
     },
     "metadata": {
      "needs_background": "light"
     },
     "output_type": "display_data"
    },
    {
     "name": "stdout",
     "output_type": "stream",
     "text": [
      "learning time: 0:00:10.605069\n"
     ]
    },
    {
     "data": {
      "text/plain": [
       "<quantum_learning.Learn at 0x7fd58ba54290>"
      ]
     },
     "execution_count": 2,
     "metadata": {},
     "output_type": "execute_result"
    }
   ],
   "source": [
    "opt_params = {'lr': 0.001}\n",
    "model_params = {'D_in': 23*23, \n",
    "                'H': 4096, \n",
    "                'D_out': 1, \n",
    "                'model_name': 'funnel'}\n",
    "ds_params = {}\n",
    "crit_params = {'reduction': 'sum'}\n",
    "\n",
    "Learn(Dataset=QM7, Model=FFNet, Sampler=Selector, Optimizer=Adam, Criterion=L1Loss, \n",
    "      batch_size=256, epochs=10, opt_params=opt_params, model_params=model_params, \n",
    "      ds_params=ds_params, crit_params=crit_params, save_model=False, load_model=False)"
   ]
  },
  {
   "cell_type": "code",
   "execution_count": 3,
   "metadata": {},
   "outputs": [
    {
     "name": "stdout",
     "output_type": "stream",
     "text": [
      "<class 'quantum_dataset.QM7b'> dataset created...\n",
      "epoch: 0 of 10, train loss: 1540.022255637429, val loss: 1477.4401245117188\n",
      "epoch: 1 of 10, train loss: 1298.5602971857245, val loss: 1025.5081176757812\n",
      "epoch: 2 of 10, train loss: 700.7838537042791, val loss: 436.1237030029297\n",
      "epoch: 3 of 10, train loss: 279.3895624334162, val loss: 155.59352111816406\n",
      "epoch: 4 of 10, train loss: 154.6594342318448, val loss: 141.8625717163086\n",
      "epoch: 5 of 10, train loss: 134.63091694224966, val loss: 161.49270629882812\n",
      "epoch: 6 of 10, train loss: 126.2639011036266, val loss: 104.44526290893555\n",
      "epoch: 7 of 10, train loss: 132.5701130953702, val loss: 138.08963775634766\n",
      "epoch: 8 of 10, train loss: 113.98266358809038, val loss: 169.98629760742188\n",
      "epoch: 9 of 10, train loss: 138.1606216430664, val loss: 128.14940643310547\n",
      "test loss: 120.72948837280273\n",
      "y_pred:\n",
      "tensor([[-1797.7056],\n",
      "        [-1449.2194],\n",
      "        [-1921.5513],\n",
      "        [-1546.7592],\n",
      "        [-1584.9452],\n",
      "        [-1520.5402],\n",
      "        [-1715.8778],\n",
      "        [-1102.4882],\n",
      "        [-1675.0570],\n",
      "        [-2006.2814]], device='cuda:0')\n",
      " y:\n",
      "tensor([[-1718.3304],\n",
      "        [-1484.2290],\n",
      "        [-1747.0837],\n",
      "        [-1343.4714],\n",
      "        [-1922.8062],\n",
      "        [-1641.2617],\n",
      "        [-1745.6552],\n",
      "        [-1938.5823],\n",
      "        [-1881.1567],\n",
      "        [-1885.0417]], device='cuda:0')\n"
     ]
    },
    {
     "data": {
      "image/png": "[encoded data removed]",
      "text/plain": [
       "<Figure size 432x288 with 1 Axes>"
      ]
     },
     "metadata": {
      "needs_background": "light"
     },
     "output_type": "display_data"
    },
    {
     "name": "stdout",
     "output_type": "stream",
     "text": [
      "learning time: 0:00:13.382137\n"
     ]
    },
    {
     "data": {
      "text/plain": [
       "<quantum_learning.Learn at 0x7fd58b481310>"
      ]
     },
     "execution_count": 3,
     "metadata": {},
     "output_type": "execute_result"
    }
   ],
   "source": [
    "opt_params = {'lr': 0.001}\n",
    "model_params = {'D_in': 23*23+13, \n",
    "                'H': 4096, \n",
    "                'D_out': 1, \n",
    "                'model_name': 'funnel'}\n",
    "ds_params = {'target': 'E', \n",
    "             'features': ['alpha_p','alpha_s','HOMO_g','HOMO_p','HOMO_z','LUMO_g',\n",
    "                          'LUMO_p','LUMO_z','IP','EA','E1','Emax','Imax']}\n",
    "crit_params = {'reduction': 'sum'}\n",
    "\n",
    "Learn(Dataset=QM7b, Model=FFNet, Sampler=Selector, Optimizer=Adam, Criterion=L1Loss, \n",
    "      batch_size=256, epochs=10, opt_params=opt_params, model_params=model_params, \n",
    "      ds_params=ds_params, crit_params=crit_params, save_model=False, load_model=False)"
   ]
  },
  {
   "cell_type": "code",
   "execution_count": 5,
   "metadata": {},
   "outputs": [
    {
     "name": "stdout",
     "output_type": "stream",
     "text": [
      "creating QM9 dataset...\n",
      "QM9 molecules scanned:  1\n",
      "QM9 molecules created:  1\n",
      "QM9 molecules scanned:  10001\n",
      "QM9 molecules created:  450\n",
      "QM9 molecules scanned:  20001\n",
      "QM9 molecules created:  456\n",
      "QM9 molecules scanned:  30001\n",
      "QM9 molecules created:  678\n",
      "QM9 molecules scanned:  40001\n",
      "QM9 molecules created:  681\n",
      "QM9 molecules scanned:  50001\n",
      "QM9 molecules created:  683\n",
      "QM9 molecules scanned:  60001\n",
      "QM9 molecules created:  683\n",
      "QM9 molecules scanned:  70001\n",
      "QM9 molecules created:  683\n",
      "QM9 molecules scanned:  80001\n",
      "QM9 molecules created:  683\n",
      "QM9 molecules scanned:  90001\n",
      "QM9 molecules created:  683\n",
      "QM9 molecules scanned:  100001\n",
      "QM9 molecules created:  683\n",
      "QM9 molecules scanned:  110001\n",
      "QM9 molecules created:  683\n",
      "QM9 molecules scanned:  120001\n",
      "QM9 molecules created:  683\n",
      "QM9 molecules scanned:  130001\n",
      "QM9 molecules created:  709\n",
      "total QM9 molecules created: 763\n",
      "<class 'quantum_dataset.QM9'> dataset created...\n",
      "epoch: 0 of 10, train loss: 214.30422250326578, val loss: 76.2429464003619\n",
      "epoch: 1 of 10, train loss: 81.60753138653644, val loss: 87.0596082350787\n",
      "epoch: 2 of 10, train loss: 79.5933661770511, val loss: 64.63428160723518\n",
      "epoch: 3 of 10, train loss: 73.38338195503532, val loss: 88.10528182983398\n",
      "epoch: 4 of 10, train loss: 72.28345524181019, val loss: 51.58131139418658\n",
      "epoch: 5 of 10, train loss: 67.28076677198534, val loss: 65.89879002290614\n",
      "epoch: 6 of 10, train loss: 68.18275850469416, val loss: 69.2054791170008\n",
      "epoch: 7 of 10, train loss: 63.961923970804584, val loss: 79.65713366340188\n",
      "epoch: 8 of 10, train loss: 64.0338720346426, val loss: 56.630974040311926\n",
      "epoch: 9 of 10, train loss: 63.20346785210944, val loss: 45.72836909574621\n",
      "test loss: 52.87191330759149\n",
      "y_pred:\n",
      "tensor([[-372.8564],\n",
      "        [-414.8045],\n",
      "        [-404.4258],\n",
      "        [-218.6539]], device='cuda:0')\n",
      " y:\n",
      "tensor([[-409.6299],\n",
      "        [-430.4164],\n",
      "        [-467.5898],\n",
      "        [ -76.4047]], device='cuda:0')\n"
     ]
    },
    {
     "data": {
      "image/png": "[encoded data removed]",
      "text/plain": [
       "<Figure size 432x288 with 1 Axes>"
      ]
     },
     "metadata": {
      "needs_background": "light"
     },
     "output_type": "display_data"
    },
    {
     "name": "stdout",
     "output_type": "stream",
     "text": [
      "learning time: 0:03:24.812303\n"
     ]
    },
    {
     "data": {
      "text/plain": [
       "<quantum_learning.Learn at 0x7f81b84fb590>"
      ]
     },
     "execution_count": 5,
     "metadata": {},
     "output_type": "execute_result"
    }
   ],
   "source": [
    "opt_params = {'lr': 0.001}\n",
    "model_params = {'D_in': 10*10, \n",
    "                'H': 2048, \n",
    "                'D_out': 1, \n",
    "                'model_name': 'funnel'}\n",
    "ds_params = {'n': 133885, \n",
    "             'features': ['coulomb'], \n",
    "             'target': 'U0',\n",
    "             'pad': 10, \n",
    "             'filter_on': ('n_atoms','>','10'),\n",
    "             'use_pickle': False}\n",
    "crit_params = {'reduction': 'sum'}\n",
    "\n",
    "Learn(Dataset=QM9, Model=FFNet, Sampler=Selector, Optimizer=Adam, Criterion=L1Loss,\n",
    "      batch_size=4, epochs=10, model_params=model_params, ds_params=ds_params, \n",
    "      opt_params=opt_params, crit_params=crit_params, save_model=False, load_model=False)"
   ]
  },
  {
   "cell_type": "code",
   "execution_count": 4,
   "metadata": {},
   "outputs": [
    {
     "name": "stdout",
     "output_type": "stream",
     "text": [
      "<class 'quantum_dataset.ANI1x'> dataset created...\n",
      "model loaded from state_dict...\n",
      "loading embedding weights...\n",
      "epoch: 0 of 10, train loss: 120.46577651149832, val loss: 93.28745890708095\n",
      "epoch: 1 of 10, train loss: 65.4896957468738, val loss: 47.53542493461305\n",
      "epoch: 2 of 10, train loss: 49.34231532662975, val loss: 50.89683331970809\n",
      "epoch: 3 of 10, train loss: 46.756745415313176, val loss: 41.81337543034131\n",
      "epoch: 4 of 10, train loss: 43.193887233899154, val loss: 36.026608887427344\n",
      "epoch: 5 of 10, train loss: 41.514472804337004, val loss: 42.35019503791814\n",
      "epoch: 6 of 10, train loss: 43.642280359511226, val loss: 63.97018142298963\n",
      "epoch: 7 of 10, train loss: 46.37517568789728, val loss: 54.490749310443704\n",
      "epoch: 8 of 10, train loss: 40.38369690148707, val loss: 35.11564330798504\n",
      "epoch: 9 of 10, train loss: 37.841193159708666, val loss: 32.4809892708343\n",
      "test loss: 42.79417742359982\n",
      "y_pred:\n",
      "tensor([[ -669.6509],\n",
      "        [ -384.2982],\n",
      "        [ -610.6732],\n",
      "        [ -468.2204],\n",
      "        [ -604.7212],\n",
      "        [ -343.8681],\n",
      "        [ -724.8071],\n",
      "        [ -409.8345],\n",
      "        [ -441.9524],\n",
      "        [-1065.6696]], device='cuda:0')\n",
      " y:\n",
      "tensor([[ -654.6484],\n",
      "        [ -416.4783],\n",
      "        [ -653.4379],\n",
      "        [ -492.9746],\n",
      "        [ -644.3347],\n",
      "        [ -380.9259],\n",
      "        [ -800.9590],\n",
      "        [ -445.7871],\n",
      "        [ -485.6731],\n",
      "        [-1122.5505]], device='cuda:0', dtype=torch.float64)\n"
     ]
    },
    {
     "data": {
      "image/png": "[encoded data removed]",
      "text/plain": [
       "<Figure size 432x288 with 1 Axes>"
      ]
     },
     "metadata": {
      "needs_background": "light"
     },
     "output_type": "display_data"
    },
    {
     "name": "stdout",
     "output_type": "stream",
     "text": [
      "learning time: 0:00:21.972238\n"
     ]
    }
   ],
   "source": [
    "opt_params = {'lr': 0.001}\n",
    "model_params = {'D_in': 64*63+63+63+63, \n",
    "                'H': 8192, \n",
    "                'D_out': 1, \n",
    "                'model_name': 'funnel'}\n",
    "ds_params = {'features': ['atomic_numbers','coordinates'],\n",
    "             'targets': ['wb97x_dz.energy'],\n",
    "             'embed': [(9,64,True)],\n",
    "             'pad': 63, #length of the longest molecule in the dataset\n",
    "             'criterion': None,\n",
    "             'conformation': 'random',\n",
    "             'in_file': './data/ani1/ani1x-release.h5'}\n",
    "crit_params = {'reduction': 'sum'}\n",
    "sample_params = {'set_seed': 88} #deterministic train/test set selection\n",
    "\n",
    "learn = Learn(Dataset=ANI1x, Model=FFNet, Sampler=Selector, Optimizer=Adam, \n",
    "              Criterion=L1Loss, batch_size=128, epochs=10, opt_params=opt_params, \n",
    "              model_params=model_params, ds_params=ds_params, crit_params=crit_params, \n",
    "              sample_params=sample_params, save_model=False, load_model='20201230_1317.pth',\n",
    "              load_embed='20201230_1317')\n"
   ]
  },
  {
   "cell_type": "code",
   "execution_count": 4,
   "metadata": {},
   "outputs": [
    {
     "name": "stdout",
     "output_type": "stream",
     "text": [
      "mapping...  <HDF5 file \"1000.hdf5\" (mode r)>\n",
      "mapping...  <HDF5 file \"2000.hdf5\" (mode r)>\n",
      "mapping...  <HDF5 file \"3000.hdf5\" (mode r)>\n",
      "mapping...  <HDF5 file \"4000.hdf5\" (mode r)>\n",
      "mapping...  <HDF5 file \"5000.hdf5\" (mode r)>\n",
      "mapping...  <HDF5 file \"6000.hdf5\" (mode r)>\n",
      "mapping...  <HDF5 file \"7000.hdf5\" (mode r)>\n",
      "mapping...  <HDF5 file \"8000.hdf5\" (mode r)>\n",
      "molecular formula (idmol) mapped:  6899\n",
      "total molecular structures (idconf) mapped:  6899\n",
      "<class 'quantum_dataset.QM7X'> dataset created...\n",
      "epoch: 0 of 10, train loss: 70.7835894868695, val loss: 60.77579039558837\n",
      "epoch: 1 of 10, train loss: 32.33084157051015, val loss: 7.959676997968197\n",
      "epoch: 2 of 10, train loss: 8.083742758175964, val loss: 6.0707685197525025\n",
      "epoch: 3 of 10, train loss: 6.600998938153994, val loss: 5.877606285070419\n",
      "epoch: 4 of 10, train loss: 7.588214744494506, val loss: 8.489989835971354\n",
      "epoch: 5 of 10, train loss: 7.1117258008183075, val loss: 10.115007520011426\n",
      "epoch: 6 of 10, train loss: 6.356513719779899, val loss: 5.268776052226544\n",
      "epoch: 7 of 10, train loss: 6.612064541464238, val loss: 7.224730878284455\n",
      "epoch: 8 of 10, train loss: 7.673492459551721, val loss: 4.964344529054165\n",
      "epoch: 9 of 10, train loss: 6.310267837237086, val loss: 8.236097907352448\n",
      "test loss: 10.183512533417701\n",
      "y_pred:\n",
      "tensor([[87.3389],\n",
      "        [89.9341],\n",
      "        [74.4551],\n",
      "        [82.4780],\n",
      "        [73.3497],\n",
      "        [82.1176],\n",
      "        [66.0733],\n",
      "        [65.3423],\n",
      "        [99.0130],\n",
      "        [97.0889]], device='cuda:0')\n",
      " y:\n",
      "tensor([[84.9497],\n",
      "        [77.0660],\n",
      "        [74.9948],\n",
      "        [78.1076],\n",
      "        [66.6333],\n",
      "        [82.1663],\n",
      "        [68.9997],\n",
      "        [67.5329],\n",
      "        [88.2680],\n",
      "        [97.2743]], device='cuda:0', dtype=torch.float64)\n"
     ]
    },
    {
     "data": {
      "image/png": "[encoded data removed]",
      "text/plain": [
       "<Figure size 432x288 with 1 Axes>"
      ]
     },
     "metadata": {
      "needs_background": "light"
     },
     "output_type": "display_data"
    },
    {
     "name": "stdout",
     "output_type": "stream",
     "text": [
      "learning time: 0:03:42.776154\n"
     ]
    },
    {
     "data": {
      "text/plain": [
       "<quantum_learning.Learn at 0x7fd5896abd10>"
      ]
     },
     "execution_count": 4,
     "metadata": {},
     "output_type": "execute_result"
    }
   ],
   "source": [
    "ds_params = {'features': \n",
    "                 ['DIP','HLgap','KSE','atC6','atNUM','atPOL','atXYZ', \n",
    "                 'eC','eDFTB+MBD','eEE','eH','eKIN','eKSE','eL','eMBD',\n",
    "                 'eNE','eNN','ePBE0','ePBE0+MBD','eTS','eX','eXC','eXX',\n",
    "                 'hCHG','hDIP','hRAT','hVDIP','hVOL','mC6','mPOL','mTPOL',\n",
    "                 'pbe0FOR','sMIT','sRMSD','totFOR','vDIP','vEQ','vIQ',\n",
    "                 'vTQ','vdwFOR','vdwR'],\n",
    "             'pad': 1024,\n",
    "             'target': ['eAT'],\n",
    "             'selector': ['i1-c1-opt']}\n",
    "\n",
    "opt_params = {'lr': 0.001}\n",
    "\n",
    "model_params = {'D_in': 1024, \n",
    "                'H': 2048, \n",
    "                'D_out': 1, \n",
    "                'model_name': 'funnel'}\n",
    "\n",
    "crit_params = {'reduction': 'sum'}\n",
    "\n",
    "sample_params = {'split': .1, 'subset': False}\n",
    "\n",
    "Learn(Dataset=QM7X, Model=FFNet, Sampler=Selector, Optimizer=Adam, Criterion=L1Loss,\n",
    "      batch_size=256, epochs=10, model_params=model_params, ds_params=ds_params, \n",
    "      sample_params=sample_params, opt_params=opt_params, crit_params=crit_params, \n",
    "      save_model=False, load_model=False)"
   ]
  },
  {
   "cell_type": "code",
   "execution_count": null,
   "metadata": {},
   "outputs": [],
   "source": [
    "opt_params = {'lr': 0.001}\n",
    "model_params = {'D_in': 128+32+64+32+64, \n",
    "                'H': 2048, \n",
    "                'D_out': 1, \n",
    "                'model_name': 'funnel'}\n",
    "ds_params = {'n': 4658146, \n",
    "             'features': False,\n",
    "             'use_h5': False,  \n",
    "             'infer': False}\n",
    "crit_params = {'reduction': 'sum'}\n",
    "sample_params = {'split': .1, 'subset': False}\n",
    "\n",
    "Learn(Dataset=Champs, Model=FFNet, Sampler=ChampSelector, Optimizer=Adam, Criterion=L1Loss,\n",
    "      batch_size=1024, epochs=10, model_params=model_params, ds_params=ds_params, \n",
    "      sample_params=sample_params, opt_params=opt_params, crit_params=crit_params, \n",
    "      save_model=True, load_model=False)"
   ]
  },
  {
   "cell_type": "code",
   "execution_count": null,
   "metadata": {},
   "outputs": [],
   "source": [
    "model_params = {'D_in': 128+32+64+32+64, \n",
    "                'H': 2048, \n",
    "                'D_out': 1, \n",
    "                'model_name': 'funnel'}\n",
    "ds_params = {'features': False,\n",
    "             'use_h5': False,  \n",
    "             'infer': True}\n",
    "\n",
    "Learn(Dataset=Champs, Model=FFNet, Sampler=Selector, batch_size=2048, model_params=model_params, \n",
    "      ds_params=ds_params, load_model='./models/20201021_2101.pth', adapt=False)"
   ]
  }
 ],
 "metadata": {
  "kernelspec": {
   "display_name": "Python 3",
   "language": "python",
   "name": "python3"
  },
  "language_info": {
   "codemirror_mode": {
    "name": "ipython",
    "version": 3
   },
   "file_extension": ".py",
   "mimetype": "text/x-python",
   "name": "python",
   "nbconvert_exporter": "python",
   "pygments_lexer": "ipython3",
   "version": "3.7.9"
  }
 },
 "nbformat": 4,
 "nbformat_minor": 4
}
