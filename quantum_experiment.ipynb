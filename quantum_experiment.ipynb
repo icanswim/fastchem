{
 "cells": [
  {
   "cell_type": "code",
   "execution_count": 1,
   "metadata": {},
   "outputs": [],
   "source": [
    "from quantum_dataset import QM7, QM7b, QM7X, QM9, ANI1x, Champs, SuperSet\n",
    "from quantum_learning import Learn, Selector, ChampSelector\n",
    "from quantum_model import FFNet, SetTransformer\n",
    "from torch.optim import Adam\n",
    "from torch.nn import MSELoss, L1Loss"
   ]
  },
  {
   "cell_type": "code",
   "execution_count": null,
   "metadata": {
    "scrolled": true
   },
   "outputs": [],
   "source": [
    "opt_params = {'lr': 0.001}\n",
    "model_params = {'D_in': 23*23, \n",
    "                'H': 4096, \n",
    "                'D_out': 1, \n",
    "                'model_name': 'funnel'}\n",
    "ds_params = {}\n",
    "crit_params = {'reduction': 'sum'}\n",
    "\n",
    "Learn(Dataset=QM7, Model=FFNet, Sampler=Selector, Optimizer=Adam, Criterion=L1Loss, \n",
    "      batch_size=256, epochs=10, opt_params=opt_params, model_params=model_params, \n",
    "      ds_params=ds_params, crit_params=crit_params, save_model=False, load_model=False)"
   ]
  },
  {
   "cell_type": "code",
   "execution_count": null,
   "metadata": {},
   "outputs": [],
   "source": [
    "opt_params = {'lr': 0.001}\n",
    "model_params = {'D_in': 23*23+13, \n",
    "                'H': 4096, \n",
    "                'D_out': 1, \n",
    "                'model_name': 'funnel'}\n",
    "ds_params = {'target': 'E', \n",
    "             'features': ['alpha_p','alpha_s','HOMO_g','HOMO_p','HOMO_z','LUMO_g',\n",
    "                          'LUMO_p','LUMO_z','IP','EA','E1','Emax','Imax']}\n",
    "crit_params = {'reduction': 'sum'}\n",
    "\n",
    "Learn(Dataset=QM7b, Model=FFNet, Sampler=Selector, Optimizer=Adam, Criterion=L1Loss, \n",
    "      batch_size=256, epochs=10, opt_params=opt_params, model_params=model_params, \n",
    "      ds_params=ds_params, crit_params=crit_params, save_model=False, load_model=False)"
   ]
  },
  {
   "cell_type": "code",
   "execution_count": null,
   "metadata": {},
   "outputs": [],
   "source": [
    "opt_params = {'lr': 0.001}\n",
    "model_params = {'D_in': 10*10, \n",
    "                'H': 2048, \n",
    "                'D_out': 1, \n",
    "                'model_name': 'funnel'}\n",
    "ds_params = {'n': 133885, \n",
    "             'features': ['coulomb'], \n",
    "             'target': 'U0',\n",
    "             'pad': 10, \n",
    "             'filter_on': ('n_atoms','>','10'),\n",
    "             'use_pickle': False}\n",
    "crit_params = {'reduction': 'sum'}\n",
    "\n",
    "Learn(Dataset=QM9, Model=FFNet, Sampler=Selector, Optimizer=Adam, Criterion=L1Loss,\n",
    "      batch_size=4, epochs=10, model_params=model_params, ds_params=ds_params, \n",
    "      opt_params=opt_params, crit_params=crit_params, save_model=False, load_model=False)"
   ]
  },
  {
   "cell_type": "code",
   "execution_count": 2,
   "metadata": {},
   "outputs": [
    {
     "name": "stdout",
     "output_type": "stream",
     "text": [
      "<class 'quantum_dataset.ANI1x'> dataset created...\n",
      "epoch: 0 of 2000, train loss: 510.9348256124042, val loss: 372.30142107444834\n",
      "epoch: 200 of 2000, train loss: 24.178665607105454, val loss: 22.972547529635538\n",
      "epoch: 400 of 2000, train loss: 23.57178887635634, val loss: 32.43671701411778\n",
      "epoch: 600 of 2000, train loss: 15.290795147388511, val loss: 13.314175403933369\n",
      "epoch: 800 of 2000, train loss: 13.882803035465612, val loss: 11.768583907945361\n",
      "epoch: 1000 of 2000, train loss: 14.149567003743721, val loss: 15.113105298438796\n",
      "epoch: 1200 of 2000, train loss: 13.6923008101275, val loss: 10.91754778701361\n",
      "epoch: 1400 of 2000, train loss: 12.377713115604749, val loss: 15.457107314928187\n",
      "epoch: 1600 of 2000, train loss: 11.914797198235636, val loss: 12.29804899253721\n",
      "epoch: 1800 of 2000, train loss: 10.86399620966163, val loss: 10.236247267094962\n",
      "test loss: 12.100318711034777\n",
      "y_pred:\n",
      "tensor([[-1069.7585],\n",
      "        [ -636.4561],\n",
      "        [ -706.4268],\n",
      "        [  -97.9046],\n",
      "        [ -478.0721],\n",
      "        [ -758.3307],\n",
      "        [ -741.7882],\n",
      "        [ -739.1232],\n",
      "        [ -343.5406],\n",
      "        [ -419.0513]], device='cuda:0')\n",
      " y:\n",
      "tensor([[-1197.3982],\n",
      "        [ -635.3060],\n",
      "        [ -671.1191],\n",
      "        [  -78.5342],\n",
      "        [ -472.4053],\n",
      "        [ -773.4386],\n",
      "        [ -747.5428],\n",
      "        [ -727.5109],\n",
      "        [ -358.7433],\n",
      "        [ -409.4197]], device='cuda:0', dtype=torch.float64)\n"
     ]
    },
    {
     "data": {
      "image/png": "[encoded data removed]",
      "text/plain": [
       "<Figure size 432x288 with 1 Axes>"
      ]
     },
     "metadata": {
      "needs_background": "light"
     },
     "output_type": "display_data"
    },
    {
     "name": "stdout",
     "output_type": "stream",
     "text": [
      "learning time: 0:45:54.000461\n"
     ]
    }
   ],
   "source": [
    "opt_params = {'lr': 0.001}\n",
    "model_params = {'D_in': 64*63+63+63+63, \n",
    "                'H': 8192, \n",
    "                'D_out': 1, \n",
    "                'model_name': 'funnel'}\n",
    "ds_params = {'features': ['atomic_numbers','coordinates'],\n",
    "             'targets': ['wb97x_dz.energy'],\n",
    "             'embed': [(9,64,True)],\n",
    "             'pad': 63,\n",
    "             'criterion': 'wb97x_dz.energy',\n",
    "             'conformation': 'random',\n",
    "             'in_file': './data/ani1/ani1x-release.h5'}\n",
    "crit_params = {'reduction': 'sum'}\n",
    "\n",
    "learn = Learn(Dataset=ANI1x, Model=FFNet, Sampler=Selector, Optimizer=Adam, Criterion=L1Loss, \n",
    "              batch_size=128, epochs=2000, opt_params=opt_params, model_params=model_params, \n",
    "              ds_params=ds_params, crit_params=crit_params, save_model=True, load_model=False)\n",
    "\n",
    "#learn.model.embeddings[0].weight"
   ]
  },
  {
   "cell_type": "code",
   "execution_count": 3,
   "metadata": {},
   "outputs": [
    {
     "data": {
      "text/plain": [
       "Parameter containing:\n",
       "tensor([[ 0.0000e+00,  0.0000e+00,  0.0000e+00,  0.0000e+00,  0.0000e+00,\n",
       "          0.0000e+00,  0.0000e+00,  0.0000e+00,  0.0000e+00,  0.0000e+00,\n",
       "          0.0000e+00,  0.0000e+00,  0.0000e+00,  0.0000e+00,  0.0000e+00,\n",
       "          0.0000e+00,  0.0000e+00,  0.0000e+00,  0.0000e+00,  0.0000e+00,\n",
       "          0.0000e+00,  0.0000e+00,  0.0000e+00,  0.0000e+00,  0.0000e+00,\n",
       "          0.0000e+00,  0.0000e+00,  0.0000e+00,  0.0000e+00,  0.0000e+00,\n",
       "          0.0000e+00,  0.0000e+00,  0.0000e+00,  0.0000e+00,  0.0000e+00,\n",
       "          0.0000e+00,  0.0000e+00,  0.0000e+00,  0.0000e+00,  0.0000e+00,\n",
       "          0.0000e+00,  0.0000e+00,  0.0000e+00,  0.0000e+00,  0.0000e+00,\n",
       "          0.0000e+00,  0.0000e+00,  0.0000e+00,  0.0000e+00,  0.0000e+00,\n",
       "          0.0000e+00,  0.0000e+00,  0.0000e+00,  0.0000e+00,  0.0000e+00,\n",
       "          0.0000e+00,  0.0000e+00,  0.0000e+00,  0.0000e+00,  0.0000e+00,\n",
       "          0.0000e+00,  0.0000e+00,  0.0000e+00,  0.0000e+00],\n",
       "        [-1.4080e+00, -9.5199e-01, -1.2164e+00,  1.3327e+00,  5.9005e-01,\n",
       "          3.4095e-01, -4.3860e-02,  2.3535e+00, -7.7260e-01, -8.3042e-01,\n",
       "         -1.5046e-01, -1.0753e+00,  5.5712e-01,  1.1539e+00, -1.0587e+00,\n",
       "         -3.1709e-01,  2.2153e+00,  4.6363e-01,  5.9103e-01, -1.5535e+00,\n",
       "          1.7448e-01,  1.3093e+00,  6.2440e-01,  6.4128e-01, -1.2779e+00,\n",
       "         -1.1845e+00,  4.4358e-01,  6.8046e-01, -1.2231e-01,  5.1864e-01,\n",
       "          1.5298e+00, -2.2835e+00,  1.1373e+00,  1.2317e+00, -8.5904e-01,\n",
       "         -7.4127e-02,  2.7697e-01, -1.4848e+00,  9.8507e-01, -1.2016e+00,\n",
       "         -1.0632e+00,  9.3444e-01,  6.2950e-01, -9.4187e-02, -8.9283e-02,\n",
       "         -1.5053e+00,  3.5636e-01,  5.5148e-01,  1.9318e+00, -1.2451e+00,\n",
       "         -4.1921e-01,  7.6007e-01,  4.5593e-01,  2.1565e-01,  1.2065e+00,\n",
       "          1.6807e+00, -3.7893e-01,  4.1430e-01, -1.0652e-01, -5.4471e-01,\n",
       "          9.3006e-02, -2.9604e-01,  1.1654e+00,  6.8713e-01],\n",
       "        [ 3.5507e-01,  1.1449e+00, -4.0634e-01, -6.1438e-01,  1.8906e+00,\n",
       "         -2.9010e-01, -6.2647e-01, -1.3433e+00,  1.3993e+00, -1.2521e-01,\n",
       "          2.8884e-01, -5.8824e-01, -1.1303e-01,  1.1361e+00,  1.0559e+00,\n",
       "          2.0771e-01,  4.0437e-01, -6.1132e-01,  1.3559e+00,  4.1818e-01,\n",
       "         -5.4283e-01, -2.4915e+00, -2.2264e-01, -8.6525e-02,  9.4716e-01,\n",
       "         -1.1330e+00,  1.3482e+00,  9.7122e-01,  4.4652e-01, -9.3021e-01,\n",
       "         -1.9291e-01, -9.9201e-01,  4.4300e-01, -7.7183e-01, -6.3167e-01,\n",
       "          1.4839e-01,  6.8147e-01,  2.1582e+00,  6.7793e-01,  1.6495e+00,\n",
       "          6.5878e-01,  4.0895e-01,  2.1492e+00,  2.4686e-01,  1.7174e+00,\n",
       "          3.2923e-01, -1.8139e+00,  2.7881e-01, -4.7615e-01,  8.2143e-02,\n",
       "          8.2762e-01, -1.0741e+00, -1.9690e-01, -1.3435e+00,  4.5594e-01,\n",
       "         -4.0449e-01,  4.2455e-01, -9.7116e-02,  3.5510e-01, -1.4739e+00,\n",
       "         -1.6552e+00,  1.8615e-02,  2.0337e-01, -1.7366e-01],\n",
       "        [-3.8995e-01,  2.3442e-01,  7.0180e-01,  5.2697e-01,  6.3813e-01,\n",
       "         -1.7966e+00,  5.1800e-01, -3.9564e-01,  7.1718e-01,  6.7588e-01,\n",
       "         -7.7894e-01,  1.5419e+00, -2.2941e+00, -4.9585e-02,  5.7956e-01,\n",
       "         -7.5615e-01, -1.5107e+00, -3.4985e-01,  4.4561e-01,  1.6023e+00,\n",
       "          2.5461e+00,  1.8673e+00, -1.4452e-01, -5.3795e-01, -8.4067e-01,\n",
       "          6.4689e-01, -1.5349e-01,  3.5129e-01,  2.7274e-01,  7.5791e-01,\n",
       "          6.0839e-01,  2.0375e+00, -1.3595e+00, -4.6910e-02, -7.5923e-01,\n",
       "         -4.8806e-01, -1.1782e+00, -1.8827e+00,  6.6839e-01, -5.6721e-01,\n",
       "         -3.2436e-01,  5.1765e-01, -1.5263e-01,  8.3935e-01,  2.0594e+00,\n",
       "         -5.5925e-01,  1.7509e-01,  3.6691e-01, -3.7105e-02,  2.2246e-01,\n",
       "          2.1723e-01, -3.6015e-01,  2.0505e+00, -1.0441e+00,  3.6563e-01,\n",
       "         -1.6619e+00, -3.4220e-01,  5.0123e-01,  3.8639e-01, -1.3796e+00,\n",
       "          3.9059e-01,  9.1350e-02, -6.3427e-01, -4.6697e-01],\n",
       "        [ 1.7657e-01, -6.0441e-01,  6.3282e-01,  1.3070e+00, -3.6703e-02,\n",
       "          1.4198e+00,  8.4830e-01, -3.8195e-01, -1.1556e+00,  2.4341e-01,\n",
       "          5.0520e-01,  1.1117e+00,  1.3091e+00, -5.8534e-01,  4.6502e-01,\n",
       "         -2.5352e-01,  1.6713e+00,  2.1479e-01,  7.1962e-01, -1.2666e+00,\n",
       "          1.2194e+00, -1.9629e-01,  1.6395e-01, -1.3519e+00, -9.5280e-01,\n",
       "          1.2314e+00,  8.7145e-01,  1.2350e+00, -5.9079e-02, -4.4300e-02,\n",
       "         -9.1860e-01, -8.3158e-01, -5.3093e-01, -7.8632e-01, -5.1684e-01,\n",
       "          8.7208e-01,  4.5495e-01,  1.6893e+00, -4.1637e-01,  7.3087e-01,\n",
       "         -3.1930e-02, -5.7548e-01,  8.0476e-01,  4.4773e-01,  8.3303e-01,\n",
       "          7.4498e-01, -1.3278e+00,  9.6202e-02,  6.7911e-01,  2.2830e-01,\n",
       "         -5.6034e-02,  9.6671e-01,  2.7215e-01,  1.2857e-01, -1.3775e+00,\n",
       "         -8.9291e-01, -1.2058e+00, -3.1583e-01,  1.2549e+00,  3.2115e-01,\n",
       "          8.6755e-01,  1.3265e+00, -6.3556e-01, -3.9569e-01],\n",
       "        [ 9.1298e-02,  4.4670e-01, -7.0297e-01,  1.9614e-02, -7.1674e-01,\n",
       "          6.6075e-01,  1.1143e-01,  5.0334e-01,  7.7238e-01, -6.2411e-01,\n",
       "         -1.2960e-02, -4.6304e-01, -5.7258e-01, -1.3449e-01, -4.0050e-01,\n",
       "          7.8179e-01, -1.6734e+00, -2.0636e-01, -1.0707e+00,  8.2404e-02,\n",
       "         -1.8866e+00, -1.8425e+00,  6.5179e-01,  1.4254e+00,  8.2672e-01,\n",
       "         -7.0215e-01, -6.1982e-01,  1.0038e+00,  5.9935e-01,  1.1294e+00,\n",
       "         -3.0635e-01, -1.1150e+00, -1.7344e-01, -2.8870e-01, -7.8593e-01,\n",
       "         -1.2037e+00, -5.0883e-01, -7.6571e-01,  1.6052e+00, -1.8885e+00,\n",
       "          3.5382e-01,  8.3480e-01, -4.2489e-01,  7.7928e-01, -1.1939e-01,\n",
       "          1.3504e+00, -2.9170e-01, -9.0319e-01,  2.4736e-03,  1.6241e+00,\n",
       "         -1.5287e+00, -1.3761e+00,  1.2314e-01,  6.9105e-01, -1.0457e+00,\n",
       "          1.6524e-02,  1.3184e+00, -1.0989e+00, -3.5874e-02, -7.1895e-01,\n",
       "         -4.2270e-01, -9.2360e-01,  3.8069e-01,  8.4591e-01],\n",
       "        [ 1.8872e-01,  1.0177e+00,  2.4439e+00,  4.4585e-01,  1.5932e-01,\n",
       "         -1.2066e+00,  6.2235e-02, -6.7484e-01, -6.3271e-01,  2.8477e-01,\n",
       "         -1.3359e+00, -8.9713e-01, -2.0306e-01,  4.2116e-01, -9.4840e-01,\n",
       "         -1.8411e+00, -1.8975e-01,  6.5302e-01, -1.7225e+00,  2.4776e-01,\n",
       "          1.1744e+00, -1.0671e+00, -5.8564e-01, -2.1188e+00,  3.6619e-01,\n",
       "         -5.6336e-01,  1.0658e+00, -4.6345e-01, -1.6814e+00,  9.3135e-01,\n",
       "          8.4757e-01,  6.1447e-02,  3.6671e-01, -6.7220e-01,  6.3765e-01,\n",
       "         -1.7645e-01, -6.8307e-01, -1.4421e+00, -1.0196e+00, -7.7088e-01,\n",
       "         -1.4028e+00, -8.6924e-01, -1.5054e+00, -5.7738e-01,  5.5514e-01,\n",
       "         -8.1579e-01,  8.6874e-01,  5.1635e-01,  2.3476e-01,  2.2697e+00,\n",
       "         -4.3999e-02,  1.9248e+00,  1.0818e+00,  1.2451e+00, -2.4375e-01,\n",
       "          6.0122e-01,  1.2941e+00,  1.0245e+00,  7.0047e-01, -1.8336e+00,\n",
       "          5.8690e-01,  2.6561e-01, -3.7287e-01,  6.1632e-02],\n",
       "        [ 2.3347e+00, -2.8947e-01, -1.0363e+00,  1.9294e+00, -2.7831e-01,\n",
       "          1.7444e-01, -6.3363e-01, -6.2933e-01, -1.1911e+00, -1.8840e+00,\n",
       "          6.5688e-01,  2.6168e+00,  1.2912e+00,  1.1793e+00,  2.0247e+00,\n",
       "          1.9507e+00, -1.1904e+00,  7.7480e-02, -4.6048e-01, -1.8242e-01,\n",
       "          9.3289e-02,  7.1202e-01, -5.7323e-01,  5.4679e-01, -3.7882e-01,\n",
       "         -7.7891e-01,  2.8460e-01, -1.8513e+00,  2.4691e+00,  2.4076e-01,\n",
       "          1.7210e+00,  1.2974e+00,  2.0060e-02,  1.8832e-01, -6.1055e-01,\n",
       "         -1.2269e+00,  3.1305e-01, -1.3142e+00, -5.6177e-02, -7.4939e-01,\n",
       "         -1.8131e-01, -5.8833e-01, -9.3258e-02, -5.5692e-01,  2.2511e+00,\n",
       "         -6.4823e-01, -6.0592e-01,  8.8923e-01,  4.0215e-01, -1.1186e-01,\n",
       "         -6.6317e-01,  2.3087e+00, -2.2411e-01,  6.4617e-02, -2.8814e-01,\n",
       "          1.5625e-01,  6.3735e-01,  3.3264e-01, -7.3142e-01, -9.3561e-01,\n",
       "         -8.9383e-01, -2.5460e+00,  3.2694e-01, -2.3728e+00],\n",
       "        [-4.9163e-01, -9.6567e-03, -2.1309e-01,  6.8976e-02,  9.2390e-01,\n",
       "         -2.5394e+00, -4.5260e-01, -1.6304e+00,  1.6294e-01, -1.3184e+00,\n",
       "          1.2091e+00,  1.1723e-01,  5.9369e-01,  2.4167e-01, -2.1342e+00,\n",
       "         -5.2828e-01, -4.0350e-01,  5.4762e-01, -6.6584e-01,  5.4014e-01,\n",
       "         -1.6210e+00,  1.4110e+00, -1.3809e+00, -8.3578e-01,  1.8081e+00,\n",
       "          5.4631e-01,  8.6371e-01,  6.5011e-01, -7.8385e-01,  8.8640e-01,\n",
       "          5.8333e-01, -6.6717e-01, -1.8360e-01, -1.6490e+00, -1.0741e+00,\n",
       "          1.9616e-01, -1.5860e-01, -4.0298e-01,  3.9109e-01, -6.8153e-01,\n",
       "          8.7427e-01, -3.0866e-01, -3.8250e-01, -1.0500e+00, -1.4383e+00,\n",
       "          1.5364e-01, -9.5958e-01, -3.7262e-01, -2.6515e-01, -1.1844e+00,\n",
       "         -5.6112e-02, -6.7307e-02, -7.4694e-01, -1.2549e+00, -7.2786e-01,\n",
       "          1.0082e-01, -3.8885e-01,  2.5021e+00,  4.0977e-02,  1.1810e+00,\n",
       "          7.6102e-01, -4.8206e-01, -2.4638e-01, -1.8333e-01]], device='cuda:0',\n",
       "       requires_grad=True)"
      ]
     },
     "execution_count": 3,
     "metadata": {},
     "output_type": "execute_result"
    }
   ],
   "source": [
    "learn.model.embeddings[0].weight"
   ]
  },
  {
   "cell_type": "code",
   "execution_count": null,
   "metadata": {},
   "outputs": [],
   "source": [
    "opt_params = {'lr': 0.001}\n",
    "model_params = {'D_in': 128+32+64+32+64, \n",
    "                'H': 2048, \n",
    "                'D_out': 1, \n",
    "                'model_name': 'funnel'}\n",
    "ds_params = {'n': 4658146, \n",
    "             'features': False,\n",
    "             'use_h5': False,  \n",
    "             'infer': False}\n",
    "crit_params = {'reduction': 'sum'}\n",
    "sample_params = {'split': .1, 'subset': False}\n",
    "\n",
    "Learn(Dataset=Champs, Model=FFNet, Sampler=ChampSelector, Optimizer=Adam, Criterion=L1Loss,\n",
    "      batch_size=1024, epochs=10, model_params=model_params, ds_params=ds_params, \n",
    "      sample_params=sample_params, opt_params=opt_params, crit_params=crit_params, \n",
    "      save_model=True, load_model=False)"
   ]
  },
  {
   "cell_type": "code",
   "execution_count": null,
   "metadata": {},
   "outputs": [],
   "source": [
    "model_params = {'D_in': 128+32+64+32+64, \n",
    "                'H': 2048, \n",
    "                'D_out': 1, \n",
    "                'model_name': 'funnel'}\n",
    "ds_params = {'features': False,\n",
    "             'use_h5': False,  \n",
    "             'infer': True}\n",
    "\n",
    "Learn(Dataset=Champs, Model=FFNet, Sampler=Selector, batch_size=2048, model_params=model_params, \n",
    "      ds_params=ds_params, load_model='./models/20201021_2101.pth', adapt=False)"
   ]
  },
  {
   "cell_type": "code",
   "execution_count": null,
   "metadata": {},
   "outputs": [],
   "source": [
    "ds_params = {'features': \n",
    "                 ['DIP','HLgap','KSE','atC6','atNUM','atPOL','atXYZ', \n",
    "                 'eC','eDFTB+MBD','eEE','eH','eKIN','eKSE','eL','eMBD',\n",
    "                 'eNE','eNN','ePBE0','ePBE0+MBD','eTS','eX','eXC','eXX',\n",
    "                 'hCHG','hDIP','hRAT','hVDIP','hVOL','mC6','mPOL','mTPOL',\n",
    "                 'pbe0FOR','sMIT','sRMSD','totFOR','vDIP','vEQ','vIQ',\n",
    "                 'vTQ','vdwFOR','vdwR'],\n",
    "             'pad': 1024,\n",
    "             'target': ['eAT'],\n",
    "             'selector': ['i1-c1-opt']}\n",
    "\n",
    "opt_params = {'lr': 0.001}\n",
    "\n",
    "model_params = {'D_in': 1024, \n",
    "                'H': 2048, \n",
    "                'D_out': 1, \n",
    "                'model_name': 'funnel'}\n",
    "\n",
    "crit_params = {'reduction': 'sum'}\n",
    "\n",
    "sample_params = {'split': .1, 'subset': False}\n",
    "\n",
    "Learn(Dataset=QM7X, Model=FFNet, Sampler=Selector, Optimizer=Adam, Criterion=L1Loss,\n",
    "      batch_size=256, epochs=10, model_params=model_params, ds_params=ds_params, \n",
    "      sample_params=sample_params, opt_params=opt_params, crit_params=crit_params, \n",
    "      save_model=False, load_model=False)"
   ]
  },
  {
   "cell_type": "code",
   "execution_count": null,
   "metadata": {},
   "outputs": [],
   "source": [
    "ds_params = {'n': 133885, \n",
    "             'features': ['coulomb'], \n",
    "             'target': 'U0',\n",
    "             'pad': 10, \n",
    "             'filter_on': ('n_atoms','>','10'),\n",
    "             'use_pickle': 'qm9_n_atoms_10_or_less.p'}\n",
    "\n",
    "opt_params = {'lr': 0.001}\n",
    "\n",
    "model_params = {'dim_input': 100,\n",
    "                'num_outputs': 1,\n",
    "                'dim_output': 1,\n",
    "                'num_inds': 32,\n",
    "                'dim_hidden': 128,\n",
    "                'num_heads': 4,\n",
    "                'ln': False}\n",
    "\n",
    "crit_params = {'reduction': 'sum'}\n",
    "\n",
    "sample_params = {'split': .1, 'subset': False}\n",
    "\n",
    "Learn(Dataset=QM9, Model=SetTransformer, Sampler=Selector, Optimizer=Adam, Criterion=L1Loss,\n",
    "      batch_size=4, epochs=2, model_params=model_params, ds_params=ds_params, \n",
    "      sample_params=sample_params, opt_params=opt_params, crit_params=crit_params, \n",
    "      save_model=False, load_model=False)"
   ]
  },
  {
   "cell_type": "code",
   "execution_count": null,
   "metadata": {},
   "outputs": [],
   "source": [
    "ds_params = {'features': ['atomic_numbers','coordinates'],\n",
    "             'targets': ['wb97x_dz.energy'], \n",
    "             'pad': 63,\n",
    "             'criterion': 'wb97x_dz.energy',\n",
    "             'conformation': 'min',\n",
    "             'in_file': './data/ani1/ani1x-release.h5'}\n",
    "\n",
    "ani1x = ANI1x(**ds_params)"
   ]
  },
  {
   "cell_type": "code",
   "execution_count": null,
   "metadata": {},
   "outputs": [],
   "source": [
    "len(ani1x.ds_idx)"
   ]
  },
  {
   "cell_type": "code",
   "execution_count": null,
   "metadata": {},
   "outputs": [],
   "source": [
    "lg = 0\n",
    "for mol in ani1x.ds_idx:\n",
    "    val = ani1x[mol]\n",
    "    sz = val[0].shape[0]\n",
    "    if sz > lg:\n",
    "        lg = sz\n",
    "print(lg)"
   ]
  },
  {
   "cell_type": "code",
   "execution_count": null,
   "metadata": {},
   "outputs": [],
   "source": [
    "ani1x['C6H2N2O3']"
   ]
  },
  {
   "cell_type": "code",
   "execution_count": null,
   "metadata": {},
   "outputs": [],
   "source": [
    "ds_params = {'features': ['coordinates','atomic_numbers','ccsd(t)_cbs.energy'],\n",
    "             'targets': ['ccsd(t)_cbs.energy'], \n",
    "             'pad': False,\n",
    "             'criterion': 'ccsd(t)_cbs.energy',\n",
    "             'conformation': 'min',\n",
    "             'in_file': './data/ani1/ani1x-release.h5'}\n",
    "\n",
    "ani1x = ANI1x(**ds_params)\n",
    "\n",
    "#find the length of the longest molecule\n",
    "#lg = 0\n",
    "#for mol in ani1x.ds_idx:\n",
    "#    val = ani1x[mol]\n",
    "#    sz = val[0].shape[0]\n",
    "#    if sz > lg:\n",
    "#        lg = sz\n",
    "#print(lg)"
   ]
  },
  {
   "cell_type": "code",
   "execution_count": null,
   "metadata": {},
   "outputs": [],
   "source": [
    "len(ani1x.ds_idx)"
   ]
  },
  {
   "cell_type": "code",
   "execution_count": null,
   "metadata": {},
   "outputs": [],
   "source": [
    "list(ani1x.ds_idx)[:10]"
   ]
  },
  {
   "cell_type": "code",
   "execution_count": null,
   "metadata": {},
   "outputs": [],
   "source": [
    "lg = 0\n",
    "for mol in ani1x.ds_idx:\n",
    "    val = ani1x[mol]\n",
    "    sz = val[0].shape[0]\n",
    "    if sz > lg:\n",
    "        lg = sz\n",
    "print(lg)"
   ]
  },
  {
   "cell_type": "code",
   "execution_count": null,
   "metadata": {},
   "outputs": [],
   "source": [
    "ani1x['C6H17N1']"
   ]
  },
  {
   "cell_type": "code",
   "execution_count": null,
   "metadata": {},
   "outputs": [],
   "source": []
  }
 ],
 "metadata": {
  "kernelspec": {
   "display_name": "Python 3",
   "language": "python",
   "name": "python3"
  },
  "language_info": {
   "codemirror_mode": {
    "name": "ipython",
    "version": 3
   },
   "file_extension": ".py",
   "mimetype": "text/x-python",
   "name": "python",
   "nbconvert_exporter": "python",
   "pygments_lexer": "ipython3",
   "version": "3.7.9"
  }
 },
 "nbformat": 4,
 "nbformat_minor": 4
}
