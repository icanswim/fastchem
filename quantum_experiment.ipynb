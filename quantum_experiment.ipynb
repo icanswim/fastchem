{
 "cells": [
  {
   "cell_type": "code",
   "execution_count": 1,
   "metadata": {},
   "outputs": [
    {
     "name": "stderr",
     "output_type": "stream",
     "text": [
      "RDKit WARNING: [11:40:08] Enabling RDKit 2019.09.3 jupyter extensions\n"
     ]
    }
   ],
   "source": [
    "from quantum_dataset import QM7, QM7b, QM9, Champs, SuperSet\n",
    "from quantum_learning import Learn, Selector\n",
    "from quantum_model import FFNet\n",
    "from torch.optim import Adam\n",
    "from torch.nn import MSELoss"
   ]
  },
  {
   "cell_type": "code",
   "execution_count": 2,
   "metadata": {},
   "outputs": [
    {
     "name": "stdout",
     "output_type": "stream",
     "text": [
      "<class 'quantum_dataset.QM7'> dataset created...\n",
      "epoch: 0 of 10, train loss: 789039.1399266759, val loss: 315636.31376121077\n",
      "epoch: 1 of 10, train loss: 117127.37314507681, val loss: 170931.70612913396\n",
      "epoch: 2 of 10, train loss: 63739.53294670915, val loss: 122781.80157826513\n",
      "epoch: 3 of 10, train loss: 44957.6171875, val loss: 82597.69793126402\n",
      "epoch: 4 of 10, train loss: 42160.10057502619, val loss: 71040.88106957679\n",
      "epoch: 5 of 10, train loss: 29552.47451662884, val loss: 56709.0719415639\n",
      "epoch: 6 of 10, train loss: 20657.377310470496, val loss: 43173.96015362248\n",
      "epoch: 7 of 10, train loss: 15556.184150226954, val loss: 40713.65424870376\n",
      "epoch: 8 of 10, train loss: 13206.273748472417, val loss: 36336.980181912135\n",
      "epoch: 9 of 10, train loss: 11827.378390690468, val loss: 37400.03453878223\n",
      "test loss: 11942.922718394886\n"
     ]
    },
    {
     "data": {
      "image/png": "[encoded data removed]",
      "text/plain": [
       "<Figure size 432x288 with 1 Axes>"
      ]
     },
     "metadata": {
      "needs_background": "light"
     },
     "output_type": "display_data"
    },
    {
     "name": "stdout",
     "output_type": "stream",
     "text": [
      "learning time: 0:00:23.571367\n"
     ]
    },
    {
     "data": {
      "text/plain": [
       "<quantum_learning.Learn at 0x7f327f26a9d0>"
      ]
     },
     "execution_count": 2,
     "metadata": {},
     "output_type": "execute_result"
    }
   ],
   "source": [
    "opt_params = {'lr': 0.001}\n",
    "model_params = {'D_in': 23*23, \n",
    "                'H': 4096, \n",
    "                'D_out': 1, \n",
    "                'model_name': 'funnel'}\n",
    "ds_params = {}\n",
    "crit_params = {'reduction': 'sum'}\n",
    "\n",
    "Learn(Dataset=QM7, Model=FFNet, Sampler=Selector, Optimizer=Adam, Criterion=MSELoss, \n",
    "      batch_size=32, epochs=10, opt_params=opt_params, model_params=model_params, \n",
    "      ds_params=ds_params, crit_params=crit_params, save_model=True, load_model=False)"
   ]
  },
  {
   "cell_type": "code",
   "execution_count": null,
   "metadata": {},
   "outputs": [],
   "source": [
    "opt_params = {'lr': 0.001}\n",
    "model_params = {'D_in': 23*23+13, 'H': 4096, 'D_out': 1, 'model_name': 'funnel'}\n",
    "ds_params = {'target': 'E', \n",
    "             'features': ['alpha_p','alpha_s','HOMO_g','HOMO_p','HOMO_z','LUMO_g',\n",
    "                          'LUMO_p','LUMO_z','IP','EA','E1','Emax','Imax']}\n",
    "crit_params = {'reduction': 'sum'}\n",
    "\n",
    "Learn(Dataset=QM7b, Model=FFNet, Sampler=Selector, \n",
    "      Optimizer=Adam, Criterion=MSELoss, batch_size=32, epochs=10, \n",
    "      opt_params=opt_params, model_params=model_params, ds_params=ds_params, \n",
    "      crit_params=crit_params, save_model=True, load_model=False)"
   ]
  },
  {
   "cell_type": "code",
   "execution_count": null,
   "metadata": {},
   "outputs": [],
   "source": [
    "opt_params = {'lr': 0.001}\n",
    "model_params = {'D_in': 29*29+14, 'H': 2048, 'D_out': 1, 'model_name': 'funnel'}\n",
    "ds_params = {'n': 133885, \n",
    "             'features': ['coulomb','A','B','C','alpha','homo','lumo',\n",
    "                          'gap','r2','zpve','U0','U','H','G','Cv'], \n",
    "             'target': 'mu',\n",
    "             'dim': 29*29,\n",
    "             'use_pickle': True}\n",
    "crit_params = {'reduction': 'sum'}\n",
    "\n",
    "Learn(Dataset=QM9, Model=FFNet, Sampler=Selector, Optimizer=Adam, Criterion=MSELoss,\n",
    "      batch_size=32, epochs=2, model_params=model_params, ds_params=ds_params, \n",
    "      opt_params=opt_params, crit_params=crit_params, save_model=True, load_model=False)"
   ]
  },
  {
   "cell_type": "code",
   "execution_count": null,
   "metadata": {},
   "outputs": [],
   "source": [
    "opt_params = {'lr': 0.001}\n",
    "model_params = {'D_in': 198+3, 'H': 512, 'D_out': 1, 'model_name': 'funnel'}\n",
    "ds_params = {'n': 4658146, \n",
    "             'features': ['mulliken_charge_x','mulliken_charge_y','potential_energy'],\n",
    "             'use_h5': True,  \n",
    "             'infer': False}\n",
    "crit_params = {'reduction': 'sum'}\n",
    "\n",
    "Learn(Dataset=Champs, Model=FFNet, Sampler=Selector, Optimizer=Adam, Criterion=MSELoss,\n",
    "      batch_size=1024, epochs=10, model_params=model_params, ds_params=ds_params, \n",
    "      opt_params=opt_params, crit_params=crit_params, save_model=True, load_model=False)"
   ]
  },
  {
   "cell_type": "code",
   "execution_count": null,
   "metadata": {},
   "outputs": [],
   "source": []
  },
  {
   "cell_type": "code",
   "execution_count": null,
   "metadata": {},
   "outputs": [],
   "source": [
    "# A DEMONSTRATION OF TRANSFER LEARNING\n",
    "\n",
    "# train a model and save it\n",
    "opt_params = {'lr': 0.001}\n",
    "model_params = {'D_in': 29*29+15+198+3, 'H': 2048, 'D_out': 1, 'model_name': 'deep'}\n",
    "qm9_params = {'n': 133885, \n",
    "              'features': ['coulomb','A','B','C','mu','alpha','homo','lumo', \n",
    "                           'gap','r2','zpve','U0','U','H','G','Cv'],  \n",
    "              'dim': 29*29, \n",
    "              'use_pickle': True}\n",
    "champs_params = {'n': 4658146, \n",
    "                 'features': ['mulliken_charge_x','mulliken_charge_y','potential_energy'],\n",
    "                 'use_h5': True,  \n",
    "                 'infer': False}\n",
    "crit_params = {'reduction': 'sum'}\n",
    "\n",
    "ds_params = {'PrimaryDS': Champs, 'SecondaryDS': QM9, 'p_params': champs_params, 's_params': qm9_params}\n",
    "\n",
    "Learn(Dataset=SuperSet, Model=FFNet, Sampler=Selector, Optimizer=Adam, Criterion=MSELoss,\n",
    "      batch_size=32, epochs=10, model_params=model_params, ds_params=ds_params,\n",
    "      opt_params=opt_params, crit_params=crit_params, save_model=True, load_model=False)"
   ]
  },
  {
   "cell_type": "code",
   "execution_count": null,
   "metadata": {},
   "outputs": [],
   "source": [
    "# load the model and train it some more and save it\n",
    "opt_params = {'lr': 0.001}\n",
    "model_params = {'D_in': 29*29+15+198+3, 'H': 2048, 'D_out': 1, 'model_name': 'deep'}\n",
    "qm9_params = {'n': 133885, \n",
    "              'features': ['coulomb','A','B','C','mu','alpha','homo','lumo', \n",
    "                           'gap','r2','zpve','U0','U','H','G','Cv'],  \n",
    "              'dim': 29*29, \n",
    "              'use_pickle': True}\n",
    "champs_params = {'n': 4658146, \n",
    "                 'features': ['mulliken_charge_x','mulliken_charge_y','potential_energy'],\n",
    "                 'use_h5': True,  \n",
    "                 'infer': False}\n",
    "crit_params = {'reduction': 'sum'}\n",
    "\n",
    "ds_params = {'PrimaryDS': Champs, 'SecondaryDS': QM9, 'p_params': champs_params, 's_params': qm9_params}\n",
    "\n",
    "Learn(Dataset=SuperSet, Model=FFNet, Sampler=Selector, Optimizer=Adam, Criterion=MSELoss,\n",
    "      batch_size=32, epochs=2, model_params=model_params, ds_params=ds_params,\n",
    "      opt_params=opt_params, crit_params=crit_params, save_model=True, load_model='./models/20200524_1259.pth')"
   ]
  },
  {
   "cell_type": "code",
   "execution_count": null,
   "metadata": {},
   "outputs": [],
   "source": [
    "# load a model that was trained on a different sized \n",
    "# dataset and adapt it to the new dataset, train only the top\n",
    "# layer and save it\n",
    "opt_params = {'lr': 0.001}\n",
    "model_params = {'D_in': 29*29+15+198+3, 'H': 2048, 'D_out': 1, 'model_name': 'deep'}\n",
    "qm9_params = {'n': 133885, \n",
    "              'features': ['coulomb','A','B','C','mu','alpha','homo','lumo', \n",
    "                           'gap','r2','zpve','U0','U','H','G','Cv'],  \n",
    "              'dim': 29*29, \n",
    "              'use_pickle': True}\n",
    "champs_params = {'n': 4658146, \n",
    "                 'features': [],\n",
    "                 'use_h5': True,  \n",
    "                 'infer': False}\n",
    "crit_params = {'reduction': 'sum'}\n",
    "\n",
    "ds_params = {'PrimaryDS': Champs, 'SecondaryDS': QM9, 'p_params': champs_params, 's_params': qm9_params}\n",
    "\n",
    "Learn(Dataset=SuperSet, Model=FFNet, Sampler=Selector, Optimizer=Adam, Criterion=MSELoss,\n",
    "      batch_size=32, epochs=3, model_params=model_params, ds_params=ds_params,\n",
    "      opt_params=opt_params, crit_params=crit_params, save_model=True, \n",
    "      load_model='./models/20200524_1259.pth', adapt=(29*29+15+198,29*29+15+198+3))"
   ]
  },
  {
   "cell_type": "code",
   "execution_count": null,
   "metadata": {},
   "outputs": [],
   "source": [
    "# load the model and train all the layers and save it\n",
    "opt_params = {'lr': 0.001}\n",
    "model_params = {'D_in': 29*29+15+198, 'H': 2048, 'D_out': 1, 'model_name': 'deep'}\n",
    "qm9_params = {'n': 133885, \n",
    "              'features': ['coulomb','A','B','C','mu','alpha','homo','lumo', \n",
    "                           'gap','r2','zpve','U0','U','H','G','Cv'],  \n",
    "              'dim': 29*29, \n",
    "              'use_pickle': True}\n",
    "champs_params = {'n': 4658146, \n",
    "                 'features': ['mulliken_charge_x','mulliken_charge_y','potential_energy'],\n",
    "                 'use_h5': True,  \n",
    "                 'infer': False}\n",
    "crit_params = {'reduction': 'sum'}\n",
    "\n",
    "ds_params = {'PrimaryDS': Champs, 'SecondaryDS': QM9, 'p_params': champs_params, 's_params': qm9_params}\n",
    "\n",
    "Learn(Dataset=SuperSet, Model=FFNet, Sampler=Selector, Optimizer=Adam, Criterion=MSELoss,\n",
    "      batch_size=32, epochs=2, model_params=model_params, ds_params=ds_params,\n",
    "      opt_params=opt_params, crit_params=crit_params, save_model=True, load_model='./models/20200524_1259.pth')"
   ]
  },
  {
   "cell_type": "code",
   "execution_count": null,
   "metadata": {},
   "outputs": [],
   "source": [
    "# load the model and perform inference on a test set and save the results\n",
    "opt_params = {'lr': 0.001}\n",
    "model_params = {'D_in': 29*29+15+198, 'H': 2048, 'D_out': 1, 'model_name': 'deep', 'adapt': False}\n",
    "qm9_params = {'n': 133885, \n",
    "              'features': ['coulomb','A','B','C','mu','alpha','homo','lumo', \n",
    "                           'gap','r2','zpve','U0','U','H','G','Cv'],  \n",
    "              'dim': 29*29, \n",
    "              'use_pickle': True}\n",
    "champs_params = {'n': 4658146,\n",
    "                 'use_h5': True,  \n",
    "                 'infer': True}\n",
    "crit_params = {'reduction': 'sum'}\n",
    "\n",
    "ds_params = {'PrimaryDS': Champs, 'SecondaryDS': QM9, 'p_params': champs_params, 's_params': qm9_params}\n",
    "\n",
    "Learn(Dataset=SuperSet, Model=FFNet, Sampler=Selector, batch_size=32, model_params=model_params, \n",
    "      ds_params=ds_params, load_model='./models/20200524_1259.pth')"
   ]
  },
  {
   "cell_type": "code",
   "execution_count": null,
   "metadata": {},
   "outputs": [],
   "source": []
  }
 ],
 "metadata": {
  "kernelspec": {
   "display_name": "Python 3",
   "language": "python",
   "name": "python3"
  },
  "language_info": {
   "codemirror_mode": {
    "name": "ipython",
    "version": 3
   },
   "file_extension": ".py",
   "mimetype": "text/x-python",
   "name": "python",
   "nbconvert_exporter": "python",
   "pygments_lexer": "ipython3",
   "version": "3.7.5"
  }
 },
 "nbformat": 4,
 "nbformat_minor": 2
}
