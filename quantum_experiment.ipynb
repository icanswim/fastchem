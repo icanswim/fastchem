{
 "cells": [
  {
   "cell_type": "code",
   "execution_count": 1,
   "metadata": {},
   "outputs": [
    {
     "name": "stderr",
     "output_type": "stream",
     "text": [
      "RDKit WARNING: [22:02:31] Enabling RDKit 2019.09.3 jupyter extensions\n"
     ]
    }
   ],
   "source": [
    "from quantum_dataset import QM7, QM7b, QM9, Champs, SuperSet\n",
    "from quantum_learning import Learn, Selector\n",
    "from quantum_model import FFNet\n",
    "from torch.optim import Adam\n",
    "from torch.nn import MSELoss"
   ]
  },
  {
   "cell_type": "code",
   "execution_count": null,
   "metadata": {},
   "outputs": [],
   "source": [
    "opt_params = {'lr': 0.001}\n",
    "model_params = {'D_in': 23*23, \n",
    "                'H': 4096, \n",
    "                'D_out': 1, \n",
    "                'model_name': 'funnel'}\n",
    "ds_params = {}\n",
    "crit_params = {'reduction': 'sum'}\n",
    "\n",
    "Learn(Dataset=QM7, Model=FFNet, Sampler=Selector, Optimizer=Adam, Criterion=MSELoss, \n",
    "      batch_size=32, epochs=10, opt_params=opt_params, model_params=model_params, \n",
    "      ds_params=ds_params, crit_params=crit_params, save_model=True, load_model=False)"
   ]
  },
  {
   "cell_type": "code",
   "execution_count": null,
   "metadata": {},
   "outputs": [],
   "source": [
    "opt_params = {'lr': 0.001}\n",
    "model_params = {'D_in': 23*23+13, 'H': 4096, 'D_out': 1, 'model_name': 'funnel'}\n",
    "ds_params = {'target': 'E', \n",
    "             'features': ['alpha_p','alpha_s','HOMO_g','HOMO_p','HOMO_z','LUMO_g',\n",
    "                          'LUMO_p','LUMO_z','IP','EA','E1','Emax','Imax']}\n",
    "crit_params = {'reduction': 'sum'}\n",
    "\n",
    "Learn(Dataset=QM7b, Model=FFNet, Sampler=Selector, \n",
    "      Optimizer=Adam, Criterion=MSELoss, batch_size=32, epochs=10, \n",
    "      opt_params=opt_params, model_params=model_params, ds_params=ds_params, \n",
    "      crit_params=crit_params, save_model=True, load_model=False)"
   ]
  },
  {
   "cell_type": "code",
   "execution_count": null,
   "metadata": {},
   "outputs": [],
   "source": [
    "opt_params = {'lr': 0.001}\n",
    "model_params = {'D_in': 29*29+14, 'H': 2048, 'D_out': 1, 'model_name': 'funnel'}\n",
    "ds_params = {'n': 133885, \n",
    "             'features': ['coulomb','A','B','C','alpha','homo','lumo',\n",
    "                          'gap','r2','zpve','U0','U','H','G','Cv'], \n",
    "             'target': 'mu',\n",
    "             'dim': 29*29,\n",
    "             'use_pickle': True}\n",
    "crit_params = {'reduction': 'sum'}\n",
    "\n",
    "Learn(Dataset=QM9, Model=FFNet, Sampler=Selector, Optimizer=Adam, Criterion=MSELoss,\n",
    "      batch_size=32, epochs=2, model_params=model_params, ds_params=ds_params, \n",
    "      opt_params=opt_params, crit_params=crit_params, save_model=True, load_model=False)"
   ]
  },
  {
   "cell_type": "code",
   "execution_count": null,
   "metadata": {},
   "outputs": [],
   "source": [
    "opt_params = {'lr': 0.001}\n",
    "model_params = {'D_in': 198+3, 'H': 512, 'D_out': 1, 'model_name': 'funnel'}\n",
    "ds_params = {'n': 4658146, \n",
    "             'features': ['mulliken_charge_x','mulliken_charge_y','potential_energy'],\n",
    "             'use_h5': True,  \n",
    "             'infer': False}\n",
    "crit_params = {'reduction': 'sum'}\n",
    "\n",
    "Learn(Dataset=Champs, Model=FFNet, Sampler=Selector, Optimizer=Adam, Criterion=MSELoss,\n",
    "      batch_size=1024, epochs=10, model_params=model_params, ds_params=ds_params, \n",
    "      opt_params=opt_params, crit_params=crit_params, save_model=True, load_model=False)"
   ]
  },
  {
   "cell_type": "code",
   "execution_count": null,
   "metadata": {},
   "outputs": [],
   "source": []
  },
  {
   "cell_type": "code",
   "execution_count": null,
   "metadata": {},
   "outputs": [],
   "source": [
    "# A DEMONSTRATION OF TRANSFER LEARNING\n",
    "\n",
    "# train a model and save it\n",
    "opt_params = {'lr': 0.001}\n",
    "model_params = {'D_in': 29*29+15+198+3, 'H': 2048, 'D_out': 1, 'model_name': 'deep'}\n",
    "qm9_params = {'n': 133885, \n",
    "              'features': ['coulomb','A','B','C','mu','alpha','homo','lumo', \n",
    "                           'gap','r2','zpve','U0','U','H','G','Cv'],  \n",
    "              'dim': 29*29, \n",
    "              'use_pickle': True}\n",
    "champs_params = {'n': 4658146, \n",
    "                 'features': ['mulliken_charge_x','mulliken_charge_y','potential_energy'],\n",
    "                 'use_h5': True,  \n",
    "                 'infer': False}\n",
    "crit_params = {'reduction': 'sum'}\n",
    "\n",
    "ds_params = {'PrimaryDS': Champs, 'SecondaryDS': QM9, 'p_params': champs_params, 's_params': qm9_params}\n",
    "\n",
    "Learn(Dataset=SuperSet, Model=FFNet, Sampler=Selector, Optimizer=Adam, Criterion=MSELoss,\n",
    "      batch_size=32, epochs=10, model_params=model_params, ds_params=ds_params,\n",
    "      opt_params=opt_params, crit_params=crit_params, save_model=True, load_model=False)"
   ]
  },
  {
   "cell_type": "code",
   "execution_count": null,
   "metadata": {},
   "outputs": [],
   "source": [
    "# load the model and train it some more and save it\n",
    "opt_params = {'lr': 0.001}\n",
    "model_params = {'D_in': 29*29+15+198+3, 'H': 2048, 'D_out': 1, 'model_name': 'deep'}\n",
    "qm9_params = {'n': 133885, \n",
    "              'features': ['coulomb','A','B','C','mu','alpha','homo','lumo', \n",
    "                           'gap','r2','zpve','U0','U','H','G','Cv'],  \n",
    "              'dim': 29*29, \n",
    "              'use_pickle': True}\n",
    "champs_params = {'n': 4658146, \n",
    "                 'features': ['mulliken_charge_x','mulliken_charge_y','potential_energy'],\n",
    "                 'use_h5': True,  \n",
    "                 'infer': False}\n",
    "crit_params = {'reduction': 'sum'}\n",
    "\n",
    "ds_params = {'PrimaryDS': Champs, 'SecondaryDS': QM9, 'p_params': champs_params, 's_params': qm9_params}\n",
    "\n",
    "Learn(Dataset=SuperSet, Model=FFNet, Sampler=Selector, Optimizer=Adam, Criterion=MSELoss,\n",
    "      batch_size=32, epochs=2, model_params=model_params, ds_params=ds_params,\n",
    "      opt_params=opt_params, crit_params=crit_params, save_model=True, load_model='./models/20200524_1259.pth')"
   ]
  },
  {
   "cell_type": "code",
   "execution_count": null,
   "metadata": {},
   "outputs": [
    {
     "name": "stdout",
     "output_type": "stream",
     "text": [
      "creating Champs h5 dataset...\n",
      "loading QM9 datadic from a pickled copy...\n",
      "<class 'quantum_dataset.SuperSet'> dataset created...\n",
      "self.layers ModuleList(\n",
      "  (0): BatchNorm1d(1054, eps=1e-05, momentum=0.1, affine=True, track_running_stats=True)\n",
      "  (1): Linear(in_features=1054, out_features=1057, bias=True)\n",
      "  (2): SELU()\n",
      "  (3): Dropout(p=0.2, inplace=False)\n",
      "  (4): BatchNorm1d(1057, eps=1e-05, momentum=0.1, affine=True, track_running_stats=True)\n",
      "  (5): Linear(in_features=1057, out_features=2048, bias=True)\n",
      "  (6): SELU()\n",
      "  (7): Dropout(p=0.2, inplace=False)\n",
      "  (8): BatchNorm1d(2048, eps=1e-05, momentum=0.1, affine=True, track_running_stats=True)\n",
      "  (9): Linear(in_features=2048, out_features=2048, bias=True)\n",
      "  (10): SELU()\n",
      "  (11): Dropout(p=0.2, inplace=False)\n",
      "  (12): BatchNorm1d(2048, eps=1e-05, momentum=0.1, affine=True, track_running_stats=True)\n",
      "  (13): Linear(in_features=2048, out_features=2048, bias=True)\n",
      "  (14): SELU()\n",
      "  (15): Dropout(p=0.4, inplace=False)\n",
      "  (16): BatchNorm1d(2048, eps=1e-05, momentum=0.1, affine=True, track_running_stats=True)\n",
      "  (17): Linear(in_features=2048, out_features=1024, bias=True)\n",
      "  (18): SELU()\n",
      "  (19): Dropout(p=0.4, inplace=False)\n",
      "  (20): BatchNorm1d(1024, eps=1e-05, momentum=0.1, affine=True, track_running_stats=True)\n",
      "  (21): Linear(in_features=1024, out_features=1024, bias=True)\n",
      "  (22): SELU()\n",
      "  (23): Dropout(p=0.2, inplace=False)\n",
      "  (24): BatchNorm1d(1024, eps=1e-05, momentum=0.1, affine=True, track_running_stats=True)\n",
      "  (25): Linear(in_features=1024, out_features=1024, bias=True)\n",
      "  (26): SELU()\n",
      "  (27): Dropout(p=0.4, inplace=False)\n",
      "  (28): BatchNorm1d(1024, eps=1e-05, momentum=0.1, affine=True, track_running_stats=True)\n",
      "  (29): Linear(in_features=1024, out_features=1024, bias=True)\n",
      "  (30): SELU()\n",
      "  (31): Dropout(p=0.4, inplace=False)\n",
      "  (32): BatchNorm1d(1024, eps=1e-05, momentum=0.1, affine=True, track_running_stats=True)\n",
      "  (33): Linear(in_features=1024, out_features=512, bias=True)\n",
      "  (34): SELU()\n",
      "  (35): Dropout(p=0.4, inplace=False)\n",
      "  (36): Linear(in_features=512, out_features=1, bias=True)\n",
      ")\n"
     ]
    }
   ],
   "source": [
    "# load a model that was trained on a different sized (m features)\n",
    "# dataset and adapt it to the new dataset, train only the top\n",
    "# layer and save it\n",
    "opt_params = {'lr': 0.001}\n",
    "model_params = {'D_in': 29*29+15+198+3, 'H': 2048, 'D_out': 1, 'model_name': 'deep'}\n",
    "qm9_params = {'n': 133885, \n",
    "              'features': ['coulomb','A','B','C','mu','alpha','homo','lumo', \n",
    "                           'gap','r2','zpve','U0','U','H','G','Cv'],  \n",
    "              'dim': 29*29, \n",
    "              'use_pickle': True}\n",
    "champs_params = {'n': 4658146, \n",
    "                 'features': [],\n",
    "                 'use_h5': True,  \n",
    "                 'infer': False}\n",
    "crit_params = {'reduction': 'sum'}\n",
    "\n",
    "ds_params = {'PrimaryDS': Champs, 'SecondaryDS': QM9, 'p_params': champs_params, 's_params': qm9_params}\n",
    "\n",
    "Learn(Dataset=SuperSet, Model=FFNet, Sampler=Selector, Optimizer=Adam, Criterion=MSELoss,\n",
    "      batch_size=32, epochs=3, model_params=model_params, ds_params=ds_params,\n",
    "      opt_params=opt_params, crit_params=crit_params, save_model=True, \n",
    "      load_model='./models/20200524_1259.pth', adapt=(29*29+15+198,29*29+15+198+3))"
   ]
  },
  {
   "cell_type": "code",
   "execution_count": null,
   "metadata": {},
   "outputs": [],
   "source": [
    "# load the model and train all the layers and save it\n",
    "opt_params = {'lr': 0.001}\n",
    "model_params = {'D_in': 29*29+15+198, 'H': 2048, 'D_out': 1, 'model_name': 'deep'}\n",
    "qm9_params = {'n': 133885, \n",
    "              'features': ['coulomb','A','B','C','mu','alpha','homo','lumo', \n",
    "                           'gap','r2','zpve','U0','U','H','G','Cv'],  \n",
    "              'dim': 29*29, \n",
    "              'use_pickle': True}\n",
    "champs_params = {'n': 4658146, \n",
    "                 'features': ['mulliken_charge_x','mulliken_charge_y','potential_energy'],\n",
    "                 'use_h5': True,  \n",
    "                 'infer': False}\n",
    "crit_params = {'reduction': 'sum'}\n",
    "\n",
    "ds_params = {'PrimaryDS': Champs, 'SecondaryDS': QM9, 'p_params': champs_params, 's_params': qm9_params}\n",
    "\n",
    "Learn(Dataset=SuperSet, Model=FFNet, Sampler=Selector, Optimizer=Adam, Criterion=MSELoss,\n",
    "      batch_size=32, epochs=2, model_params=model_params, ds_params=ds_params,\n",
    "      opt_params=opt_params, crit_params=crit_params, save_model=True, load_model='./models/20200524_1259.pth')"
   ]
  },
  {
   "cell_type": "code",
   "execution_count": null,
   "metadata": {},
   "outputs": [],
   "source": [
    "# load the model and perform inference on a test set and save the results\n",
    "opt_params = {'lr': 0.001}\n",
    "model_params = {'D_in': 29*29+15+198, 'H': 2048, 'D_out': 1, 'model_name': 'deep', 'adapt': False}\n",
    "qm9_params = {'n': 133885, \n",
    "              'features': ['coulomb','A','B','C','mu','alpha','homo','lumo', \n",
    "                           'gap','r2','zpve','U0','U','H','G','Cv'],  \n",
    "              'dim': 29*29, \n",
    "              'use_pickle': True}\n",
    "champs_params = {'n': 4658146,\n",
    "                 'use_h5': True,  \n",
    "                 'infer': True}\n",
    "crit_params = {'reduction': 'sum'}\n",
    "\n",
    "ds_params = {'PrimaryDS': Champs, 'SecondaryDS': QM9, 'p_params': champs_params, 's_params': qm9_params}\n",
    "\n",
    "Learn(Dataset=SuperSet, Model=FFNet, Sampler=Selector, batch_size=32, model_params=model_params, \n",
    "      ds_params=ds_params, load_model='./models/20200524_1259.pth')"
   ]
  },
  {
   "cell_type": "code",
   "execution_count": null,
   "metadata": {},
   "outputs": [],
   "source": []
  }
 ],
 "metadata": {
  "kernelspec": {
   "display_name": "Python 3",
   "language": "python",
   "name": "python3"
  },
  "language_info": {
   "codemirror_mode": {
    "name": "ipython",
    "version": 3
   },
   "file_extension": ".py",
   "mimetype": "text/x-python",
   "name": "python",
   "nbconvert_exporter": "python",
   "pygments_lexer": "ipython3",
   "version": "3.7.5"
  }
 },
 "nbformat": 4,
 "nbformat_minor": 2
}
