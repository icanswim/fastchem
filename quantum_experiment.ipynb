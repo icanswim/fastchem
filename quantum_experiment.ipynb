{
 "cells": [
  {
   "cell_type": "code",
   "execution_count": 1,
   "metadata": {},
   "outputs": [
    {
     "name": "stderr",
     "output_type": "stream",
     "text": [
      "RDKit WARNING: [20:32:19] Enabling RDKit 2019.09.3 jupyter extensions\n"
     ]
    }
   ],
   "source": [
    "from quantum_dataset import QM7, QM7b, QM9, Champs, SuperSet\n",
    "from quantum_learning import Learn, Selector\n",
    "from quantum_model import FFNet\n",
    "from torch.optim import Adam\n",
    "from torch.nn import MSELoss"
   ]
  },
  {
   "cell_type": "code",
   "execution_count": null,
   "metadata": {},
   "outputs": [],
   "source": [
    "opt_params = {'lr': 0.001}\n",
    "model_params = {'D_in': 23*23, 'H': 4096, 'D_out': 1, 'model_name': 'funnel'}\n",
    "ds_params = {}\n",
    "crit_params = {'reduction': 'sum'}\n",
    "\n",
    "Learn(Dataset=QM7, Model=FFNet, Sampler=Selector, Optimizer=Adam, Criterion=MSELoss, \n",
    "      batch_size=32, epochs=10, opt_params=opt_params, model_params=model_params, \n",
    "      ds_params=ds_params, crit_params=crit_params, save_model=True, load_model=False)"
   ]
  },
  {
   "cell_type": "code",
   "execution_count": null,
   "metadata": {},
   "outputs": [],
   "source": [
    "opt_params = {'lr': 0.001}\n",
    "model_params = {'D_in': 23*23+13, 'H': 4096, 'D_out': 1, 'model_name': 'funnel'}\n",
    "ds_params = {'target': 'E', 'features': ['alpha_p','alpha_s','HOMO_g','HOMO_p',\n",
    "             'HOMO_z','LUMO_g','LUMO_p','LUMO_z','IP','EA','E1','Emax','Imax']}\n",
    "crit_params = {'reduction': 'sum'}\n",
    "\n",
    "Learn(Dataset=QM7b, Model=FFNet, Sampler=Selector, \n",
    "      Optimizer=Adam, Criterion=MSELoss, batch_size=32, epochs=2, \n",
    "      opt_params=opt_params, model_params=model_params, ds_params=ds_params, \n",
    "      crit_params=crit_params, save_model=True, load_model=False)"
   ]
  },
  {
   "cell_type": "code",
   "execution_count": null,
   "metadata": {},
   "outputs": [],
   "source": [
    "opt_params = {'lr': 0.001}\n",
    "model_params = {'D_in': 29*29, 'H': 2048, 'D_out': 1, 'model_name': 'funnel'}\n",
    "ds_params = {'n': 133885, 'features': ['coulomb'], 'target': 'H', 'dim': 29*29, 'use_pickle': True}\n",
    "crit_params = {'reduction': 'sum'}\n",
    "\n",
    "Learn(Dataset=QM9, Model=FFNet, Sampler=Selector, Optimizer=Adam, Criterion=MSELoss,\n",
    "      batch_size=32, epochs=10, model_params=model_params, ds_params=ds_params, \n",
    "      opt_params=opt_params, crit_params=crit_params, save_model=True, load_model=False)"
   ]
  },
  {
   "cell_type": "code",
   "execution_count": null,
   "metadata": {
    "scrolled": false
   },
   "outputs": [],
   "source": [
    "opt_params = {'lr': 0.001}\n",
    "model_params = {'D_in': 198, 'H': 512, 'D_out': 1, 'model_name': 'funnel'}\n",
    "ds_params = {'n': 4658146, 'use_h5': True,  'infer': False}\n",
    "crit_params = {'reduction': 'sum'}\n",
    "\n",
    "Learn(Dataset=Champs, Model=FFNet, Sampler=Selector, Optimizer=Adam, Criterion=MSELoss,\n",
    "      batch_size=2048, epochs=10, model_params=model_params, ds_params=ds_params, \n",
    "      opt_params=opt_params, crit_params=crit_params, save_model=True, load_model=False)"
   ]
  },
  {
   "cell_type": "code",
   "execution_count": null,
   "metadata": {},
   "outputs": [],
   "source": [
    "opt_params = {'lr': 0.001}\n",
    "model_params = {'D_in': 198, 'H': 512, 'D_out': 1, 'model_name': 'funnel'}\n",
    "ds_params = {'n': 4658146, 'use_h5': True,  'infer': False}\n",
    "crit_params = {'reduction': 'sum'}\n",
    "\n",
    "Learn(Dataset=Champs, Model=FFNet, Sampler=Selector, Optimizer=Adam, Criterion=MSELoss,\n",
    "      batch_size=2048, epochs=2, model_params=model_params, ds_params=ds_params, \n",
    "      opt_params=opt_params, crit_params=crit_params, save_model=True, load_model='./models/20200519_1450.pth')"
   ]
  },
  {
   "cell_type": "code",
   "execution_count": null,
   "metadata": {},
   "outputs": [
    {
     "name": "stdout",
     "output_type": "stream",
     "text": [
      "creating Champs h5 dataset...\n"
     ]
    }
   ],
   "source": [
    "model_params = {'D_in': 198, 'H': 512, 'D_out': 1, 'model_name': 'funnel'}\n",
    "ds_params = {'n': 2505542, 'infer': True}\n",
    "\n",
    "Learn(Dataset=Champs, Model=FFNet, Sampler=Selector,\n",
    "      batch_size=2048, model_params=model_params, ds_params=ds_params, \n",
    "      load_model='./models/20200519_1450.pth')\n"
   ]
  },
  {
   "cell_type": "code",
   "execution_count": null,
   "metadata": {},
   "outputs": [],
   "source": [
    "ds_params = {'n': 4658146, 'infer': True}\n",
    "c = Champs(**ds_params)\n",
    "c[1]"
   ]
  },
  {
   "cell_type": "code",
   "execution_count": null,
   "metadata": {},
   "outputs": [],
   "source": [
    "ds_params = {'n': 4658146, 'use_h5': True,  'infer': False}\n",
    "c = Champs(**ds_params)\n",
    "c[1]"
   ]
  },
  {
   "cell_type": "code",
   "execution_count": null,
   "metadata": {},
   "outputs": [],
   "source": [
    "q_params = {'n': 133885, 'features': ['coulomb'], 'target': 'H', 'dim': 29*29, 'use_pickle': True}\n",
    "c_params = {'n': 4658146, 'use_h5': True,  'infer': False}\n",
    "s = SuperSet(Champs, QM9, c_params, q_params)"
   ]
  },
  {
   "cell_type": "code",
   "execution_count": null,
   "metadata": {},
   "outputs": [],
   "source": [
    "s[4]"
   ]
  },
  {
   "cell_type": "code",
   "execution_count": null,
   "metadata": {},
   "outputs": [],
   "source": []
  }
 ],
 "metadata": {
  "kernelspec": {
   "display_name": "Python 3",
   "language": "python",
   "name": "python3"
  },
  "language_info": {
   "codemirror_mode": {
    "name": "ipython",
    "version": 3
   },
   "file_extension": ".py",
   "mimetype": "text/x-python",
   "name": "python",
   "nbconvert_exporter": "python",
   "pygments_lexer": "ipython3",
   "version": "3.7.5"
  }
 },
 "nbformat": 4,
 "nbformat_minor": 2
}
